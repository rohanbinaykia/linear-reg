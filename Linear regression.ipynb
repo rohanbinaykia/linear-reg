{
 "cells": [
  {
   "cell_type": "markdown",
   "metadata": {},
   "source": [
    "# LINEAR REGRESSION"
   ]
  },
  {
   "cell_type": "markdown",
   "metadata": {},
   "source": [
    "### importing libraries"
   ]
  },
  {
   "cell_type": "code",
   "execution_count": 3,
   "metadata": {
    "colab": {},
    "colab_type": "code",
    "id": "eWchGPfa9xW9"
   },
   "outputs": [],
   "source": [
    "#importing libraries \n",
    "import pandas as pd \n",
    "import numpy as np\n",
    "import matplotlib.pyplot as plt\n",
    "%matplotlib inline\n",
    "import sklearn\n",
    "import seaborn as sns\n",
    "import math\n",
    "import statsmodels.api as sm"
   ]
  },
  {
   "cell_type": "code",
   "execution_count": 4,
   "metadata": {},
   "outputs": [],
   "source": [
    "\n",
    "from sklearn.linear_model import Ridge\n",
    "from sklearn.metrics import f1_score as f1\n",
    "from sklearn.preprocessing import LabelEncoder\n",
    "from sklearn.preprocessing import StandardScaler \n",
    "from sklearn.linear_model import LinearRegression as lr\n",
    "from sklearn.model_selection import KFold, StratifiedKFold, train_test_split\n",
    "from sklearn.metrics import mean_squared_error as rmse,mean_absolute_error as mae, mean_squared_log_error as rmsle\n",
    "\n",
    "from pandas.core.common import SettingWithCopyWarning\n",
    "import warnings\n",
    "warnings.simplefilter(action='ignore', category=FutureWarning)\n",
    "warnings.simplefilter(action='ignore', category=UserWarning)\n",
    "warnings.simplefilter(action='ignore', category=RuntimeWarning)\n",
    "warnings.simplefilter(action='ignore', category=SettingWithCopyWarning)\n",
    "\n"
   ]
  },
  {
   "cell_type": "markdown",
   "metadata": {},
   "source": [
    "# random state"
   ]
  },
  {
   "cell_type": "code",
   "execution_count": 5,
   "metadata": {},
   "outputs": [],
   "source": [
    "r=76"
   ]
  },
  {
   "cell_type": "markdown",
   "metadata": {},
   "source": [
    "### importing data"
   ]
  },
  {
   "cell_type": "code",
   "execution_count": 6,
   "metadata": {},
   "outputs": [
    {
     "data": {
      "text/plain": [
       "'0.24.1'"
      ]
     },
     "execution_count": 6,
     "metadata": {},
     "output_type": "execute_result"
    }
   ],
   "source": [
    "sklearn.__version__"
   ]
  },
  {
   "cell_type": "code",
   "execution_count": 7,
   "metadata": {
    "colab": {
     "base_uri": "https://localhost:8080/",
     "height": 226
    },
    "colab_type": "code",
    "executionInfo": {
     "elapsed": 3051,
     "status": "ok",
     "timestamp": 1559907752330,
     "user": {
      "displayName": "Aishwarya Singh",
      "photoUrl": "https://lh5.googleusercontent.com/-72ZtNB76Qxg/AAAAAAAAAAI/AAAAAAAAAAc/Nsa5vQruND0/s64/photo.jpg",
      "userId": "01105858832371513140"
     },
     "user_tz": -330
    },
    "id": "NB5xYyHg9xXA",
    "outputId": "7eaac4d1-42cd-4178-96e1-e9ccabc75020",
    "scrolled": true
   },
   "outputs": [
    {
     "data": {
      "text/html": [
       "<div>\n",
       "<style scoped>\n",
       "    .dataframe tbody tr th:only-of-type {\n",
       "        vertical-align: middle;\n",
       "    }\n",
       "\n",
       "    .dataframe tbody tr th {\n",
       "        vertical-align: top;\n",
       "    }\n",
       "\n",
       "    .dataframe thead th {\n",
       "        text-align: right;\n",
       "    }\n",
       "</style>\n",
       "<table border=\"1\" class=\"dataframe\">\n",
       "  <thead>\n",
       "    <tr style=\"text-align: right;\">\n",
       "      <th></th>\n",
       "      <th>id</th>\n",
       "      <th>vendor_id</th>\n",
       "      <th>pickup_datetime</th>\n",
       "      <th>dropoff_datetime</th>\n",
       "      <th>passenger_count</th>\n",
       "      <th>pickup_longitude</th>\n",
       "      <th>pickup_latitude</th>\n",
       "      <th>dropoff_longitude</th>\n",
       "      <th>dropoff_latitude</th>\n",
       "      <th>store_and_fwd_flag</th>\n",
       "      <th>trip_duration</th>\n",
       "    </tr>\n",
       "  </thead>\n",
       "  <tbody>\n",
       "    <tr>\n",
       "      <th>0</th>\n",
       "      <td>id0185225</td>\n",
       "      <td>2</td>\n",
       "      <td>2016-05-24 06:43:46</td>\n",
       "      <td>2016-05-24 07:02:40</td>\n",
       "      <td>1</td>\n",
       "      <td>-73.944366</td>\n",
       "      <td>40.809509</td>\n",
       "      <td>-73.975502</td>\n",
       "      <td>40.756561</td>\n",
       "      <td>N</td>\n",
       "      <td>1134</td>\n",
       "    </tr>\n",
       "    <tr>\n",
       "      <th>1</th>\n",
       "      <td>id2680360</td>\n",
       "      <td>2</td>\n",
       "      <td>2016-02-03 21:30:06</td>\n",
       "      <td>2016-02-03 21:44:40</td>\n",
       "      <td>1</td>\n",
       "      <td>-73.995140</td>\n",
       "      <td>40.749779</td>\n",
       "      <td>-73.963448</td>\n",
       "      <td>40.765789</td>\n",
       "      <td>N</td>\n",
       "      <td>874</td>\n",
       "    </tr>\n",
       "    <tr>\n",
       "      <th>2</th>\n",
       "      <td>id1116134</td>\n",
       "      <td>2</td>\n",
       "      <td>2016-02-27 12:16:04</td>\n",
       "      <td>2016-02-27 12:20:01</td>\n",
       "      <td>1</td>\n",
       "      <td>-73.966042</td>\n",
       "      <td>40.805096</td>\n",
       "      <td>-73.961205</td>\n",
       "      <td>40.810154</td>\n",
       "      <td>N</td>\n",
       "      <td>237</td>\n",
       "    </tr>\n",
       "    <tr>\n",
       "      <th>3</th>\n",
       "      <td>id0134164</td>\n",
       "      <td>2</td>\n",
       "      <td>2016-06-09 11:03:12</td>\n",
       "      <td>2016-06-09 11:12:00</td>\n",
       "      <td>6</td>\n",
       "      <td>-73.975250</td>\n",
       "      <td>40.787834</td>\n",
       "      <td>-73.989952</td>\n",
       "      <td>40.775898</td>\n",
       "      <td>N</td>\n",
       "      <td>528</td>\n",
       "    </tr>\n",
       "    <tr>\n",
       "      <th>4</th>\n",
       "      <td>id2838892</td>\n",
       "      <td>1</td>\n",
       "      <td>2016-05-03 10:18:29</td>\n",
       "      <td>2016-05-03 10:24:33</td>\n",
       "      <td>1</td>\n",
       "      <td>-73.976608</td>\n",
       "      <td>40.739555</td>\n",
       "      <td>-73.975929</td>\n",
       "      <td>40.748917</td>\n",
       "      <td>N</td>\n",
       "      <td>364</td>\n",
       "    </tr>\n",
       "  </tbody>\n",
       "</table>\n",
       "</div>"
      ],
      "text/plain": [
       "          id  vendor_id      pickup_datetime     dropoff_datetime  \\\n",
       "0  id0185225          2  2016-05-24 06:43:46  2016-05-24 07:02:40   \n",
       "1  id2680360          2  2016-02-03 21:30:06  2016-02-03 21:44:40   \n",
       "2  id1116134          2  2016-02-27 12:16:04  2016-02-27 12:20:01   \n",
       "3  id0134164          2  2016-06-09 11:03:12  2016-06-09 11:12:00   \n",
       "4  id2838892          1  2016-05-03 10:18:29  2016-05-03 10:24:33   \n",
       "\n",
       "   passenger_count  pickup_longitude  pickup_latitude  dropoff_longitude  \\\n",
       "0                1        -73.944366        40.809509         -73.975502   \n",
       "1                1        -73.995140        40.749779         -73.963448   \n",
       "2                1        -73.966042        40.805096         -73.961205   \n",
       "3                6        -73.975250        40.787834         -73.989952   \n",
       "4                1        -73.976608        40.739555         -73.975929   \n",
       "\n",
       "   dropoff_latitude store_and_fwd_flag  trip_duration  \n",
       "0         40.756561                  N           1134  \n",
       "1         40.765789                  N            874  \n",
       "2         40.810154                  N            237  \n",
       "3         40.775898                  N            528  \n",
       "4         40.748917                  N            364  "
      ]
     },
     "execution_count": 7,
     "metadata": {},
     "output_type": "execute_result"
    }
   ],
   "source": [
    "data = pd.read_csv('nyc_taxi_trip_duration-10.csv')\n",
    "data.head()"
   ]
  },
  {
   "cell_type": "code",
   "execution_count": 8,
   "metadata": {},
   "outputs": [],
   "source": [
    "target='trip_duration'         \n",
    "model= lr(normalize = True)\n"
   ]
  },
  {
   "cell_type": "code",
   "execution_count": 9,
   "metadata": {},
   "outputs": [],
   "source": [
    "lr=lr(normalize = True)"
   ]
  },
  {
   "cell_type": "code",
   "execution_count": 10,
   "metadata": {
    "scrolled": true
   },
   "outputs": [
    {
     "data": {
      "text/plain": [
       "id                     object\n",
       "vendor_id               int64\n",
       "pickup_datetime        object\n",
       "dropoff_datetime       object\n",
       "passenger_count         int64\n",
       "pickup_longitude      float64\n",
       "pickup_latitude       float64\n",
       "dropoff_longitude     float64\n",
       "dropoff_latitude      float64\n",
       "store_and_fwd_flag     object\n",
       "trip_duration           int64\n",
       "dtype: object"
      ]
     },
     "execution_count": 10,
     "metadata": {},
     "output_type": "execute_result"
    }
   ],
   "source": [
    "data.dtypes"
   ]
  },
  {
   "cell_type": "code",
   "execution_count": 11,
   "metadata": {},
   "outputs": [],
   "source": [
    "data=data.drop('id', axis=1)"
   ]
  },
  {
   "cell_type": "code",
   "execution_count": 12,
   "metadata": {},
   "outputs": [
    {
     "data": {
      "text/plain": [
       "N    72514\n",
       "Y      418\n",
       "Name: store_and_fwd_flag, dtype: int64"
      ]
     },
     "execution_count": 12,
     "metadata": {},
     "output_type": "execute_result"
    }
   ],
   "source": [
    "data['store_and_fwd_flag'].value_counts()"
   ]
  },
  {
   "cell_type": "code",
   "execution_count": 13,
   "metadata": {},
   "outputs": [],
   "source": [
    "data['store_and_fwd_flag'][data['store_and_fwd_flag']=='N']=0"
   ]
  },
  {
   "cell_type": "code",
   "execution_count": 14,
   "metadata": {},
   "outputs": [],
   "source": [
    "data['store_and_fwd_flag'][data['store_and_fwd_flag']=='Y']=1"
   ]
  },
  {
   "cell_type": "code",
   "execution_count": 15,
   "metadata": {},
   "outputs": [
    {
     "data": {
      "text/plain": [
       "0    0\n",
       "1    0\n",
       "2    0\n",
       "3    0\n",
       "4    0\n",
       "Name: store_and_fwd_flag, dtype: object"
      ]
     },
     "execution_count": 15,
     "metadata": {},
     "output_type": "execute_result"
    }
   ],
   "source": [
    "data['store_and_fwd_flag'].head()"
   ]
  },
  {
   "cell_type": "code",
   "execution_count": 16,
   "metadata": {},
   "outputs": [],
   "source": [
    "# creating an instance(date) of DatetimeIndex class \n",
    "date1 = pd.DatetimeIndex(data['pickup_datetime'])\n",
    "date2 = pd.DatetimeIndex(data['dropoff_datetime'])"
   ]
  },
  {
   "cell_type": "code",
   "execution_count": 17,
   "metadata": {},
   "outputs": [],
   "source": [
    "data['doy_pickup'] = date1.dayofyear\n",
    "\n",
    "\n",
    "data['woy_pickup'] = date1.weekofyear\n",
    "\n",
    "\n",
    "data['moy_pickup'] = date1.month\n",
    "\n",
    "\n",
    "data['dow_pickup'] = date1.dayofweek\n",
    "\n",
    "data['doy_dropof'] = date2.dayofyear\n",
    "\n",
    "\n",
    "data['woy_dropof'] = date2.weekofyear\n",
    "\n",
    "\n",
    "data['moy_dropof'] = date2.month\n",
    "\n",
    "\n",
    "data['dow_dropof'] = date2.dayofweek\n",
    "\n",
    "\n",
    "\n"
   ]
  },
  {
   "cell_type": "code",
   "execution_count": 18,
   "metadata": {},
   "outputs": [
    {
     "data": {
      "text/html": [
       "<div>\n",
       "<style scoped>\n",
       "    .dataframe tbody tr th:only-of-type {\n",
       "        vertical-align: middle;\n",
       "    }\n",
       "\n",
       "    .dataframe tbody tr th {\n",
       "        vertical-align: top;\n",
       "    }\n",
       "\n",
       "    .dataframe thead th {\n",
       "        text-align: right;\n",
       "    }\n",
       "</style>\n",
       "<table border=\"1\" class=\"dataframe\">\n",
       "  <thead>\n",
       "    <tr style=\"text-align: right;\">\n",
       "      <th></th>\n",
       "      <th>pickup_datetime</th>\n",
       "      <th>doy_pickup</th>\n",
       "      <th>woy_pickup</th>\n",
       "      <th>moy_pickup</th>\n",
       "      <th>dow_pickup</th>\n",
       "      <th>doy_dropof</th>\n",
       "      <th>woy_dropof</th>\n",
       "      <th>moy_dropof</th>\n",
       "      <th>dow_dropof</th>\n",
       "    </tr>\n",
       "  </thead>\n",
       "  <tbody>\n",
       "    <tr>\n",
       "      <th>0</th>\n",
       "      <td>2016-05-24 06:43:46</td>\n",
       "      <td>145</td>\n",
       "      <td>21</td>\n",
       "      <td>5</td>\n",
       "      <td>1</td>\n",
       "      <td>145</td>\n",
       "      <td>21</td>\n",
       "      <td>5</td>\n",
       "      <td>1</td>\n",
       "    </tr>\n",
       "    <tr>\n",
       "      <th>1</th>\n",
       "      <td>2016-02-03 21:30:06</td>\n",
       "      <td>34</td>\n",
       "      <td>5</td>\n",
       "      <td>2</td>\n",
       "      <td>2</td>\n",
       "      <td>34</td>\n",
       "      <td>5</td>\n",
       "      <td>2</td>\n",
       "      <td>2</td>\n",
       "    </tr>\n",
       "    <tr>\n",
       "      <th>2</th>\n",
       "      <td>2016-02-27 12:16:04</td>\n",
       "      <td>58</td>\n",
       "      <td>8</td>\n",
       "      <td>2</td>\n",
       "      <td>5</td>\n",
       "      <td>58</td>\n",
       "      <td>8</td>\n",
       "      <td>2</td>\n",
       "      <td>5</td>\n",
       "    </tr>\n",
       "    <tr>\n",
       "      <th>3</th>\n",
       "      <td>2016-06-09 11:03:12</td>\n",
       "      <td>161</td>\n",
       "      <td>23</td>\n",
       "      <td>6</td>\n",
       "      <td>3</td>\n",
       "      <td>161</td>\n",
       "      <td>23</td>\n",
       "      <td>6</td>\n",
       "      <td>3</td>\n",
       "    </tr>\n",
       "    <tr>\n",
       "      <th>4</th>\n",
       "      <td>2016-05-03 10:18:29</td>\n",
       "      <td>124</td>\n",
       "      <td>18</td>\n",
       "      <td>5</td>\n",
       "      <td>1</td>\n",
       "      <td>124</td>\n",
       "      <td>18</td>\n",
       "      <td>5</td>\n",
       "      <td>1</td>\n",
       "    </tr>\n",
       "  </tbody>\n",
       "</table>\n",
       "</div>"
      ],
      "text/plain": [
       "       pickup_datetime  doy_pickup  woy_pickup  moy_pickup  dow_pickup  \\\n",
       "0  2016-05-24 06:43:46         145          21           5           1   \n",
       "1  2016-02-03 21:30:06          34           5           2           2   \n",
       "2  2016-02-27 12:16:04          58           8           2           5   \n",
       "3  2016-06-09 11:03:12         161          23           6           3   \n",
       "4  2016-05-03 10:18:29         124          18           5           1   \n",
       "\n",
       "   doy_dropof  woy_dropof  moy_dropof  dow_dropof  \n",
       "0         145          21           5           1  \n",
       "1          34           5           2           2  \n",
       "2          58           8           2           5  \n",
       "3         161          23           6           3  \n",
       "4         124          18           5           1  "
      ]
     },
     "execution_count": 18,
     "metadata": {},
     "output_type": "execute_result"
    }
   ],
   "source": [
    "# checking new extracted columns using datetime\n",
    "data[['pickup_datetime','doy_pickup','woy_pickup','moy_pickup','dow_pickup','doy_dropof','woy_dropof','moy_dropof','dow_dropof']].head()"
   ]
  },
  {
   "cell_type": "code",
   "execution_count": 19,
   "metadata": {},
   "outputs": [],
   "source": [
    "data=data.drop(['pickup_datetime','dropoff_datetime'],axis=1)"
   ]
  },
  {
   "cell_type": "code",
   "execution_count": 20,
   "metadata": {},
   "outputs": [
    {
     "data": {
      "text/html": [
       "<div>\n",
       "<style scoped>\n",
       "    .dataframe tbody tr th:only-of-type {\n",
       "        vertical-align: middle;\n",
       "    }\n",
       "\n",
       "    .dataframe tbody tr th {\n",
       "        vertical-align: top;\n",
       "    }\n",
       "\n",
       "    .dataframe thead th {\n",
       "        text-align: right;\n",
       "    }\n",
       "</style>\n",
       "<table border=\"1\" class=\"dataframe\">\n",
       "  <thead>\n",
       "    <tr style=\"text-align: right;\">\n",
       "      <th></th>\n",
       "      <th>vendor_id</th>\n",
       "      <th>passenger_count</th>\n",
       "      <th>pickup_longitude</th>\n",
       "      <th>pickup_latitude</th>\n",
       "      <th>dropoff_longitude</th>\n",
       "      <th>dropoff_latitude</th>\n",
       "      <th>store_and_fwd_flag</th>\n",
       "      <th>trip_duration</th>\n",
       "      <th>doy_pickup</th>\n",
       "      <th>woy_pickup</th>\n",
       "      <th>moy_pickup</th>\n",
       "      <th>dow_pickup</th>\n",
       "      <th>doy_dropof</th>\n",
       "      <th>woy_dropof</th>\n",
       "      <th>moy_dropof</th>\n",
       "      <th>dow_dropof</th>\n",
       "    </tr>\n",
       "  </thead>\n",
       "  <tbody>\n",
       "    <tr>\n",
       "      <th>0</th>\n",
       "      <td>2</td>\n",
       "      <td>1</td>\n",
       "      <td>-73.944366</td>\n",
       "      <td>40.809509</td>\n",
       "      <td>-73.975502</td>\n",
       "      <td>40.756561</td>\n",
       "      <td>0</td>\n",
       "      <td>1134</td>\n",
       "      <td>145</td>\n",
       "      <td>21</td>\n",
       "      <td>5</td>\n",
       "      <td>1</td>\n",
       "      <td>145</td>\n",
       "      <td>21</td>\n",
       "      <td>5</td>\n",
       "      <td>1</td>\n",
       "    </tr>\n",
       "    <tr>\n",
       "      <th>1</th>\n",
       "      <td>2</td>\n",
       "      <td>1</td>\n",
       "      <td>-73.995140</td>\n",
       "      <td>40.749779</td>\n",
       "      <td>-73.963448</td>\n",
       "      <td>40.765789</td>\n",
       "      <td>0</td>\n",
       "      <td>874</td>\n",
       "      <td>34</td>\n",
       "      <td>5</td>\n",
       "      <td>2</td>\n",
       "      <td>2</td>\n",
       "      <td>34</td>\n",
       "      <td>5</td>\n",
       "      <td>2</td>\n",
       "      <td>2</td>\n",
       "    </tr>\n",
       "    <tr>\n",
       "      <th>2</th>\n",
       "      <td>2</td>\n",
       "      <td>1</td>\n",
       "      <td>-73.966042</td>\n",
       "      <td>40.805096</td>\n",
       "      <td>-73.961205</td>\n",
       "      <td>40.810154</td>\n",
       "      <td>0</td>\n",
       "      <td>237</td>\n",
       "      <td>58</td>\n",
       "      <td>8</td>\n",
       "      <td>2</td>\n",
       "      <td>5</td>\n",
       "      <td>58</td>\n",
       "      <td>8</td>\n",
       "      <td>2</td>\n",
       "      <td>5</td>\n",
       "    </tr>\n",
       "    <tr>\n",
       "      <th>3</th>\n",
       "      <td>2</td>\n",
       "      <td>6</td>\n",
       "      <td>-73.975250</td>\n",
       "      <td>40.787834</td>\n",
       "      <td>-73.989952</td>\n",
       "      <td>40.775898</td>\n",
       "      <td>0</td>\n",
       "      <td>528</td>\n",
       "      <td>161</td>\n",
       "      <td>23</td>\n",
       "      <td>6</td>\n",
       "      <td>3</td>\n",
       "      <td>161</td>\n",
       "      <td>23</td>\n",
       "      <td>6</td>\n",
       "      <td>3</td>\n",
       "    </tr>\n",
       "    <tr>\n",
       "      <th>4</th>\n",
       "      <td>1</td>\n",
       "      <td>1</td>\n",
       "      <td>-73.976608</td>\n",
       "      <td>40.739555</td>\n",
       "      <td>-73.975929</td>\n",
       "      <td>40.748917</td>\n",
       "      <td>0</td>\n",
       "      <td>364</td>\n",
       "      <td>124</td>\n",
       "      <td>18</td>\n",
       "      <td>5</td>\n",
       "      <td>1</td>\n",
       "      <td>124</td>\n",
       "      <td>18</td>\n",
       "      <td>5</td>\n",
       "      <td>1</td>\n",
       "    </tr>\n",
       "  </tbody>\n",
       "</table>\n",
       "</div>"
      ],
      "text/plain": [
       "   vendor_id  passenger_count  pickup_longitude  pickup_latitude  \\\n",
       "0          2                1        -73.944366        40.809509   \n",
       "1          2                1        -73.995140        40.749779   \n",
       "2          2                1        -73.966042        40.805096   \n",
       "3          2                6        -73.975250        40.787834   \n",
       "4          1                1        -73.976608        40.739555   \n",
       "\n",
       "   dropoff_longitude  dropoff_latitude store_and_fwd_flag  trip_duration  \\\n",
       "0         -73.975502         40.756561                  0           1134   \n",
       "1         -73.963448         40.765789                  0            874   \n",
       "2         -73.961205         40.810154                  0            237   \n",
       "3         -73.989952         40.775898                  0            528   \n",
       "4         -73.975929         40.748917                  0            364   \n",
       "\n",
       "   doy_pickup  woy_pickup  moy_pickup  dow_pickup  doy_dropof  woy_dropof  \\\n",
       "0         145          21           5           1         145          21   \n",
       "1          34           5           2           2          34           5   \n",
       "2          58           8           2           5          58           8   \n",
       "3         161          23           6           3         161          23   \n",
       "4         124          18           5           1         124          18   \n",
       "\n",
       "   moy_dropof  dow_dropof  \n",
       "0           5           1  \n",
       "1           2           2  \n",
       "2           2           5  \n",
       "3           6           3  \n",
       "4           5           1  "
      ]
     },
     "execution_count": 20,
     "metadata": {},
     "output_type": "execute_result"
    }
   ],
   "source": [
    "data.head()"
   ]
  },
  {
   "cell_type": "code",
   "execution_count": 21,
   "metadata": {},
   "outputs": [
    {
     "data": {
      "text/plain": [
       "(72932, 16)"
      ]
     },
     "execution_count": 21,
     "metadata": {},
     "output_type": "execute_result"
    }
   ],
   "source": [
    "data.shape"
   ]
  },
  {
   "cell_type": "code",
   "execution_count": 22,
   "metadata": {},
   "outputs": [],
   "source": [
    "# seggregating variables into groups\n",
    "latitude = ['dropoff_latitude','pickup_latitude']\n",
    "longitude = ['dropoff_longitude','pickup_longitude']\n",
    "trip_dur=['trip_duration']\n",
    "pickup_time=['doy_pickup','woy_pickup','moy_pickup','dow_pickup']\n",
    "dropof_time=['doy_dropof','woy_dropof','moy_dropof','dow_dropof']\n",
    "var_group=[latitude,longitude,trip_dur,pickup_time,dropof_time]"
   ]
  },
  {
   "cell_type": "markdown",
   "metadata": {},
   "source": [
    "# outliers"
   ]
  },
  {
   "cell_type": "code",
   "execution_count": 23,
   "metadata": {},
   "outputs": [],
   "source": [
    "# custom function for easy outlier analysis\n",
    "\n",
    "def UVA_outlier(data, var_group, include_outlier = True):\n",
    "  '''\n",
    "  Univariate_Analysis_outlier:\n",
    "  takes a group of variables (INTEGER and FLOAT) and plot/print boplot and descriptives\\n\n",
    "  Runs a loop: calculate all the descriptives of i(th) variable and plot/print it \\n\\n\n",
    "\n",
    "  data : dataframe from which to plot from\\n\n",
    "  var_group : {list} type Group of Continuous variables\\n\n",
    "  include_outlier : {bool} whether to include outliers or not, default = True\\n\n",
    "  '''\n",
    "\n",
    "  size = len(var_group)\n",
    "  plt.figure(figsize = (7*size,4), dpi = 100)\n",
    "  \n",
    "  #looping for each variable\n",
    "  for j,i in enumerate(var_group):\n",
    "    \n",
    "    # calculating descriptives of variable\n",
    "    quant25 = data[i].quantile(0.25)\n",
    "    quant75 = data[i].quantile(0.75)\n",
    "    IQR = quant75 - quant25\n",
    "    med = data[i].median()\n",
    "    whis_low = quant25-(1.5*IQR)\n",
    "    whis_high = quant75+(1.5*IQR)\n",
    "\n",
    "    # Calculating Number of Outliers\n",
    "    outlier_high = len(data[i][data[i]>(whis_high+2)])\n",
    "    outlier_low = len(data[i][data[i]<(whis_low-2)])\n",
    "\n",
    "    if include_outlier == True:\n",
    "      print(include_outlier)\n",
    "      #Plotting the variable with every information\n",
    "      plt.subplot(1,size,j+1)\n",
    "      sns.boxplot(data[i], orient=\"v\")\n",
    "      plt.ylabel('{}'.format(i))\n",
    "      plt.title('With Outliers\\nIQR = {}; Median = {} \\n 2nd,3rd  quartile = {};\\n Outlier (low/high) = {} \\n'.format(\n",
    "                                                                                                   round(IQR,2),\n",
    "                                                                                                   round(med,2),\n",
    "                                                                                                   (round(quant25,2),round(quant75,2)),\n",
    "                                                                                                   (outlier_low,outlier_high)\n",
    "                                                                                                   ))\n",
    "      \n",
    "    else:\n",
    "      # replacing outliers with max/min whisker\n",
    "      data2 = data[var_group][:]\n",
    "      data2[i][data2[i]>whis_high] = whis_high+1\n",
    "      data2[i][data2[i]<whis_low] = whis_low-1\n",
    "      \n",
    "      # plotting without outliers\n",
    "      plt.subplot(1,size,j+1)\n",
    "      sns.boxplot(data2[i], orient=\"v\")\n",
    "      plt.ylabel('{}'.format(i))\n",
    "      plt.title('Without Outliers\\nIQR = {}; Median = {} \\n 2nd,3rd  quartile = {};\\n Outlier (low/high) = {} \\n'.format(\n",
    "                                                                                                round(IQR,2),\n",
    "                                                                                                   round(med,2),\n",
    "                                                                                                   (round(quant25,2),round(quant75,2)),\n",
    "                                                                                                   (outlier_low,outlier_high)\n",
    "                                                                                                   ))\n",
    "      return data2"
   ]
  },
  {
   "cell_type": "code",
   "execution_count": 24,
   "metadata": {
    "scrolled": false
   },
   "outputs": [
    {
     "name": "stdout",
     "output_type": "stream",
     "text": [
      "True\n",
      "True\n",
      "True\n",
      "True\n",
      "True\n",
      "True\n",
      "True\n",
      "True\n",
      "True\n",
      "True\n",
      "True\n",
      "True\n",
      "True\n"
     ]
    },
    {
     "data": {
      "image/png": "[encoded data removed]",
      "text/plain": [
       "<Figure size 1400x400 with 2 Axes>"
      ]
     },
     "metadata": {
      "needs_background": "light"
     },
     "output_type": "display_data"
    },
    {
     "data": {
      "image/png": "[encoded data removed]",
      "text/plain": [
       "<Figure size 1400x400 with 2 Axes>"
      ]
     },
     "metadata": {
      "needs_background": "light"
     },
     "output_type": "display_data"
    },
    {
     "data": {
      "image/png": "[encoded data removed]",
      "text/plain": [
       "<Figure size 700x400 with 1 Axes>"
      ]
     },
     "metadata": {
      "needs_background": "light"
     },
     "output_type": "display_data"
    },
    {
     "data": {
      "image/png": "[encoded data removed]",
      "text/plain": [
       "<Figure size 2800x400 with 4 Axes>"
      ]
     },
     "metadata": {
      "needs_background": "light"
     },
     "output_type": "display_data"
    },
    {
     "data": {
      "image/png": "[encoded data removed]",
      "text/plain": [
       "<Figure size 2800x400 with 4 Axes>"
      ]
     },
     "metadata": {
      "needs_background": "light"
     },
     "output_type": "display_data"
    }
   ],
   "source": [
    "for i in var_group:\n",
    " UVA_outlier(data,i, include_outlier =True)"
   ]
  },
  {
   "cell_type": "markdown",
   "metadata": {},
   "source": [
    "### removing outliers from data"
   ]
  },
  {
   "cell_type": "code",
   "execution_count": 25,
   "metadata": {},
   "outputs": [],
   "source": [
    " for i in data:\n",
    "    quant25 = data[i].quantile(0.25)\n",
    "    quant75 = data[i].quantile(0.75)\n",
    "    IQR = quant75 - quant25\n",
    "    med = data[i].median()\n",
    "    whis_low = quant25-(1.5*IQR)\n",
    "    whis_high = quant75+(1.5*IQR)\n",
    "\n",
    "    data[i][data[i]>whis_high] = whis_high+1\n",
    "    data[i][data[i]<whis_low] = whis_low-1\n",
    "      "
   ]
  },
  {
   "cell_type": "code",
   "execution_count": 26,
   "metadata": {},
   "outputs": [
    {
     "name": "stdout",
     "output_type": "stream",
     "text": [
      "True\n",
      "True\n",
      "True\n",
      "True\n",
      "True\n",
      "True\n",
      "True\n",
      "True\n",
      "True\n",
      "True\n",
      "True\n",
      "True\n",
      "True\n"
     ]
    },
    {
     "data": {
      "image/png": "[encoded data removed]",
      "text/plain": [
       "<Figure size 1400x400 with 2 Axes>"
      ]
     },
     "metadata": {
      "needs_background": "light"
     },
     "output_type": "display_data"
    },
    {
     "data": {
      "image/png": "[encoded data removed]",
      "text/plain": [
       "<Figure size 1400x400 with 2 Axes>"
      ]
     },
     "metadata": {
      "needs_background": "light"
     },
     "output_type": "display_data"
    },
    {
     "data": {
      "image/png": "[encoded data removed]",
      "text/plain": [
       "<Figure size 700x400 with 1 Axes>"
      ]
     },
     "metadata": {
      "needs_background": "light"
     },
     "output_type": "display_data"
    },
    {
     "data": {
      "image/png": "[encoded data removed]",
      "text/plain": [
       "<Figure size 2800x400 with 4 Axes>"
      ]
     },
     "metadata": {
      "needs_background": "light"
     },
     "output_type": "display_data"
    },
    {
     "data": {
      "image/png": "[encoded data removed]",
      "text/plain": [
       "<Figure size 2800x400 with 4 Axes>"
      ]
     },
     "metadata": {
      "needs_background": "light"
     },
     "output_type": "display_data"
    }
   ],
   "source": [
    "for i in var_group:\n",
    " UVA_outlier(data,i, include_outlier =True)"
   ]
  },
  {
   "cell_type": "code",
   "execution_count": 27,
   "metadata": {},
   "outputs": [],
   "source": [
    "# converting to category\n",
    "data['vendor_id'] = data['vendor_id'].astype('category')\n",
    "data['passenger_count'] = data['passenger_count'].astype('category')\n",
    "data['store_and_fwd_flag'] = data['store_and_fwd_flag'].astype('category')\n",
    "data['moy_pickup'] = data['moy_pickup'].astype('category')\n",
    "data['dow_pickup'] = data['dow_pickup'].astype('category')\n",
    "data['moy_dropof'] = data['moy_dropof'].astype('category')\n",
    "data['dow_dropof'] = data['dow_dropof'].astype('category')"
   ]
  },
  {
   "cell_type": "code",
   "execution_count": 28,
   "metadata": {},
   "outputs": [
    {
     "data": {
      "text/plain": [
       "vendor_id             category\n",
       "passenger_count       category\n",
       "pickup_longitude       float64\n",
       "pickup_latitude        float64\n",
       "dropoff_longitude      float64\n",
       "dropoff_latitude       float64\n",
       "store_and_fwd_flag    category\n",
       "trip_duration            int64\n",
       "doy_pickup               int64\n",
       "woy_pickup             float64\n",
       "moy_pickup            category\n",
       "dow_pickup            category\n",
       "doy_dropof               int64\n",
       "woy_dropof             float64\n",
       "moy_dropof            category\n",
       "dow_dropof            category\n",
       "dtype: object"
      ]
     },
     "execution_count": 28,
     "metadata": {},
     "output_type": "execute_result"
    }
   ],
   "source": [
    "data.select_dtypes(include=['float64','Int64','category']).dtypes"
   ]
  },
  {
   "cell_type": "markdown",
   "metadata": {},
   "source": [
    "### always deal with missing values after dealing with outliers"
   ]
  },
  {
   "cell_type": "code",
   "execution_count": 29,
   "metadata": {},
   "outputs": [
    {
     "data": {
      "text/plain": [
       "vendor_id             0\n",
       "passenger_count       0\n",
       "pickup_longitude      0\n",
       "pickup_latitude       0\n",
       "dropoff_longitude     0\n",
       "dropoff_latitude      0\n",
       "store_and_fwd_flag    0\n",
       "trip_duration         0\n",
       "doy_pickup            0\n",
       "woy_pickup            0\n",
       "moy_pickup            0\n",
       "dow_pickup            0\n",
       "doy_dropof            0\n",
       "woy_dropof            0\n",
       "moy_dropof            0\n",
       "dow_dropof            0\n",
       "dtype: int64"
      ]
     },
     "execution_count": 29,
     "metadata": {},
     "output_type": "execute_result"
    }
   ],
   "source": [
    "data.isnull().sum()"
   ]
  },
  {
   "cell_type": "code",
   "execution_count": 30,
   "metadata": {},
   "outputs": [
    {
     "data": {
      "text/html": [
       "<div>\n",
       "<style scoped>\n",
       "    .dataframe tbody tr th:only-of-type {\n",
       "        vertical-align: middle;\n",
       "    }\n",
       "\n",
       "    .dataframe tbody tr th {\n",
       "        vertical-align: top;\n",
       "    }\n",
       "\n",
       "    .dataframe thead th {\n",
       "        text-align: right;\n",
       "    }\n",
       "</style>\n",
       "<table border=\"1\" class=\"dataframe\">\n",
       "  <thead>\n",
       "    <tr style=\"text-align: right;\">\n",
       "      <th></th>\n",
       "      <th>vendor_id</th>\n",
       "      <th>passenger_count</th>\n",
       "      <th>pickup_longitude</th>\n",
       "      <th>pickup_latitude</th>\n",
       "      <th>dropoff_longitude</th>\n",
       "      <th>dropoff_latitude</th>\n",
       "      <th>store_and_fwd_flag</th>\n",
       "      <th>trip_duration</th>\n",
       "      <th>doy_pickup</th>\n",
       "      <th>woy_pickup</th>\n",
       "      <th>moy_pickup</th>\n",
       "      <th>dow_pickup</th>\n",
       "      <th>doy_dropof</th>\n",
       "      <th>woy_dropof</th>\n",
       "      <th>moy_dropof</th>\n",
       "      <th>dow_dropof</th>\n",
       "    </tr>\n",
       "  </thead>\n",
       "  <tbody>\n",
       "    <tr>\n",
       "      <th>0</th>\n",
       "      <td>2</td>\n",
       "      <td>1.0</td>\n",
       "      <td>-73.944366</td>\n",
       "      <td>40.809509</td>\n",
       "      <td>-73.975502</td>\n",
       "      <td>40.756561</td>\n",
       "      <td>0.0</td>\n",
       "      <td>1134</td>\n",
       "      <td>145</td>\n",
       "      <td>21.0</td>\n",
       "      <td>5</td>\n",
       "      <td>1</td>\n",
       "      <td>145</td>\n",
       "      <td>21.0</td>\n",
       "      <td>5</td>\n",
       "      <td>1</td>\n",
       "    </tr>\n",
       "    <tr>\n",
       "      <th>1</th>\n",
       "      <td>2</td>\n",
       "      <td>1.0</td>\n",
       "      <td>-73.995140</td>\n",
       "      <td>40.749779</td>\n",
       "      <td>-73.963448</td>\n",
       "      <td>40.765789</td>\n",
       "      <td>0.0</td>\n",
       "      <td>874</td>\n",
       "      <td>34</td>\n",
       "      <td>5.0</td>\n",
       "      <td>2</td>\n",
       "      <td>2</td>\n",
       "      <td>34</td>\n",
       "      <td>5.0</td>\n",
       "      <td>2</td>\n",
       "      <td>2</td>\n",
       "    </tr>\n",
       "    <tr>\n",
       "      <th>2</th>\n",
       "      <td>2</td>\n",
       "      <td>1.0</td>\n",
       "      <td>-73.966042</td>\n",
       "      <td>40.805096</td>\n",
       "      <td>-73.961205</td>\n",
       "      <td>40.810154</td>\n",
       "      <td>0.0</td>\n",
       "      <td>237</td>\n",
       "      <td>58</td>\n",
       "      <td>8.0</td>\n",
       "      <td>2</td>\n",
       "      <td>5</td>\n",
       "      <td>58</td>\n",
       "      <td>8.0</td>\n",
       "      <td>2</td>\n",
       "      <td>5</td>\n",
       "    </tr>\n",
       "    <tr>\n",
       "      <th>3</th>\n",
       "      <td>2</td>\n",
       "      <td>4.5</td>\n",
       "      <td>-73.975250</td>\n",
       "      <td>40.787834</td>\n",
       "      <td>-73.989952</td>\n",
       "      <td>40.775898</td>\n",
       "      <td>0.0</td>\n",
       "      <td>528</td>\n",
       "      <td>161</td>\n",
       "      <td>23.0</td>\n",
       "      <td>6</td>\n",
       "      <td>3</td>\n",
       "      <td>161</td>\n",
       "      <td>23.0</td>\n",
       "      <td>6</td>\n",
       "      <td>3</td>\n",
       "    </tr>\n",
       "    <tr>\n",
       "      <th>4</th>\n",
       "      <td>1</td>\n",
       "      <td>1.0</td>\n",
       "      <td>-73.976608</td>\n",
       "      <td>40.739555</td>\n",
       "      <td>-73.975929</td>\n",
       "      <td>40.748917</td>\n",
       "      <td>0.0</td>\n",
       "      <td>364</td>\n",
       "      <td>124</td>\n",
       "      <td>18.0</td>\n",
       "      <td>5</td>\n",
       "      <td>1</td>\n",
       "      <td>124</td>\n",
       "      <td>18.0</td>\n",
       "      <td>5</td>\n",
       "      <td>1</td>\n",
       "    </tr>\n",
       "  </tbody>\n",
       "</table>\n",
       "</div>"
      ],
      "text/plain": [
       "  vendor_id passenger_count  pickup_longitude  pickup_latitude  \\\n",
       "0         2             1.0        -73.944366        40.809509   \n",
       "1         2             1.0        -73.995140        40.749779   \n",
       "2         2             1.0        -73.966042        40.805096   \n",
       "3         2             4.5        -73.975250        40.787834   \n",
       "4         1             1.0        -73.976608        40.739555   \n",
       "\n",
       "   dropoff_longitude  dropoff_latitude store_and_fwd_flag  trip_duration  \\\n",
       "0         -73.975502         40.756561                0.0           1134   \n",
       "1         -73.963448         40.765789                0.0            874   \n",
       "2         -73.961205         40.810154                0.0            237   \n",
       "3         -73.989952         40.775898                0.0            528   \n",
       "4         -73.975929         40.748917                0.0            364   \n",
       "\n",
       "   doy_pickup  woy_pickup moy_pickup dow_pickup  doy_dropof  woy_dropof  \\\n",
       "0         145        21.0          5          1         145        21.0   \n",
       "1          34         5.0          2          2          34         5.0   \n",
       "2          58         8.0          2          5          58         8.0   \n",
       "3         161        23.0          6          3         161        23.0   \n",
       "4         124        18.0          5          1         124        18.0   \n",
       "\n",
       "  moy_dropof dow_dropof  \n",
       "0          5          1  \n",
       "1          2          2  \n",
       "2          2          5  \n",
       "3          6          3  \n",
       "4          5          1  "
      ]
     },
     "execution_count": 30,
     "metadata": {},
     "output_type": "execute_result"
    }
   ],
   "source": [
    "data.head()"
   ]
  },
  {
   "cell_type": "markdown",
   "metadata": {},
   "source": [
    "### segegating variables"
   ]
  },
  {
   "cell_type": "code",
   "execution_count": 31,
   "metadata": {
    "colab": {
     "base_uri": "https://localhost:8080/",
     "height": 34
    },
    "colab_type": "code",
    "executionInfo": {
     "elapsed": 2634,
     "status": "ok",
     "timestamp": 1559907752332,
     "user": {
      "displayName": "Aishwarya Singh",
      "photoUrl": "https://lh5.googleusercontent.com/-72ZtNB76Qxg/AAAAAAAAAAI/AAAAAAAAAAc/Nsa5vQruND0/s64/photo.jpg",
      "userId": "01105858832371513140"
     },
     "user_tz": -330
    },
    "id": "rym4fnPq9xXG",
    "outputId": "103a10b9-f5d8-4ae3-e3a1-c42a9a1a42f2"
   },
   "outputs": [
    {
     "data": {
      "text/plain": [
       "((72932, 15), (72932,))"
      ]
     },
     "execution_count": 31,
     "metadata": {},
     "output_type": "execute_result"
    }
   ],
   "source": [
    "#seperating independent and dependent variables\n",
    "x = data.drop([target], axis=1)\n",
    "y = data[target]\n",
    "x.shape, y.shape"
   ]
  },
  {
   "cell_type": "markdown",
   "metadata": {},
   "source": [
    "### checking assumptions of linear regression"
   ]
  },
  {
   "cell_type": "code",
   "execution_count": 32,
   "metadata": {},
   "outputs": [],
   "source": [
    "\n",
    "train_x,test_x,train_y,test_y = train_test_split(x,y, random_state = r)\n",
    "lr.fit(train_x, train_y)\n",
    "train_predict =lr.predict(train_x)\n",
    "test_predict = lr.predict(test_x)"
   ]
  },
  {
   "cell_type": "code",
   "execution_count": 33,
   "metadata": {},
   "outputs": [
    {
     "data": {
      "text/html": [
       "<div>\n",
       "<style scoped>\n",
       "    .dataframe tbody tr th:only-of-type {\n",
       "        vertical-align: middle;\n",
       "    }\n",
       "\n",
       "    .dataframe tbody tr th {\n",
       "        vertical-align: top;\n",
       "    }\n",
       "\n",
       "    .dataframe thead th {\n",
       "        text-align: right;\n",
       "    }\n",
       "</style>\n",
       "<table border=\"1\" class=\"dataframe\">\n",
       "  <thead>\n",
       "    <tr style=\"text-align: right;\">\n",
       "      <th></th>\n",
       "      <th>fitted values</th>\n",
       "      <th>predicted values</th>\n",
       "      <th>residuals</th>\n",
       "    </tr>\n",
       "  </thead>\n",
       "  <tbody>\n",
       "    <tr>\n",
       "      <th>80</th>\n",
       "      <td>349</td>\n",
       "      <td>760.225738</td>\n",
       "      <td>-411.225738</td>\n",
       "    </tr>\n",
       "    <tr>\n",
       "      <th>48244</th>\n",
       "      <td>1695</td>\n",
       "      <td>677.134576</td>\n",
       "      <td>1017.865424</td>\n",
       "    </tr>\n",
       "    <tr>\n",
       "      <th>19911</th>\n",
       "      <td>2100</td>\n",
       "      <td>748.395530</td>\n",
       "      <td>1351.604470</td>\n",
       "    </tr>\n",
       "    <tr>\n",
       "      <th>57167</th>\n",
       "      <td>864</td>\n",
       "      <td>738.040407</td>\n",
       "      <td>125.959593</td>\n",
       "    </tr>\n",
       "    <tr>\n",
       "      <th>42325</th>\n",
       "      <td>695</td>\n",
       "      <td>760.582658</td>\n",
       "      <td>-65.582658</td>\n",
       "    </tr>\n",
       "  </tbody>\n",
       "</table>\n",
       "</div>"
      ],
      "text/plain": [
       "       fitted values  predicted values    residuals\n",
       "80               349        760.225738  -411.225738\n",
       "48244           1695        677.134576  1017.865424\n",
       "19911           2100        748.395530  1351.604470\n",
       "57167            864        738.040407   125.959593\n",
       "42325            695        760.582658   -65.582658"
      ]
     },
     "execution_count": 33,
     "metadata": {},
     "output_type": "execute_result"
    }
   ],
   "source": [
    "# Arranging and calculating the Residuals\n",
    "residuals = pd.DataFrame({\n",
    "    'fitted values' : test_y,\n",
    "    'predicted values' : test_predict,\n",
    "})\n",
    "\n",
    "residuals['residuals'] = residuals['fitted values'] - residuals['predicted values']\n",
    "residuals.head()"
   ]
  },
  {
   "cell_type": "code",
   "execution_count": 34,
   "metadata": {},
   "outputs": [
    {
     "data": {
      "text/plain": [
       "(18233, 3)"
      ]
     },
     "execution_count": 34,
     "metadata": {},
     "output_type": "execute_result"
    }
   ],
   "source": [
    "residuals.shape"
   ]
  },
  {
   "cell_type": "markdown",
   "metadata": {},
   "source": [
    "Plotting residual curve (Is there constant Variance OR Homoscedastic?)"
   ]
  },
  {
   "cell_type": "code",
   "execution_count": 35,
   "metadata": {},
   "outputs": [
    {
     "data": {
      "text/plain": [
       "<matplotlib.legend.Legend at 0x7fe2819f8be0>"
      ]
     },
     "execution_count": 35,
     "metadata": {},
     "output_type": "execute_result"
    },
    {
     "data": {
      "image/png": "[encoded data removed]",
      "text/plain": [
       "<Figure size 1200x720 with 1 Axes>"
      ]
     },
     "metadata": {},
     "output_type": "display_data"
    }
   ],
   "source": [
    "plt.figure(figsize=(10, 6), dpi=120, facecolor='w', edgecolor='b')\n",
    "f = range(0,residuals.shape[0])\n",
    "k = [0 for i in range(0,residuals.shape[0])]\n",
    "plt.scatter( f, residuals.residuals[:], label = 'residuals')\n",
    "plt.plot( f, k , color = 'red', label = 'regression line' )\n",
    "plt.xlabel('fitted points ')\n",
    "plt.ylabel('residuals')\n",
    "plt.title('Residual plot')\n",
    "plt.ylim(-4000, 4000)\n",
    "plt.legend()"
   ]
  },
  {
   "cell_type": "markdown",
   "metadata": {},
   "source": [
    "The Residual plot clearly Looks Homoscedastic, i.e. the the variance of the error across the dataset is nearly constant."
   ]
  },
  {
   "cell_type": "markdown",
   "metadata": {},
   "source": [
    "Checking Distribution of Residuals"
   ]
  },
  {
   "cell_type": "code",
   "execution_count": 36,
   "metadata": {},
   "outputs": [
    {
     "data": {
      "image/png": "[encoded data removed]",
      "text/plain": [
       "<Figure size 1200x720 with 1 Axes>"
      ]
     },
     "metadata": {},
     "output_type": "display_data"
    }
   ],
   "source": [
    "# Histogram for distribution\n",
    "plt.figure(figsize=(10, 6), dpi=120, facecolor='w', edgecolor='b')\n",
    "plt.hist(residuals.residuals, bins = 500)\n",
    "plt.xlabel('Error')\n",
    "plt.ylabel('Frequency')\n",
    "plt.title('Distribution of Error Terms')\n",
    "plt.show()"
   ]
  },
  {
   "cell_type": "markdown",
   "metadata": {},
   "source": [
    "According to the Histogram, the distribution of error is nearly normal,but there are some unnormal behaviour on the lower end of the distribution"
   ]
  },
  {
   "cell_type": "markdown",
   "metadata": {},
   "source": [
    "QQ-Plot (Is the data Normally Distributed?)"
   ]
  },
  {
   "cell_type": "code",
   "execution_count": 37,
   "metadata": {},
   "outputs": [
    {
     "data": {
      "image/png": "[encoded data removed]",
      "text/plain": [
       "<Figure size 600x600 with 1 Axes>"
      ]
     },
     "metadata": {
      "needs_background": "light"
     },
     "output_type": "display_data"
    }
   ],
   "source": [
    "# importing the QQ-plot from the from the statsmodels\n",
    "from statsmodels.graphics.gofplots import qqplot\n",
    "\n",
    "## Plotting the QQ plot\n",
    "fig, ax = plt.subplots(figsize=(5,5) , dpi = 120)\n",
    "qqplot(residuals.residuals, line = 's' , ax = ax)\n",
    "plt.ylabel('Residual Quantiles')\n",
    "plt.xlabel('Ideal Scaled Quantiles')\n",
    "plt.title('Checking distribution of Residual Errors')\n",
    "plt.show()"
   ]
  },
  {
   "cell_type": "markdown",
   "metadata": {},
   "source": [
    " the inference drawn from distribution of residuals is confirmed by qq plot.it is nearly normal lower end has some fluctuating values"
   ]
  },
  {
   "cell_type": "markdown",
   "metadata": {},
   "source": [
    "Variance Inflation Factor (VIF) (Checking for multi collinearity)"
   ]
  },
  {
   "cell_type": "code",
   "execution_count": 38,
   "metadata": {},
   "outputs": [
    {
     "data": {
      "text/plain": [
       "vendor_id             1.141838e+01\n",
       "passenger_count       3.292788e+00\n",
       "pickup_longitude      9.607716e+04\n",
       "pickup_latitude       5.499280e+04\n",
       "dropoff_longitude     6.980882e+04\n",
       "dropoff_latitude      3.028881e+04\n",
       "store_and_fwd_flag    1.013441e+00\n",
       "trip_duration         3.338998e+00\n",
       "doy_pickup            1.114809e+06\n",
       "woy_pickup            1.119188e+04\n",
       "moy_pickup            3.852436e+04\n",
       "dow_pickup            2.992071e+02\n",
       "doy_dropof            1.114950e+06\n",
       "woy_dropof            1.120301e+04\n",
       "moy_dropof            3.852555e+04\n",
       "dow_dropof            2.994639e+02\n",
       "dtype: float64"
      ]
     },
     "execution_count": 38,
     "metadata": {},
     "output_type": "execute_result"
    }
   ],
   "source": [
    "# Importing Variance_inflation_Factor funtion from the Statsmodels\n",
    "from statsmodels.stats.outliers_influence import variance_inflation_factor\n",
    "from statsmodels.tools.tools import add_constant\n",
    "\n",
    "# Calculating VIF for every column (only works for the not Catagorical)\n",
    "VIF = pd.Series([variance_inflation_factor(data.values, i) for i in range(data.shape[1])], index =data.columns)\n",
    "VIF"
   ]
  },
  {
   "cell_type": "markdown",
   "metadata": {},
   "source": [
    "From this list, we clearly see that there happens to be no Independent Variable over the value of 5 (5.000e+00)(if there were any values over 5 then that would have to be removed from analysis), which means that there are no features that exhibit the Multicollinearity in the dataset. Note that VIF only works for the Continuous Variables"
   ]
  },
  {
   "cell_type": "markdown",
   "metadata": {},
   "source": [
    "### splitting data"
   ]
  },
  {
   "cell_type": "code",
   "execution_count": 39,
   "metadata": {},
   "outputs": [],
   "source": [
    "# Importing the train test split function\n",
    "from sklearn.model_selection import train_test_split\n",
    "train_x,test_x,train_y,test_y = train_test_split(x,y,test_size=1/4,random_state= r)\n",
    "train_x,val_x,train_y,val_y= train_test_split(train_x, train_y, test_size=1/3,random_state=r)"
   ]
  },
  {
   "cell_type": "code",
   "execution_count": 40,
   "metadata": {
    "colab": {
     "base_uri": "https://localhost:8080/",
     "height": 159
    },
    "colab_type": "code",
    "executionInfo": {
     "elapsed": 2906,
     "status": "ok",
     "timestamp": 1559907754529,
     "user": {
      "displayName": "Aishwarya Singh",
      "photoUrl": "https://lh5.googleusercontent.com/-72ZtNB76Qxg/AAAAAAAAAAI/AAAAAAAAAAc/Nsa5vQruND0/s64/photo.jpg",
      "userId": "01105858832371513140"
     },
     "user_tz": -330
    },
    "id": "TFrwDTRdybYF",
    "outputId": "be6a8867-192c-445b-a4ef-6ef855d43c89"
   },
   "outputs": [
    {
     "data": {
      "text/plain": [
       "LinearRegression(normalize=True)"
      ]
     },
     "execution_count": 40,
     "metadata": {},
     "output_type": "execute_result"
    }
   ],
   "source": [
    "# Fitting the model\n",
    "\n",
    "model.fit(train_x, train_y)"
   ]
  },
  {
   "cell_type": "code",
   "execution_count": 41,
   "metadata": {},
   "outputs": [],
   "source": [
    "def rmsle(y_pred, y_test) : \n",
    "    assert len(y_test) == len(y_pred)\n",
    "    return np.sqrt(np.mean((np.log(1+y_pred) - np.log(1+y_test))**2))"
   ]
  },
  {
   "cell_type": "markdown",
   "metadata": {},
   "source": [
    "## rigde regularisation"
   ]
  },
  {
   "cell_type": "markdown",
   "metadata": {},
   "source": [
    "higher the alpha value, more restriction on the coefficients"
   ]
  },
  {
   "cell_type": "code",
   "execution_count": 42,
   "metadata": {},
   "outputs": [],
   "source": [
    "from sklearn.linear_model import Ridge\n",
    "alpha_ridge = [0, 1e-8, 1e-6 ,1e-4, 1e-3,1e-2, 1, 5, 10, 20, 25]\n",
    "r2adjlist,rrscorelist=[[],[]]\n",
    "for i in alpha_ridge: \n",
    " rr = Ridge(alpha=i,normalize=True)\n",
    " rr.fit(train_x, train_y)\n",
    " r2=rr.score(val_x, val_y)\n",
    " r2adj=1-((1-r2)*(len(y)-1)/(len(y)-x.shape[1]-1))\n",
    " r2adjlist.append(r2adj)\n",
    " rrscorelist.append(r2)"
   ]
  },
  {
   "cell_type": "code",
   "execution_count": 43,
   "metadata": {},
   "outputs": [
    {
     "data": {
      "text/plain": [
       "[0.15642644019257712,\n",
       " 0.15643091129605569,\n",
       " 0.15591667516875696,\n",
       " 0.15092670242978568,\n",
       " 0.15087661526183782,\n",
       " 0.15127127984069988,\n",
       " 0.13014260425899438,\n",
       " 0.06619549108720724,\n",
       " 0.04028479322481637,\n",
       " 0.02251585385344379,\n",
       " 0.018428297923044457]"
      ]
     },
     "execution_count": 43,
     "metadata": {},
     "output_type": "execute_result"
    }
   ],
   "source": [
    "r2adjlist"
   ]
  },
  {
   "cell_type": "code",
   "execution_count": 44,
   "metadata": {},
   "outputs": [],
   "source": [
    "c=-1\n",
    "max=0\n",
    "for i in r2adjlist:\n",
    " c=c+1\n",
    " if(i>=max):\n",
    "    max=i\n",
    "    index_alpha=c"
   ]
  },
  {
   "cell_type": "code",
   "execution_count": 45,
   "metadata": {},
   "outputs": [
    {
     "name": "stdout",
     "output_type": "stream",
     "text": [
      "for the alpha value =  1e-08  r2adjridge value attains a maximum of  0.15643091129605569\n"
     ]
    }
   ],
   "source": [
    "print(\"for the alpha value = \",alpha_ridge[index_alpha],\" r2adjridge value attains a maximum of \",max)"
   ]
  },
  {
   "cell_type": "markdown",
   "metadata": {},
   "source": [
    "### assigning ridge at alpha=alpha_ridge[index_alpha] as the model throughout the code"
   ]
  },
  {
   "cell_type": "code",
   "execution_count": 46,
   "metadata": {},
   "outputs": [],
   "source": [
    "model=Ridge(alpha=alpha_ridge[index_alpha],normalize=True)"
   ]
  },
  {
   "cell_type": "markdown",
   "metadata": {},
   "source": [
    "### selecting columns based on coefficients"
   ]
  },
  {
   "cell_type": "code",
   "execution_count": 47,
   "metadata": {},
   "outputs": [
    {
     "data": {
      "text/html": [
       "<div>\n",
       "<style scoped>\n",
       "    .dataframe tbody tr th:only-of-type {\n",
       "        vertical-align: middle;\n",
       "    }\n",
       "\n",
       "    .dataframe tbody tr th {\n",
       "        vertical-align: top;\n",
       "    }\n",
       "\n",
       "    .dataframe thead th {\n",
       "        text-align: right;\n",
       "    }\n",
       "</style>\n",
       "<table border=\"1\" class=\"dataframe\">\n",
       "  <thead>\n",
       "    <tr style=\"text-align: right;\">\n",
       "      <th></th>\n",
       "      <th>Variable</th>\n",
       "      <th>coefficient</th>\n",
       "    </tr>\n",
       "  </thead>\n",
       "  <tbody>\n",
       "    <tr>\n",
       "      <th>0</th>\n",
       "      <td>vendor_id</td>\n",
       "      <td>6.732604</td>\n",
       "    </tr>\n",
       "    <tr>\n",
       "      <th>1</th>\n",
       "      <td>passenger_count</td>\n",
       "      <td>7.461935</td>\n",
       "    </tr>\n",
       "    <tr>\n",
       "      <th>2</th>\n",
       "      <td>pickup_longitude</td>\n",
       "      <td>514.387905</td>\n",
       "    </tr>\n",
       "    <tr>\n",
       "      <th>3</th>\n",
       "      <td>pickup_latitude</td>\n",
       "      <td>-257.058596</td>\n",
       "    </tr>\n",
       "    <tr>\n",
       "      <th>4</th>\n",
       "      <td>dropoff_longitude</td>\n",
       "      <td>363.701955</td>\n",
       "    </tr>\n",
       "    <tr>\n",
       "      <th>5</th>\n",
       "      <td>dropoff_latitude</td>\n",
       "      <td>-210.123979</td>\n",
       "    </tr>\n",
       "    <tr>\n",
       "      <th>6</th>\n",
       "      <td>store_and_fwd_flag</td>\n",
       "      <td>81.440396</td>\n",
       "    </tr>\n",
       "    <tr>\n",
       "      <th>7</th>\n",
       "      <td>doy_pickup</td>\n",
       "      <td>-415.387366</td>\n",
       "    </tr>\n",
       "    <tr>\n",
       "      <th>8</th>\n",
       "      <td>woy_pickup</td>\n",
       "      <td>-16.374016</td>\n",
       "    </tr>\n",
       "    <tr>\n",
       "      <th>9</th>\n",
       "      <td>moy_pickup</td>\n",
       "      <td>-69.009864</td>\n",
       "    </tr>\n",
       "    <tr>\n",
       "      <th>10</th>\n",
       "      <td>dow_pickup</td>\n",
       "      <td>-48.364998</td>\n",
       "    </tr>\n",
       "    <tr>\n",
       "      <th>11</th>\n",
       "      <td>doy_dropof</td>\n",
       "      <td>415.725934</td>\n",
       "    </tr>\n",
       "    <tr>\n",
       "      <th>12</th>\n",
       "      <td>woy_dropof</td>\n",
       "      <td>15.114833</td>\n",
       "    </tr>\n",
       "    <tr>\n",
       "      <th>13</th>\n",
       "      <td>moy_dropof</td>\n",
       "      <td>80.348107</td>\n",
       "    </tr>\n",
       "    <tr>\n",
       "      <th>14</th>\n",
       "      <td>dow_dropof</td>\n",
       "      <td>39.523696</td>\n",
       "    </tr>\n",
       "  </tbody>\n",
       "</table>\n",
       "</div>"
      ],
      "text/plain": [
       "              Variable  coefficient\n",
       "0            vendor_id     6.732604\n",
       "1      passenger_count     7.461935\n",
       "2     pickup_longitude   514.387905\n",
       "3      pickup_latitude  -257.058596\n",
       "4    dropoff_longitude   363.701955\n",
       "5     dropoff_latitude  -210.123979\n",
       "6   store_and_fwd_flag    81.440396\n",
       "7           doy_pickup  -415.387366\n",
       "8           woy_pickup   -16.374016\n",
       "9           moy_pickup   -69.009864\n",
       "10          dow_pickup   -48.364998\n",
       "11          doy_dropof   415.725934\n",
       "12          woy_dropof    15.114833\n",
       "13          moy_dropof    80.348107\n",
       "14          dow_dropof    39.523696"
      ]
     },
     "execution_count": 47,
     "metadata": {},
     "output_type": "execute_result"
    }
   ],
   "source": [
    "Coefficients = pd.DataFrame({\n",
    "    'Variable'    : x.columns.tolist(),\n",
    "    'coefficient' : lr.coef_\n",
    "})\n",
    "Coefficients"
   ]
  },
  {
   "cell_type": "code",
   "execution_count": 48,
   "metadata": {},
   "outputs": [],
   "source": [
    "r2adjlist=[]\n",
    "indexlist=[]\n",
    "min=  int(Coefficients.coefficient.min())\n",
    "max=  int(Coefficients.coefficient.max())\n",
    "step=int((max-min)/10)\n",
    "for i in range(min,max,step):\n",
    "  \n",
    "  sig_var = Coefficients[Coefficients.coefficient > i]\n",
    "  xcoeff = x[sig_var['Variable'].values]\n",
    "   \n",
    "  train_xcoeff,test_xcoeff,train_ycoeff,test_ycoeff = train_test_split(xcoeff,y,test_size=1/4,random_state= r)\n",
    "  train_xcoeff,val_xcoeff,train_ycoeff,val_ycoeff= train_test_split(train_xcoeff, train_ycoeff, test_size=1/3,random_state=r)\n",
    "  model.fit(train_xcoeff,train_ycoeff)\n",
    "  pred=model.predict(val_xcoeff)\n",
    "  r2=model.score(val_xcoeff,val_ycoeff)\n",
    "  r2adj=1-((1-r2)*(len(y)-1)/(len(y)-xcoeff.shape[1]-1))\n",
    "  r2adjlist.append(r2adj)\n",
    "  indexlist.append(i)\n"
   ]
  },
  {
   "cell_type": "code",
   "execution_count": 49,
   "metadata": {},
   "outputs": [
    {
     "data": {
      "text/plain": [
       "[0.15059415116246122,\n",
       " 0.15059415116246122,\n",
       " 0.14526816799375342,\n",
       " 0.13365607602849539,\n",
       " 0.13411641485650228,\n",
       " 0.13303870877346557,\n",
       " 0.13280837537184564,\n",
       " 0.13280837537184564,\n",
       " 0.13280837537184564,\n",
       " 0.10315445716161353,\n",
       " 0.1002432267318566]"
      ]
     },
     "execution_count": 49,
     "metadata": {},
     "output_type": "execute_result"
    }
   ],
   "source": [
    "r2adjlist"
   ]
  },
  {
   "cell_type": "code",
   "execution_count": 50,
   "metadata": {},
   "outputs": [
    {
     "data": {
      "text/plain": [
       "[-415, -323, -231, -139, -47, 45, 137, 229, 321, 413, 505]"
      ]
     },
     "execution_count": 50,
     "metadata": {},
     "output_type": "execute_result"
    }
   ],
   "source": [
    "indexlist"
   ]
  },
  {
   "cell_type": "code",
   "execution_count": 51,
   "metadata": {},
   "outputs": [],
   "source": [
    "c=-1\n",
    "max=0\n",
    "for i in r2adjlist:\n",
    " c=c+1\n",
    " if(i>=max):\n",
    "    max=i\n",
    "    index_coeff=c"
   ]
  },
  {
   "cell_type": "code",
   "execution_count": 52,
   "metadata": {},
   "outputs": [
    {
     "name": "stdout",
     "output_type": "stream",
     "text": [
      "the columns corresponding to cofficients greater than  -323  when used to make model r2adjusted value attains a maximum of  0.15059415116246122\n"
     ]
    }
   ],
   "source": [
    "print(\"the columns corresponding to cofficients greater than \",indexlist[index_coeff],\" when used to make model r2adjusted value attains a maximum of \",max)"
   ]
  },
  {
   "cell_type": "markdown",
   "metadata": {},
   "source": [
    "assigning train val and test sets based on corresponding columns"
   ]
  },
  {
   "cell_type": "code",
   "execution_count": 53,
   "metadata": {},
   "outputs": [],
   "source": [
    "sig_var = Coefficients[Coefficients.coefficient > indexlist[index_coeff]]\n",
    "x = x[sig_var['Variable'].values]\n",
    "   \n",
    "train_x,test_x,train_y,test_y = train_test_split(x,y,test_size=1/4,random_state= r)\n",
    "train_x,val_x,train_y,val_y= train_test_split(train_x, train_y, test_size=1/3,random_state=r)"
   ]
  },
  {
   "cell_type": "markdown",
   "metadata": {},
   "source": [
    "## N FOLD CROSS VALIDATION"
   ]
  },
  {
   "cell_type": "markdown",
   "metadata": {},
   "source": [
    "to change eval metric throughout the code make corresponding changes in the eval_metric and cv_score() and eval_score()\n"
   ]
  },
  {
   "cell_type": "code",
   "execution_count": 54,
   "metadata": {},
   "outputs": [],
   "source": [
    "nfold=9\n",
    "eval_metric=['rmsle','rmse','mae']"
   ]
  },
  {
   "cell_type": "markdown",
   "metadata": {},
   "source": [
    "the function takes the ml algorithm,columns of datatable and the break value as parameter . function randomly chooses nfold sets of train and validation sets where in each fold val set is complement of train set and the union of validation sets in all folds gives the dataset itself . each fold is trained on train set and tested on validation set and gives a set of evaluation metric scores"
   ]
  },
  {
   "cell_type": "code",
   "execution_count": 55,
   "metadata": {},
   "outputs": [],
   "source": [
    "def cv_score(ml_model=model, rstate = r, cols = x.columns.tolist()):\n",
    "    i = 1\n",
    "    cv_scores = []\n",
    "    df1 = data.copy()\n",
    "    df1 = data[cols]\n",
    "    rmslelist,rmselist,maelist=[[],[],[]]\n",
    "    indexlist=[]\n",
    "    \n",
    "    # 5 Fold cross validation stratified on the basis of target\n",
    "    kf = StratifiedKFold(n_splits=nfold,random_state=rstate,shuffle=True)\n",
    "    for df_index,test_index in kf.split(df1,y):\n",
    "        \n",
    "        xtr,xvl = [df1.loc[df_index],df1.loc[test_index]]\n",
    "        ytr,yvl = [y.loc[df_index],y.loc[test_index]]\n",
    "            \n",
    "        # Define model for fitting on the training set for each fold\n",
    "        model = ml_model\n",
    "        model.fit(xtr, ytr)\n",
    "        pred = model.predict(xvl)\n",
    "         \n",
    "        # Calculate scores for each fold and print\n",
    "        pred_val = pred\n",
    "        rmsle1 = rmsle(yvl,pred_val)\n",
    "        rmse1=rmse(yvl,pred_val,squared=True)\n",
    "        mae1=mae(yvl,pred_val)\n",
    "        \n",
    "        rmslelist.append(rmsle1)\n",
    "        rmselist.append(rmse1)\n",
    "        maelist.append(mae1)\n",
    "        \n",
    "         # Save scores\n",
    "        indexlist.append((\"kfold \"+str((i))))\n",
    "        i=i+1\n",
    "        \n",
    "    cv_score=pd.DataFrame([rmslelist,rmselist,maelist],index=eval_metric,columns=indexlist)\n",
    "    return cv_score"
   ]
  },
  {
   "cell_type": "code",
   "execution_count": 56,
   "metadata": {},
   "outputs": [
    {
     "data": {
      "text/html": [
       "<div>\n",
       "<style scoped>\n",
       "    .dataframe tbody tr th:only-of-type {\n",
       "        vertical-align: middle;\n",
       "    }\n",
       "\n",
       "    .dataframe tbody tr th {\n",
       "        vertical-align: top;\n",
       "    }\n",
       "\n",
       "    .dataframe thead th {\n",
       "        text-align: right;\n",
       "    }\n",
       "</style>\n",
       "<table border=\"1\" class=\"dataframe\">\n",
       "  <thead>\n",
       "    <tr style=\"text-align: right;\">\n",
       "      <th></th>\n",
       "      <th>kfold 1</th>\n",
       "      <th>kfold 2</th>\n",
       "      <th>kfold 3</th>\n",
       "      <th>kfold 4</th>\n",
       "      <th>kfold 5</th>\n",
       "      <th>kfold 6</th>\n",
       "      <th>kfold 7</th>\n",
       "      <th>kfold 8</th>\n",
       "      <th>kfold 9</th>\n",
       "    </tr>\n",
       "  </thead>\n",
       "  <tbody>\n",
       "    <tr>\n",
       "      <th>rmsle</th>\n",
       "      <td>0.746388</td>\n",
       "      <td>7.474232e-01</td>\n",
       "      <td>0.750921</td>\n",
       "      <td>0.749084</td>\n",
       "      <td>0.744252</td>\n",
       "      <td>0.759594</td>\n",
       "      <td>0.751336</td>\n",
       "      <td>0.753037</td>\n",
       "      <td>0.743650</td>\n",
       "    </tr>\n",
       "    <tr>\n",
       "      <th>rmse</th>\n",
       "      <td>234946.574457</td>\n",
       "      <td>1.907130e+06</td>\n",
       "      <td>236496.158622</td>\n",
       "      <td>234923.083207</td>\n",
       "      <td>232514.283121</td>\n",
       "      <td>240221.847121</td>\n",
       "      <td>235508.055390</td>\n",
       "      <td>236399.308401</td>\n",
       "      <td>234264.969327</td>\n",
       "    </tr>\n",
       "    <tr>\n",
       "      <th>mae</th>\n",
       "      <td>384.953215</td>\n",
       "      <td>3.969024e+02</td>\n",
       "      <td>383.364647</td>\n",
       "      <td>383.735690</td>\n",
       "      <td>383.580922</td>\n",
       "      <td>385.981166</td>\n",
       "      <td>383.122426</td>\n",
       "      <td>383.360125</td>\n",
       "      <td>382.708656</td>\n",
       "    </tr>\n",
       "  </tbody>\n",
       "</table>\n",
       "</div>"
      ],
      "text/plain": [
       "             kfold 1       kfold 2        kfold 3        kfold 4  \\\n",
       "rmsle       0.746388  7.474232e-01       0.750921       0.749084   \n",
       "rmse   234946.574457  1.907130e+06  236496.158622  234923.083207   \n",
       "mae       384.953215  3.969024e+02     383.364647     383.735690   \n",
       "\n",
       "             kfold 5        kfold 6        kfold 7        kfold 8  \\\n",
       "rmsle       0.744252       0.759594       0.751336       0.753037   \n",
       "rmse   232514.283121  240221.847121  235508.055390  236399.308401   \n",
       "mae       383.580922     385.981166     383.122426     383.360125   \n",
       "\n",
       "             kfold 9  \n",
       "rmsle       0.743650  \n",
       "rmse   234264.969327  \n",
       "mae       382.708656  "
      ]
     },
     "execution_count": 56,
     "metadata": {},
     "output_type": "execute_result"
    }
   ],
   "source": [
    "cv_score()"
   ]
  },
  {
   "cell_type": "markdown",
   "metadata": {},
   "source": [
    "returns individual evaluation metric scores as a dataframe ,predefined set of columns and a model is passed as an argument\n"
   ]
  },
  {
   "cell_type": "code",
   "execution_count": 57,
   "metadata": {},
   "outputs": [],
   "source": [
    "  def eval_score(ml_model=model, rstate = r, cols =x.columns.tolist()):\n",
    "        i = 1\n",
    "        indexlist=[]\n",
    "    \n",
    "        # Define model for fitting on the training set for each fold\n",
    "        model = ml_model\n",
    "        model.fit(train_x[cols],train_y)\n",
    "        pred = model.predict(val_x[cols])\n",
    "         \n",
    "        # Calculate scores for each fold and print\n",
    "        pred_val = pred\n",
    "        rmsle1 = rmsle(val_y,pred_val)\n",
    "        rmse1=rmse(val_y,pred_val,squared=True)\n",
    "        mae1=mae(val_y,pred_val)\n",
    "        \n",
    "         # Save scores\n",
    "        indexlist.append((\"kfold \"+str((i))))\n",
    "        i=i+1\n",
    "        eval_score=pd.DataFrame([rmsle1,rmse1,mae1],index=eval_metric,columns=['score'])\n",
    "        return eval_score"
   ]
  },
  {
   "cell_type": "code",
   "execution_count": 58,
   "metadata": {},
   "outputs": [
    {
     "data": {
      "text/html": [
       "<div>\n",
       "<style scoped>\n",
       "    .dataframe tbody tr th:only-of-type {\n",
       "        vertical-align: middle;\n",
       "    }\n",
       "\n",
       "    .dataframe tbody tr th {\n",
       "        vertical-align: top;\n",
       "    }\n",
       "\n",
       "    .dataframe thead th {\n",
       "        text-align: right;\n",
       "    }\n",
       "</style>\n",
       "<table border=\"1\" class=\"dataframe\">\n",
       "  <thead>\n",
       "    <tr style=\"text-align: right;\">\n",
       "      <th></th>\n",
       "      <th>score</th>\n",
       "    </tr>\n",
       "  </thead>\n",
       "  <tbody>\n",
       "    <tr>\n",
       "      <th>rmsle</th>\n",
       "      <td>0.747574</td>\n",
       "    </tr>\n",
       "    <tr>\n",
       "      <th>rmse</th>\n",
       "      <td>236780.668840</td>\n",
       "    </tr>\n",
       "    <tr>\n",
       "      <th>mae</th>\n",
       "      <td>384.009355</td>\n",
       "    </tr>\n",
       "  </tbody>\n",
       "</table>\n",
       "</div>"
      ],
      "text/plain": [
       "               score\n",
       "rmsle       0.747574\n",
       "rmse   236780.668840\n",
       "mae       384.009355"
      ]
     },
     "execution_count": 58,
     "metadata": {},
     "output_type": "execute_result"
    }
   ],
   "source": [
    "eval_score()"
   ]
  },
  {
   "cell_type": "markdown",
   "metadata": {},
   "source": [
    "this is a ranking of features based on how significant they are to our analysis according to RFE"
   ]
  },
  {
   "cell_type": "code",
   "execution_count": 59,
   "metadata": {},
   "outputs": [],
   "source": [
    "from sklearn.feature_selection import RFE\n",
    "\n",
    "# Create the RFE object and rank each feature\n",
    "\n",
    "rfe = RFE(estimator=model, n_features_to_select=1, step=1)\n",
    "rfe.fit(train_x, train_y)\n",
    "ranking_df = pd.DataFrame()\n",
    "ranking_df['Feature_name'] = x.iloc[0,].index\n",
    "ranking_df['Rank'] = rfe.ranking_\n",
    "ranked = ranking_df.sort_values(by=['Rank'])"
   ]
  },
  {
   "cell_type": "code",
   "execution_count": 60,
   "metadata": {},
   "outputs": [
    {
     "data": {
      "text/html": [
       "<div>\n",
       "<style scoped>\n",
       "    .dataframe tbody tr th:only-of-type {\n",
       "        vertical-align: middle;\n",
       "    }\n",
       "\n",
       "    .dataframe tbody tr th {\n",
       "        vertical-align: top;\n",
       "    }\n",
       "\n",
       "    .dataframe thead th {\n",
       "        text-align: right;\n",
       "    }\n",
       "</style>\n",
       "<table border=\"1\" class=\"dataframe\">\n",
       "  <thead>\n",
       "    <tr style=\"text-align: right;\">\n",
       "      <th></th>\n",
       "      <th>Feature_name</th>\n",
       "      <th>Rank</th>\n",
       "    </tr>\n",
       "  </thead>\n",
       "  <tbody>\n",
       "    <tr>\n",
       "      <th>2</th>\n",
       "      <td>pickup_longitude</td>\n",
       "      <td>1</td>\n",
       "    </tr>\n",
       "    <tr>\n",
       "      <th>12</th>\n",
       "      <td>moy_dropof</td>\n",
       "      <td>2</td>\n",
       "    </tr>\n",
       "    <tr>\n",
       "      <th>8</th>\n",
       "      <td>moy_pickup</td>\n",
       "      <td>3</td>\n",
       "    </tr>\n",
       "    <tr>\n",
       "      <th>4</th>\n",
       "      <td>dropoff_longitude</td>\n",
       "      <td>4</td>\n",
       "    </tr>\n",
       "    <tr>\n",
       "      <th>3</th>\n",
       "      <td>pickup_latitude</td>\n",
       "      <td>5</td>\n",
       "    </tr>\n",
       "    <tr>\n",
       "      <th>5</th>\n",
       "      <td>dropoff_latitude</td>\n",
       "      <td>6</td>\n",
       "    </tr>\n",
       "    <tr>\n",
       "      <th>9</th>\n",
       "      <td>dow_pickup</td>\n",
       "      <td>7</td>\n",
       "    </tr>\n",
       "    <tr>\n",
       "      <th>13</th>\n",
       "      <td>dow_dropof</td>\n",
       "      <td>8</td>\n",
       "    </tr>\n",
       "    <tr>\n",
       "      <th>6</th>\n",
       "      <td>store_and_fwd_flag</td>\n",
       "      <td>9</td>\n",
       "    </tr>\n",
       "    <tr>\n",
       "      <th>0</th>\n",
       "      <td>vendor_id</td>\n",
       "      <td>10</td>\n",
       "    </tr>\n",
       "    <tr>\n",
       "      <th>7</th>\n",
       "      <td>woy_pickup</td>\n",
       "      <td>11</td>\n",
       "    </tr>\n",
       "    <tr>\n",
       "      <th>11</th>\n",
       "      <td>woy_dropof</td>\n",
       "      <td>12</td>\n",
       "    </tr>\n",
       "    <tr>\n",
       "      <th>1</th>\n",
       "      <td>passenger_count</td>\n",
       "      <td>13</td>\n",
       "    </tr>\n",
       "    <tr>\n",
       "      <th>10</th>\n",
       "      <td>doy_dropof</td>\n",
       "      <td>14</td>\n",
       "    </tr>\n",
       "  </tbody>\n",
       "</table>\n",
       "</div>"
      ],
      "text/plain": [
       "          Feature_name  Rank\n",
       "2     pickup_longitude     1\n",
       "12          moy_dropof     2\n",
       "8           moy_pickup     3\n",
       "4    dropoff_longitude     4\n",
       "3      pickup_latitude     5\n",
       "5     dropoff_latitude     6\n",
       "9           dow_pickup     7\n",
       "13          dow_dropof     8\n",
       "6   store_and_fwd_flag     9\n",
       "0            vendor_id    10\n",
       "7           woy_pickup    11\n",
       "11          woy_dropof    12\n",
       "1      passenger_count    13\n",
       "10          doy_dropof    14"
      ]
     },
     "execution_count": 60,
     "metadata": {},
     "output_type": "execute_result"
    }
   ],
   "source": [
    "ranked"
   ]
  },
  {
   "cell_type": "code",
   "execution_count": 61,
   "metadata": {},
   "outputs": [],
   "source": [
    "\n",
    "def noof_features_metric(nrank):\n",
    "  sco_featlist=[]\n",
    "  for i in eval_metric:\n",
    "    sco_feat=eval_score(cols = ranked['Feature_name'].iloc[:(nrank)].values.tolist()).score[i]\n",
    "    sco_featlist.append(sco_feat)\n",
    "  return pd.DataFrame(sco_featlist,index=eval_metric,columns=[\"rfe top\"+str(nrank)])"
   ]
  },
  {
   "cell_type": "markdown",
   "metadata": {},
   "source": [
    "calculating no of top features to be taken in the model(acc to rfe) with respect to a evaluation metric which maximises that particular evaluation metric  "
   ]
  },
  {
   "cell_type": "code",
   "execution_count": 62,
   "metadata": {},
   "outputs": [],
   "source": [
    "topn_feat=0\n",
    "c=-1\n",
    "topfeatlist=[]\n",
    "topfeatscorelist=[]\n",
    "for i in eval_metric:\n",
    " c=c+1\n",
    " score=0\n",
    " min=1000000\n",
    " for j in range(1,len(x.columns.tolist())):\n",
    "  score=noof_features_metric(j).iloc[c].values\n",
    "  if(score<min):\n",
    "    min=score\n",
    "    topn_feat=j\n",
    " topfeatlist.append(topn_feat)\n",
    " topfeatscorelist.append(min)\n",
    "topfeat=pd.DataFrame([topfeatlist,topfeatscorelist],columns=eval_metric,index=[\"rfe top feat\",\"corresponding score\"])\n",
    "   "
   ]
  },
  {
   "cell_type": "code",
   "execution_count": 63,
   "metadata": {},
   "outputs": [
    {
     "data": {
      "text/html": [
       "<div>\n",
       "<style scoped>\n",
       "    .dataframe tbody tr th:only-of-type {\n",
       "        vertical-align: middle;\n",
       "    }\n",
       "\n",
       "    .dataframe tbody tr th {\n",
       "        vertical-align: top;\n",
       "    }\n",
       "\n",
       "    .dataframe thead th {\n",
       "        text-align: right;\n",
       "    }\n",
       "</style>\n",
       "<table border=\"1\" class=\"dataframe\">\n",
       "  <thead>\n",
       "    <tr style=\"text-align: right;\">\n",
       "      <th></th>\n",
       "      <th>rmsle</th>\n",
       "      <th>rmse</th>\n",
       "      <th>mae</th>\n",
       "    </tr>\n",
       "  </thead>\n",
       "  <tbody>\n",
       "    <tr>\n",
       "      <th>rfe top feat</th>\n",
       "      <td>7</td>\n",
       "      <td>13</td>\n",
       "      <td>13</td>\n",
       "    </tr>\n",
       "    <tr>\n",
       "      <th>corresponding score</th>\n",
       "      <td>[0.7463199907052781]</td>\n",
       "      <td>[236796.73248218527]</td>\n",
       "      <td>[384.0308809625873]</td>\n",
       "    </tr>\n",
       "  </tbody>\n",
       "</table>\n",
       "</div>"
      ],
      "text/plain": [
       "                                    rmsle                  rmse  \\\n",
       "rfe top feat                            7                    13   \n",
       "corresponding score  [0.7463199907052781]  [236796.73248218527]   \n",
       "\n",
       "                                     mae  \n",
       "rfe top feat                          13  \n",
       "corresponding score  [384.0308809625873]  "
      ]
     },
     "execution_count": 63,
     "metadata": {},
     "output_type": "execute_result"
    }
   ],
   "source": [
    "topfeat"
   ]
  },
  {
   "cell_type": "markdown",
   "metadata": {},
   "source": [
    "# test"
   ]
  },
  {
   "cell_type": "markdown",
   "metadata": {},
   "source": [
    "with main columns with respect to each evaluation metric . columns have been filtered wrt to their coefficients ,ridge regularisation and ranking system rfe"
   ]
  },
  {
   "cell_type": "code",
   "execution_count": 64,
   "metadata": {},
   "outputs": [
    {
     "name": "stdout",
     "output_type": "stream",
     "text": [
      "the rmse score has top 7 features (chosen by rfe) where the evaluation metric rmsle reaches the lowest score: [0.74631999] compared to other combination of feature used to make the model = 323575.34882133716\n",
      "the rmse score has top 13 features (chosen by rfe) where the evaluation metric rmse reaches the lowest score: [236796.73248219] compared to other combination of feature used to make the model = 323944.30487328494\n",
      "the rmse score has top 13 features (chosen by rfe) where the evaluation metric mae reaches the lowest score: [384.03088096] compared to other combination of feature used to make the model = 323944.30487328494\n"
     ]
    }
   ],
   "source": [
    "predicted_wrt_evaluationmetrics=[]\n",
    "rmslelist,rmselist,maelist,test_colslist, topncollist,indexlist=[[],[],[],[],[],[]]\n",
    "for i in range(len(eval_metric)):\n",
    " testmetric=eval_metric[i]\n",
    " topn_feat=topfeat[testmetric][0]\n",
    " test_cols= ranked['Feature_name'].iloc[:(topn_feat)].values.tolist()\n",
    " train_x_cols,test_x_cols,train_y,test_y = train_test_split(x[test_cols],y,test_size=1/4, random_state=r)\n",
    " train_x_cols,val_x_cols,train_y,val_y= train_test_split(train_x_cols, train_y, test_size=1/3, random_state=r)\n",
    " model.fit(train_x_cols,train_y)\n",
    " test_pred_cols= model.predict(test_x_cols)\n",
    "\n",
    " topncollist.append(topn_feat)\n",
    " test_colslist.append(test_cols)\n",
    " rmsle1=rmsle(test_y,test_pred_cols)\n",
    " rmse1=rmse(test_y,test_pred_cols,squared=True)\n",
    " mae1=mae(test_y,test_pred_cols)\n",
    "    \n",
    " rmslelist.append(rmsle1)\n",
    " rmselist.append(rmse1)\n",
    " maelist.append(mae1)\n",
    " indexlist.append(i)\n",
    " print(\"the rmse score has top \"+str(topfeat[testmetric][0])+\" features (chosen by rfe) where the evaluation metric \"+str(testmetric)+\" reaches the lowest score: \"+str(topfeat[testmetric][1])+\" compared to other combination of feature used to make the model =\", rmse(val_y, test_pred_cols,squared=True),end= '\\n')\n",
    " predicted_wrt_evaluationmetrics.append(test_pred_cols)"
   ]
  },
  {
   "cell_type": "code",
   "execution_count": 65,
   "metadata": {},
   "outputs": [
    {
     "data": {
      "text/html": [
       "<div>\n",
       "<style scoped>\n",
       "    .dataframe tbody tr th:only-of-type {\n",
       "        vertical-align: middle;\n",
       "    }\n",
       "\n",
       "    .dataframe tbody tr th {\n",
       "        vertical-align: top;\n",
       "    }\n",
       "\n",
       "    .dataframe thead th {\n",
       "        text-align: right;\n",
       "    }\n",
       "</style>\n",
       "<table border=\"1\" class=\"dataframe\">\n",
       "  <thead>\n",
       "    <tr style=\"text-align: right;\">\n",
       "      <th></th>\n",
       "      <th>rmsle</th>\n",
       "      <th>rmse</th>\n",
       "      <th>mae</th>\n",
       "    </tr>\n",
       "  </thead>\n",
       "  <tbody>\n",
       "    <tr>\n",
       "      <th>topn cols (rfe) which minimizes respective column metric</th>\n",
       "      <td>7</td>\n",
       "      <td>13</td>\n",
       "      <td>13</td>\n",
       "    </tr>\n",
       "    <tr>\n",
       "      <th>name of above cols</th>\n",
       "      <td>[pickup_longitude, moy_dropof, moy_pickup, dro...</td>\n",
       "      <td>[pickup_longitude, moy_dropof, moy_pickup, dro...</td>\n",
       "      <td>[pickup_longitude, moy_dropof, moy_pickup, dro...</td>\n",
       "    </tr>\n",
       "    <tr>\n",
       "      <th>rmsle of model having above cols</th>\n",
       "      <td>0.751619</td>\n",
       "      <td>0.752487</td>\n",
       "      <td>0.752487</td>\n",
       "    </tr>\n",
       "    <tr>\n",
       "      <th>rmse of model having above cols</th>\n",
       "      <td>233751.38891</td>\n",
       "      <td>233560.619797</td>\n",
       "      <td>233560.619797</td>\n",
       "    </tr>\n",
       "    <tr>\n",
       "      <th>mae of model having above cols</th>\n",
       "      <td>382.66252</td>\n",
       "      <td>382.495136</td>\n",
       "      <td>382.495136</td>\n",
       "    </tr>\n",
       "  </tbody>\n",
       "</table>\n",
       "</div>"
      ],
      "text/plain": [
       "                                                                                                rmsle  \\\n",
       "topn cols (rfe) which minimizes respective colu...                                                  7   \n",
       "name of above cols                                  [pickup_longitude, moy_dropof, moy_pickup, dro...   \n",
       "rmsle of model having above cols                                                             0.751619   \n",
       "rmse of model having above cols                                                          233751.38891   \n",
       "mae of model having above cols                                                              382.66252   \n",
       "\n",
       "                                                                                                 rmse  \\\n",
       "topn cols (rfe) which minimizes respective colu...                                                 13   \n",
       "name of above cols                                  [pickup_longitude, moy_dropof, moy_pickup, dro...   \n",
       "rmsle of model having above cols                                                             0.752487   \n",
       "rmse of model having above cols                                                         233560.619797   \n",
       "mae of model having above cols                                                             382.495136   \n",
       "\n",
       "                                                                                                  mae  \n",
       "topn cols (rfe) which minimizes respective colu...                                                 13  \n",
       "name of above cols                                  [pickup_longitude, moy_dropof, moy_pickup, dro...  \n",
       "rmsle of model having above cols                                                             0.752487  \n",
       "rmse of model having above cols                                                         233560.619797  \n",
       "mae of model having above cols                                                             382.495136  "
      ]
     },
     "execution_count": 65,
     "metadata": {},
     "output_type": "execute_result"
    }
   ],
   "source": [
    "testtable=pd.DataFrame([topncollist,test_colslist, rmslelist,rmselist,maelist],index=['topn cols (rfe) which minimizes respective column metric','name of above cols','rmsle of model having above cols','rmse of model having above cols','mae of model having above cols'],columns=eval_metric)\n",
    "testtable"
   ]
  },
  {
   "cell_type": "code",
   "execution_count": 66,
   "metadata": {},
   "outputs": [
    {
     "name": "stdout",
     "output_type": "stream",
     "text": [
      "the model below has been predicted by topn cols (rfe) wrt to minimizing  rmsle\n"
     ]
    }
   ],
   "source": [
    "print(\"the model below has been predicted by topn cols (rfe) wrt to minimizing \", eval_metric[0],end='\\n')"
   ]
  },
  {
   "cell_type": "code",
   "execution_count": 67,
   "metadata": {},
   "outputs": [
    {
     "data": {
      "text/plain": [
       "array([ 763.68025136,  679.86076779,  752.56508795,  739.49160143,\n",
       "        773.7014854 ,  717.15251969,  726.83643494,  717.68350526,\n",
       "        773.90145687,  725.12026655,  481.37891238,  541.31911765,\n",
       "       1156.27351729,  777.35619548,  756.2518118 , 1416.44355784,\n",
       "        721.25060205,  744.07833922,  715.18313995,  777.73258714,\n",
       "        760.72522957, 1329.31037321,  712.84246561,  709.37046623,\n",
       "        697.29663868,  741.51279564, 1013.14842611,  715.55327027,\n",
       "        734.43347535,  712.29226548,  691.60986557,  783.44784645,\n",
       "        735.93112654,  746.42879538,  723.11167404,  779.64723905,\n",
       "       1336.54126952,  799.64800019,  731.44461739,  761.84517323,\n",
       "        764.4973492 ,  776.03001643,  751.84903266,  735.95220184,\n",
       "        717.74295883, 1593.00495708,  761.49604148,  724.80721374,\n",
       "        733.52748798,  699.87262195,  776.37099474,  739.49101534,\n",
       "        673.1330192 ,  733.95247941,  719.34018216,  779.81286623,\n",
       "        721.67534605,  734.22537642,  725.01223636,  771.68812543,\n",
       "        756.47462495,  704.90491498,  771.14172909,  541.51595335,\n",
       "        737.90201526, 1113.86089481,  801.91095452,  725.74515362,\n",
       "        701.73291992,  718.03479303,  738.49881724,  792.43809754,\n",
       "       1172.876092  ,  749.73310533,  707.82721816,  712.31324206,\n",
       "        775.55605774,  775.27980021,  719.06330604,  760.35297236,\n",
       "        685.31572328,  730.43752711,  700.77319323,  682.94315745,\n",
       "        776.434046  ,  773.49704105,  781.52787564,  776.20597739,\n",
       "        709.07112949,  657.41997936,  712.13841012, 1022.49284268,\n",
       "        785.4932864 ,  687.13594905,  517.21265304,  716.13649685,\n",
       "        752.31830935,  734.75815952, 1898.07433282,  751.99415845])"
      ]
     },
     "execution_count": 67,
     "metadata": {},
     "output_type": "execute_result"
    }
   ],
   "source": [
    "predicted_wrt_evaluationmetrics[0][0:100]"
   ]
  },
  {
   "cell_type": "code",
   "execution_count": 68,
   "metadata": {},
   "outputs": [
    {
     "name": "stdout",
     "output_type": "stream",
     "text": [
      "the model below has been predicted by topn cols (rfe) wrt to minimizing  rmse\n"
     ]
    }
   ],
   "source": [
    "print(\"the model below has been predicted by topn cols (rfe) wrt to minimizing \", eval_metric[1],end='\\n')"
   ]
  },
  {
   "cell_type": "code",
   "execution_count": 69,
   "metadata": {},
   "outputs": [
    {
     "data": {
      "text/plain": [
       "array([ 763.03310981,  682.89825909,  750.97927361,  736.97285665,\n",
       "        763.13256561,  720.67876873,  714.26978866,  705.39476534,\n",
       "        763.89470891,  712.82944013,  482.26676893,  529.95219537,\n",
       "       1155.36069138,  773.05300682,  757.95291899, 1401.22066865,\n",
       "        710.70361718,  752.830236  ,  744.13620833,  804.06381834,\n",
       "        747.26755685, 1314.75351268,  713.70259428,  698.08873875,\n",
       "        715.87278834,  747.40165813, 1013.73439921,  718.8589093 ,\n",
       "        726.7684544 ,  711.70985716,  694.58353743,  783.44882132,\n",
       "        764.49498366,  748.21239616,  715.6389101 ,  779.13404605,\n",
       "       1325.24640829,  805.36026459,  731.70955949,  760.86020022,\n",
       "        791.86453523,  785.76492865,  743.48116271,  724.6817832 ,\n",
       "        723.95458858, 1590.12482342,  768.31864964,  717.01869313,\n",
       "        750.29076976,  688.58325582,  802.42728154,  728.54251921,\n",
       "        681.32214815,  735.97450437,  711.20252259,  776.65646104,\n",
       "        710.73358609,  726.53975841,  739.12306299,  795.40502535,\n",
       "        746.94602727,  694.55158234,  758.43213729,  539.39766531,\n",
       "        728.70943023, 1102.50376017,  790.19240431,  724.47276669,\n",
       "        712.22680092,  736.40811798,  744.17692117,  792.13569683,\n",
       "       1200.11680461,  737.23156932,  715.23079918,  702.98874742,\n",
       "        788.23834675,  777.20396423,  710.54522334,  760.27871712,\n",
       "        674.74463483,  743.93972386,  707.14636894,  685.52844311,\n",
       "        772.74310058,  762.68119931,  769.65919224,  764.10647695,\n",
       "        701.72470042,  669.02138587,  700.20879242, 1010.84908628,\n",
       "        775.90714469,  675.94421543,  507.15510316,  719.27366616,\n",
       "        755.522218  ,  729.63452041, 1885.12554484,  757.28687126])"
      ]
     },
     "execution_count": 69,
     "metadata": {},
     "output_type": "execute_result"
    }
   ],
   "source": [
    "predicted_wrt_evaluationmetrics[1][0:100]"
   ]
  },
  {
   "cell_type": "code",
   "execution_count": 70,
   "metadata": {},
   "outputs": [
    {
     "name": "stdout",
     "output_type": "stream",
     "text": [
      "the model below has been predicted by topn cols (rfe) wrt to minimizing  mae\n"
     ]
    }
   ],
   "source": [
    "print(\"the model below has been predicted by topn cols (rfe) wrt to minimizing \", eval_metric[2],end='\\n')"
   ]
  },
  {
   "cell_type": "code",
   "execution_count": 71,
   "metadata": {},
   "outputs": [
    {
     "data": {
      "text/plain": [
       "array([ 763.03310981,  682.89825909,  750.97927361,  736.97285665,\n",
       "        763.13256561,  720.67876873,  714.26978866,  705.39476534,\n",
       "        763.89470891,  712.82944013,  482.26676893,  529.95219537,\n",
       "       1155.36069138,  773.05300682,  757.95291899, 1401.22066865,\n",
       "        710.70361718,  752.830236  ,  744.13620833,  804.06381834,\n",
       "        747.26755685, 1314.75351268,  713.70259428,  698.08873875,\n",
       "        715.87278834,  747.40165813, 1013.73439921,  718.8589093 ,\n",
       "        726.7684544 ,  711.70985716,  694.58353743,  783.44882132,\n",
       "        764.49498366,  748.21239616,  715.6389101 ,  779.13404605,\n",
       "       1325.24640829,  805.36026459,  731.70955949,  760.86020022,\n",
       "        791.86453523,  785.76492865,  743.48116271,  724.6817832 ,\n",
       "        723.95458858, 1590.12482342,  768.31864964,  717.01869313,\n",
       "        750.29076976,  688.58325582,  802.42728154,  728.54251921,\n",
       "        681.32214815,  735.97450437,  711.20252259,  776.65646104,\n",
       "        710.73358609,  726.53975841,  739.12306299,  795.40502535,\n",
       "        746.94602727,  694.55158234,  758.43213729,  539.39766531,\n",
       "        728.70943023, 1102.50376017,  790.19240431,  724.47276669,\n",
       "        712.22680092,  736.40811798,  744.17692117,  792.13569683,\n",
       "       1200.11680461,  737.23156932,  715.23079918,  702.98874742,\n",
       "        788.23834675,  777.20396423,  710.54522334,  760.27871712,\n",
       "        674.74463483,  743.93972386,  707.14636894,  685.52844311,\n",
       "        772.74310058,  762.68119931,  769.65919224,  764.10647695,\n",
       "        701.72470042,  669.02138587,  700.20879242, 1010.84908628,\n",
       "        775.90714469,  675.94421543,  507.15510316,  719.27366616,\n",
       "        755.522218  ,  729.63452041, 1885.12554484,  757.28687126])"
      ]
     },
     "execution_count": 71,
     "metadata": {},
     "output_type": "execute_result"
    }
   ],
   "source": [
    "predicted_wrt_evaluationmetrics[2][0:100]"
   ]
  },
  {
   "cell_type": "markdown",
   "metadata": {},
   "source": [
    "## all columns"
   ]
  },
  {
   "cell_type": "code",
   "execution_count": 72,
   "metadata": {},
   "outputs": [],
   "source": [
    "model.fit(train_x,train_y)\n",
    "test_pred = model.predict(test_x)\n"
   ]
  },
  {
   "cell_type": "code",
   "execution_count": 73,
   "metadata": {},
   "outputs": [
    {
     "data": {
      "text/plain": [
       "0.7524510782853355"
      ]
     },
     "execution_count": 73,
     "metadata": {},
     "output_type": "execute_result"
    }
   ],
   "source": [
    "rmsle(test_y,test_pred)"
   ]
  },
  {
   "cell_type": "code",
   "execution_count": 74,
   "metadata": {},
   "outputs": [
    {
     "data": {
      "text/plain": [
       "233544.95073257352"
      ]
     },
     "execution_count": 74,
     "metadata": {},
     "output_type": "execute_result"
    }
   ],
   "source": [
    "rmse(test_y,test_pred,squared=True)"
   ]
  },
  {
   "cell_type": "code",
   "execution_count": 75,
   "metadata": {},
   "outputs": [
    {
     "data": {
      "text/plain": [
       "382.48578249881007"
      ]
     },
     "execution_count": 75,
     "metadata": {},
     "output_type": "execute_result"
    }
   ],
   "source": [
    "mae(test_y,test_pred)"
   ]
  }
 ],
 "metadata": {
  "colab": {
   "collapsed_sections": [],
   "name": "Logistic regression Notebook.ipynb",
   "provenance": [],
   "version": "0.3.2"
  },
  "kernelspec": {
   "display_name": "Python 3",
   "language": "python",
   "name": "python3"
  },
  "language_info": {
   "codemirror_mode": {
    "name": "ipython",
    "version": 3
   },
   "file_extension": ".py",
   "mimetype": "text/x-python",
   "name": "python",
   "nbconvert_exporter": "python",
   "pygments_lexer": "ipython3",
   "version": "3.8.8"
  }
 },
 "nbformat": 4,
 "nbformat_minor": 1
}

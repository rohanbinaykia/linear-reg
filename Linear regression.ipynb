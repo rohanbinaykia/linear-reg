{
 "cells": [
  {
   "cell_type": "markdown",
   "metadata": {},
   "source": [
    "# LINEAR REGRESSION"
   ]
  },
  {
   "cell_type": "markdown",
   "metadata": {},
   "source": [
    "### importing libraries"
   ]
  },
  {
   "cell_type": "code",
   "execution_count": 79,
   "metadata": {
    "colab": {},
    "colab_type": "code",
    "id": "eWchGPfa9xW9"
   },
   "outputs": [],
   "source": [
    "#importing libraries \n",
    "import pandas as pd \n",
    "import numpy as np\n",
    "import matplotlib.pyplot as plt\n",
    "%matplotlib inline\n",
    "import sklearn\n",
    "import seaborn as sns\n",
    "import math\n",
    "import statsmodels.api as sm"
   ]
  },
  {
   "cell_type": "code",
   "execution_count": 80,
   "metadata": {},
   "outputs": [],
   "source": [
    "\n",
    "from sklearn.linear_model import Ridge\n",
    "from sklearn.metrics import f1_score as f1\n",
    "from sklearn.preprocessing import LabelEncoder\n",
    "from sklearn.preprocessing import StandardScaler \n",
    "from sklearn.linear_model import LinearRegression as lr\n",
    "from sklearn.model_selection import KFold, StratifiedKFold, train_test_split\n",
    "from sklearn.metrics import mean_squared_error as rmse,mean_absolute_error as mae, mean_squared_log_error as rmsle\n",
    "\n",
    "import warnings\n",
    "warnings.simplefilter(action='ignore', category=FutureWarning)\n",
    "warnings.simplefilter(action='ignore', category=UserWarning)\n",
    "warnings.simplefilter(action='ignore', category=RuntimeWarning)\n"
   ]
  },
  {
   "cell_type": "markdown",
   "metadata": {},
   "source": [
    "# random state"
   ]
  },
  {
   "cell_type": "code",
   "execution_count": 81,
   "metadata": {},
   "outputs": [],
   "source": [
    "r=76"
   ]
  },
  {
   "cell_type": "markdown",
   "metadata": {},
   "source": [
    "### importing data"
   ]
  },
  {
   "cell_type": "code",
   "execution_count": 82,
   "metadata": {},
   "outputs": [
    {
     "data": {
      "text/plain": [
       "'0.24.1'"
      ]
     },
     "execution_count": 82,
     "metadata": {},
     "output_type": "execute_result"
    }
   ],
   "source": [
    "sklearn.__version__"
   ]
  },
  {
   "cell_type": "code",
   "execution_count": 83,
   "metadata": {
    "colab": {
     "base_uri": "https://localhost:8080/",
     "height": 226
    },
    "colab_type": "code",
    "executionInfo": {
     "elapsed": 3051,
     "status": "ok",
     "timestamp": 1559907752330,
     "user": {
      "displayName": "Aishwarya Singh",
      "photoUrl": "https://lh5.googleusercontent.com/-72ZtNB76Qxg/AAAAAAAAAAI/AAAAAAAAAAc/Nsa5vQruND0/s64/photo.jpg",
      "userId": "01105858832371513140"
     },
     "user_tz": -330
    },
    "id": "NB5xYyHg9xXA",
    "outputId": "7eaac4d1-42cd-4178-96e1-e9ccabc75020",
    "scrolled": true
   },
   "outputs": [
    {
     "data": {
      "text/html": [
       "<div>\n",
       "<style scoped>\n",
       "    .dataframe tbody tr th:only-of-type {\n",
       "        vertical-align: middle;\n",
       "    }\n",
       "\n",
       "    .dataframe tbody tr th {\n",
       "        vertical-align: top;\n",
       "    }\n",
       "\n",
       "    .dataframe thead th {\n",
       "        text-align: right;\n",
       "    }\n",
       "</style>\n",
       "<table border=\"1\" class=\"dataframe\">\n",
       "  <thead>\n",
       "    <tr style=\"text-align: right;\">\n",
       "      <th></th>\n",
       "      <th>id</th>\n",
       "      <th>vendor_id</th>\n",
       "      <th>pickup_datetime</th>\n",
       "      <th>dropoff_datetime</th>\n",
       "      <th>passenger_count</th>\n",
       "      <th>pickup_longitude</th>\n",
       "      <th>pickup_latitude</th>\n",
       "      <th>dropoff_longitude</th>\n",
       "      <th>dropoff_latitude</th>\n",
       "      <th>store_and_fwd_flag</th>\n",
       "      <th>trip_duration</th>\n",
       "    </tr>\n",
       "  </thead>\n",
       "  <tbody>\n",
       "    <tr>\n",
       "      <th>0</th>\n",
       "      <td>id1080784</td>\n",
       "      <td>2</td>\n",
       "      <td>2016-02-29 16:40:21</td>\n",
       "      <td>2016-02-29 16:47:01</td>\n",
       "      <td>1</td>\n",
       "      <td>-73.953918</td>\n",
       "      <td>40.778873</td>\n",
       "      <td>-73.963875</td>\n",
       "      <td>40.771164</td>\n",
       "      <td>N</td>\n",
       "      <td>400</td>\n",
       "    </tr>\n",
       "    <tr>\n",
       "      <th>1</th>\n",
       "      <td>id0889885</td>\n",
       "      <td>1</td>\n",
       "      <td>2016-03-11 23:35:37</td>\n",
       "      <td>2016-03-11 23:53:57</td>\n",
       "      <td>2</td>\n",
       "      <td>-73.988312</td>\n",
       "      <td>40.731743</td>\n",
       "      <td>-73.994751</td>\n",
       "      <td>40.694931</td>\n",
       "      <td>N</td>\n",
       "      <td>1100</td>\n",
       "    </tr>\n",
       "    <tr>\n",
       "      <th>2</th>\n",
       "      <td>id0857912</td>\n",
       "      <td>2</td>\n",
       "      <td>2016-02-21 17:59:33</td>\n",
       "      <td>2016-02-21 18:26:48</td>\n",
       "      <td>2</td>\n",
       "      <td>-73.997314</td>\n",
       "      <td>40.721458</td>\n",
       "      <td>-73.948029</td>\n",
       "      <td>40.774918</td>\n",
       "      <td>N</td>\n",
       "      <td>1635</td>\n",
       "    </tr>\n",
       "    <tr>\n",
       "      <th>3</th>\n",
       "      <td>id3744273</td>\n",
       "      <td>2</td>\n",
       "      <td>2016-01-05 09:44:31</td>\n",
       "      <td>2016-01-05 10:03:32</td>\n",
       "      <td>6</td>\n",
       "      <td>-73.961670</td>\n",
       "      <td>40.759720</td>\n",
       "      <td>-73.956779</td>\n",
       "      <td>40.780628</td>\n",
       "      <td>N</td>\n",
       "      <td>1141</td>\n",
       "    </tr>\n",
       "    <tr>\n",
       "      <th>4</th>\n",
       "      <td>id0232939</td>\n",
       "      <td>1</td>\n",
       "      <td>2016-02-17 06:42:23</td>\n",
       "      <td>2016-02-17 06:56:31</td>\n",
       "      <td>1</td>\n",
       "      <td>-74.017120</td>\n",
       "      <td>40.708469</td>\n",
       "      <td>-73.988182</td>\n",
       "      <td>40.740631</td>\n",
       "      <td>N</td>\n",
       "      <td>848</td>\n",
       "    </tr>\n",
       "  </tbody>\n",
       "</table>\n",
       "</div>"
      ],
      "text/plain": [
       "          id  vendor_id      pickup_datetime     dropoff_datetime  \\\n",
       "0  id1080784          2  2016-02-29 16:40:21  2016-02-29 16:47:01   \n",
       "1  id0889885          1  2016-03-11 23:35:37  2016-03-11 23:53:57   \n",
       "2  id0857912          2  2016-02-21 17:59:33  2016-02-21 18:26:48   \n",
       "3  id3744273          2  2016-01-05 09:44:31  2016-01-05 10:03:32   \n",
       "4  id0232939          1  2016-02-17 06:42:23  2016-02-17 06:56:31   \n",
       "\n",
       "   passenger_count  pickup_longitude  pickup_latitude  dropoff_longitude  \\\n",
       "0                1        -73.953918        40.778873         -73.963875   \n",
       "1                2        -73.988312        40.731743         -73.994751   \n",
       "2                2        -73.997314        40.721458         -73.948029   \n",
       "3                6        -73.961670        40.759720         -73.956779   \n",
       "4                1        -74.017120        40.708469         -73.988182   \n",
       "\n",
       "   dropoff_latitude store_and_fwd_flag  trip_duration  \n",
       "0         40.771164                  N            400  \n",
       "1         40.694931                  N           1100  \n",
       "2         40.774918                  N           1635  \n",
       "3         40.780628                  N           1141  \n",
       "4         40.740631                  N            848  "
      ]
     },
     "execution_count": 83,
     "metadata": {},
     "output_type": "execute_result"
    }
   ],
   "source": [
    "data = pd.read_csv('nyc_taxi_trip_duration.csv')\n",
    "data.head()"
   ]
  },
  {
   "cell_type": "code",
   "execution_count": 84,
   "metadata": {},
   "outputs": [],
   "source": [
    "target='trip_duration'         \n",
    "model= lr(normalize = True)\n"
   ]
  },
  {
   "cell_type": "code",
   "execution_count": 85,
   "metadata": {},
   "outputs": [],
   "source": [
    "lr=lr(normalize = True)"
   ]
  },
  {
   "cell_type": "code",
   "execution_count": 86,
   "metadata": {
    "scrolled": true
   },
   "outputs": [
    {
     "data": {
      "text/plain": [
       "id                     object\n",
       "vendor_id               int64\n",
       "pickup_datetime        object\n",
       "dropoff_datetime       object\n",
       "passenger_count         int64\n",
       "pickup_longitude      float64\n",
       "pickup_latitude       float64\n",
       "dropoff_longitude     float64\n",
       "dropoff_latitude      float64\n",
       "store_and_fwd_flag     object\n",
       "trip_duration           int64\n",
       "dtype: object"
      ]
     },
     "execution_count": 86,
     "metadata": {},
     "output_type": "execute_result"
    }
   ],
   "source": [
    "data.dtypes"
   ]
  },
  {
   "cell_type": "code",
   "execution_count": 87,
   "metadata": {},
   "outputs": [],
   "source": [
    "data=data.drop('id', axis=1)"
   ]
  },
  {
   "cell_type": "code",
   "execution_count": 88,
   "metadata": {},
   "outputs": [
    {
     "data": {
      "text/plain": [
       "N    725282\n",
       "Y      4040\n",
       "Name: store_and_fwd_flag, dtype: int64"
      ]
     },
     "execution_count": 88,
     "metadata": {},
     "output_type": "execute_result"
    }
   ],
   "source": [
    "data['store_and_fwd_flag'].value_counts()"
   ]
  },
  {
   "cell_type": "code",
   "execution_count": 89,
   "metadata": {},
   "outputs": [
    {
     "name": "stderr",
     "output_type": "stream",
     "text": [
      "<ipython-input-89-7cb78f7bcb46>:1: SettingWithCopyWarning: \n",
      "A value is trying to be set on a copy of a slice from a DataFrame\n",
      "\n",
      "See the caveats in the documentation: https://pandas.pydata.org/pandas-docs/stable/user_guide/indexing.html#returning-a-view-versus-a-copy\n",
      "  data['store_and_fwd_flag'][data['store_and_fwd_flag']=='N']=0\n"
     ]
    }
   ],
   "source": [
    "data['store_and_fwd_flag'][data['store_and_fwd_flag']=='N']=0"
   ]
  },
  {
   "cell_type": "code",
   "execution_count": 90,
   "metadata": {},
   "outputs": [
    {
     "name": "stderr",
     "output_type": "stream",
     "text": [
      "<ipython-input-90-672c5fb14db1>:1: SettingWithCopyWarning: \n",
      "A value is trying to be set on a copy of a slice from a DataFrame\n",
      "\n",
      "See the caveats in the documentation: https://pandas.pydata.org/pandas-docs/stable/user_guide/indexing.html#returning-a-view-versus-a-copy\n",
      "  data['store_and_fwd_flag'][data['store_and_fwd_flag']=='Y']=1\n"
     ]
    }
   ],
   "source": [
    "data['store_and_fwd_flag'][data['store_and_fwd_flag']=='Y']=1"
   ]
  },
  {
   "cell_type": "code",
   "execution_count": 91,
   "metadata": {},
   "outputs": [
    {
     "data": {
      "text/plain": [
       "0    0\n",
       "1    0\n",
       "2    0\n",
       "3    0\n",
       "4    0\n",
       "Name: store_and_fwd_flag, dtype: object"
      ]
     },
     "execution_count": 91,
     "metadata": {},
     "output_type": "execute_result"
    }
   ],
   "source": [
    "data['store_and_fwd_flag'].head()"
   ]
  },
  {
   "cell_type": "code",
   "execution_count": 92,
   "metadata": {},
   "outputs": [],
   "source": [
    "# creating an instance(date) of DatetimeIndex class \n",
    "date1 = pd.DatetimeIndex(data['pickup_datetime'])\n",
    "date2 = pd.DatetimeIndex(data['dropoff_datetime'])"
   ]
  },
  {
   "cell_type": "code",
   "execution_count": 93,
   "metadata": {},
   "outputs": [],
   "source": [
    "data['doy_pickup'] = date1.dayofyear\n",
    "\n",
    "\n",
    "data['woy_pickup'] = date1.weekofyear\n",
    "\n",
    "\n",
    "data['moy_pickup'] = date1.month\n",
    "\n",
    "\n",
    "data['dow_pickup'] = date1.dayofweek\n",
    "\n",
    "data['doy_dropof'] = date2.dayofyear\n",
    "\n",
    "\n",
    "data['woy_dropof'] = date2.weekofyear\n",
    "\n",
    "\n",
    "data['moy_dropof'] = date2.month\n",
    "\n",
    "\n",
    "data['dow_dropof'] = date2.dayofweek\n",
    "\n",
    "\n",
    "\n"
   ]
  },
  {
   "cell_type": "code",
   "execution_count": 94,
   "metadata": {},
   "outputs": [
    {
     "data": {
      "text/html": [
       "<div>\n",
       "<style scoped>\n",
       "    .dataframe tbody tr th:only-of-type {\n",
       "        vertical-align: middle;\n",
       "    }\n",
       "\n",
       "    .dataframe tbody tr th {\n",
       "        vertical-align: top;\n",
       "    }\n",
       "\n",
       "    .dataframe thead th {\n",
       "        text-align: right;\n",
       "    }\n",
       "</style>\n",
       "<table border=\"1\" class=\"dataframe\">\n",
       "  <thead>\n",
       "    <tr style=\"text-align: right;\">\n",
       "      <th></th>\n",
       "      <th>pickup_datetime</th>\n",
       "      <th>doy_pickup</th>\n",
       "      <th>woy_pickup</th>\n",
       "      <th>moy_pickup</th>\n",
       "      <th>dow_pickup</th>\n",
       "      <th>doy_dropof</th>\n",
       "      <th>woy_dropof</th>\n",
       "      <th>moy_dropof</th>\n",
       "      <th>dow_dropof</th>\n",
       "    </tr>\n",
       "  </thead>\n",
       "  <tbody>\n",
       "    <tr>\n",
       "      <th>0</th>\n",
       "      <td>2016-02-29 16:40:21</td>\n",
       "      <td>60</td>\n",
       "      <td>9</td>\n",
       "      <td>2</td>\n",
       "      <td>0</td>\n",
       "      <td>60</td>\n",
       "      <td>9</td>\n",
       "      <td>2</td>\n",
       "      <td>0</td>\n",
       "    </tr>\n",
       "    <tr>\n",
       "      <th>1</th>\n",
       "      <td>2016-03-11 23:35:37</td>\n",
       "      <td>71</td>\n",
       "      <td>10</td>\n",
       "      <td>3</td>\n",
       "      <td>4</td>\n",
       "      <td>71</td>\n",
       "      <td>10</td>\n",
       "      <td>3</td>\n",
       "      <td>4</td>\n",
       "    </tr>\n",
       "    <tr>\n",
       "      <th>2</th>\n",
       "      <td>2016-02-21 17:59:33</td>\n",
       "      <td>52</td>\n",
       "      <td>7</td>\n",
       "      <td>2</td>\n",
       "      <td>6</td>\n",
       "      <td>52</td>\n",
       "      <td>7</td>\n",
       "      <td>2</td>\n",
       "      <td>6</td>\n",
       "    </tr>\n",
       "    <tr>\n",
       "      <th>3</th>\n",
       "      <td>2016-01-05 09:44:31</td>\n",
       "      <td>5</td>\n",
       "      <td>1</td>\n",
       "      <td>1</td>\n",
       "      <td>1</td>\n",
       "      <td>5</td>\n",
       "      <td>1</td>\n",
       "      <td>1</td>\n",
       "      <td>1</td>\n",
       "    </tr>\n",
       "    <tr>\n",
       "      <th>4</th>\n",
       "      <td>2016-02-17 06:42:23</td>\n",
       "      <td>48</td>\n",
       "      <td>7</td>\n",
       "      <td>2</td>\n",
       "      <td>2</td>\n",
       "      <td>48</td>\n",
       "      <td>7</td>\n",
       "      <td>2</td>\n",
       "      <td>2</td>\n",
       "    </tr>\n",
       "  </tbody>\n",
       "</table>\n",
       "</div>"
      ],
      "text/plain": [
       "       pickup_datetime  doy_pickup  woy_pickup  moy_pickup  dow_pickup  \\\n",
       "0  2016-02-29 16:40:21          60           9           2           0   \n",
       "1  2016-03-11 23:35:37          71          10           3           4   \n",
       "2  2016-02-21 17:59:33          52           7           2           6   \n",
       "3  2016-01-05 09:44:31           5           1           1           1   \n",
       "4  2016-02-17 06:42:23          48           7           2           2   \n",
       "\n",
       "   doy_dropof  woy_dropof  moy_dropof  dow_dropof  \n",
       "0          60           9           2           0  \n",
       "1          71          10           3           4  \n",
       "2          52           7           2           6  \n",
       "3           5           1           1           1  \n",
       "4          48           7           2           2  "
      ]
     },
     "execution_count": 94,
     "metadata": {},
     "output_type": "execute_result"
    }
   ],
   "source": [
    "# checking new extracted columns using datetime\n",
    "data[['pickup_datetime','doy_pickup','woy_pickup','moy_pickup','dow_pickup','doy_dropof','woy_dropof','moy_dropof','dow_dropof']].head()"
   ]
  },
  {
   "cell_type": "code",
   "execution_count": 95,
   "metadata": {},
   "outputs": [],
   "source": [
    "data=data.drop(['pickup_datetime','dropoff_datetime'],axis=1)"
   ]
  },
  {
   "cell_type": "code",
   "execution_count": 96,
   "metadata": {},
   "outputs": [
    {
     "data": {
      "text/html": [
       "<div>\n",
       "<style scoped>\n",
       "    .dataframe tbody tr th:only-of-type {\n",
       "        vertical-align: middle;\n",
       "    }\n",
       "\n",
       "    .dataframe tbody tr th {\n",
       "        vertical-align: top;\n",
       "    }\n",
       "\n",
       "    .dataframe thead th {\n",
       "        text-align: right;\n",
       "    }\n",
       "</style>\n",
       "<table border=\"1\" class=\"dataframe\">\n",
       "  <thead>\n",
       "    <tr style=\"text-align: right;\">\n",
       "      <th></th>\n",
       "      <th>vendor_id</th>\n",
       "      <th>passenger_count</th>\n",
       "      <th>pickup_longitude</th>\n",
       "      <th>pickup_latitude</th>\n",
       "      <th>dropoff_longitude</th>\n",
       "      <th>dropoff_latitude</th>\n",
       "      <th>store_and_fwd_flag</th>\n",
       "      <th>trip_duration</th>\n",
       "      <th>doy_pickup</th>\n",
       "      <th>woy_pickup</th>\n",
       "      <th>moy_pickup</th>\n",
       "      <th>dow_pickup</th>\n",
       "      <th>doy_dropof</th>\n",
       "      <th>woy_dropof</th>\n",
       "      <th>moy_dropof</th>\n",
       "      <th>dow_dropof</th>\n",
       "    </tr>\n",
       "  </thead>\n",
       "  <tbody>\n",
       "    <tr>\n",
       "      <th>0</th>\n",
       "      <td>2</td>\n",
       "      <td>1</td>\n",
       "      <td>-73.953918</td>\n",
       "      <td>40.778873</td>\n",
       "      <td>-73.963875</td>\n",
       "      <td>40.771164</td>\n",
       "      <td>0</td>\n",
       "      <td>400</td>\n",
       "      <td>60</td>\n",
       "      <td>9</td>\n",
       "      <td>2</td>\n",
       "      <td>0</td>\n",
       "      <td>60</td>\n",
       "      <td>9</td>\n",
       "      <td>2</td>\n",
       "      <td>0</td>\n",
       "    </tr>\n",
       "    <tr>\n",
       "      <th>1</th>\n",
       "      <td>1</td>\n",
       "      <td>2</td>\n",
       "      <td>-73.988312</td>\n",
       "      <td>40.731743</td>\n",
       "      <td>-73.994751</td>\n",
       "      <td>40.694931</td>\n",
       "      <td>0</td>\n",
       "      <td>1100</td>\n",
       "      <td>71</td>\n",
       "      <td>10</td>\n",
       "      <td>3</td>\n",
       "      <td>4</td>\n",
       "      <td>71</td>\n",
       "      <td>10</td>\n",
       "      <td>3</td>\n",
       "      <td>4</td>\n",
       "    </tr>\n",
       "    <tr>\n",
       "      <th>2</th>\n",
       "      <td>2</td>\n",
       "      <td>2</td>\n",
       "      <td>-73.997314</td>\n",
       "      <td>40.721458</td>\n",
       "      <td>-73.948029</td>\n",
       "      <td>40.774918</td>\n",
       "      <td>0</td>\n",
       "      <td>1635</td>\n",
       "      <td>52</td>\n",
       "      <td>7</td>\n",
       "      <td>2</td>\n",
       "      <td>6</td>\n",
       "      <td>52</td>\n",
       "      <td>7</td>\n",
       "      <td>2</td>\n",
       "      <td>6</td>\n",
       "    </tr>\n",
       "    <tr>\n",
       "      <th>3</th>\n",
       "      <td>2</td>\n",
       "      <td>6</td>\n",
       "      <td>-73.961670</td>\n",
       "      <td>40.759720</td>\n",
       "      <td>-73.956779</td>\n",
       "      <td>40.780628</td>\n",
       "      <td>0</td>\n",
       "      <td>1141</td>\n",
       "      <td>5</td>\n",
       "      <td>1</td>\n",
       "      <td>1</td>\n",
       "      <td>1</td>\n",
       "      <td>5</td>\n",
       "      <td>1</td>\n",
       "      <td>1</td>\n",
       "      <td>1</td>\n",
       "    </tr>\n",
       "    <tr>\n",
       "      <th>4</th>\n",
       "      <td>1</td>\n",
       "      <td>1</td>\n",
       "      <td>-74.017120</td>\n",
       "      <td>40.708469</td>\n",
       "      <td>-73.988182</td>\n",
       "      <td>40.740631</td>\n",
       "      <td>0</td>\n",
       "      <td>848</td>\n",
       "      <td>48</td>\n",
       "      <td>7</td>\n",
       "      <td>2</td>\n",
       "      <td>2</td>\n",
       "      <td>48</td>\n",
       "      <td>7</td>\n",
       "      <td>2</td>\n",
       "      <td>2</td>\n",
       "    </tr>\n",
       "  </tbody>\n",
       "</table>\n",
       "</div>"
      ],
      "text/plain": [
       "   vendor_id  passenger_count  pickup_longitude  pickup_latitude  \\\n",
       "0          2                1        -73.953918        40.778873   \n",
       "1          1                2        -73.988312        40.731743   \n",
       "2          2                2        -73.997314        40.721458   \n",
       "3          2                6        -73.961670        40.759720   \n",
       "4          1                1        -74.017120        40.708469   \n",
       "\n",
       "   dropoff_longitude  dropoff_latitude store_and_fwd_flag  trip_duration  \\\n",
       "0         -73.963875         40.771164                  0            400   \n",
       "1         -73.994751         40.694931                  0           1100   \n",
       "2         -73.948029         40.774918                  0           1635   \n",
       "3         -73.956779         40.780628                  0           1141   \n",
       "4         -73.988182         40.740631                  0            848   \n",
       "\n",
       "   doy_pickup  woy_pickup  moy_pickup  dow_pickup  doy_dropof  woy_dropof  \\\n",
       "0          60           9           2           0          60           9   \n",
       "1          71          10           3           4          71          10   \n",
       "2          52           7           2           6          52           7   \n",
       "3           5           1           1           1           5           1   \n",
       "4          48           7           2           2          48           7   \n",
       "\n",
       "   moy_dropof  dow_dropof  \n",
       "0           2           0  \n",
       "1           3           4  \n",
       "2           2           6  \n",
       "3           1           1  \n",
       "4           2           2  "
      ]
     },
     "execution_count": 96,
     "metadata": {},
     "output_type": "execute_result"
    }
   ],
   "source": [
    "data.head()"
   ]
  },
  {
   "cell_type": "code",
   "execution_count": 97,
   "metadata": {},
   "outputs": [
    {
     "data": {
      "text/plain": [
       "(729322, 16)"
      ]
     },
     "execution_count": 97,
     "metadata": {},
     "output_type": "execute_result"
    }
   ],
   "source": [
    "data.shape"
   ]
  },
  {
   "cell_type": "code",
   "execution_count": 98,
   "metadata": {},
   "outputs": [],
   "source": [
    "# seggregating variables into groups\n",
    "latitude = ['dropoff_latitude','pickup_latitude']\n",
    "longitude = ['dropoff_longitude','pickup_longitude']\n",
    "trip_dur=['trip_duration']\n",
    "pickup_time=['doy_pickup','woy_pickup','moy_pickup','dow_pickup']\n",
    "dropof_time=['doy_dropof','woy_dropof','moy_dropof','dow_dropof']\n",
    "var_group=[latitude,longitude,trip_dur,pickup_time,dropof_time]"
   ]
  },
  {
   "cell_type": "markdown",
   "metadata": {},
   "source": [
    "# outliers"
   ]
  },
  {
   "cell_type": "code",
   "execution_count": 99,
   "metadata": {},
   "outputs": [],
   "source": [
    "# custom function for easy outlier analysis\n",
    "\n",
    "def UVA_outlier(data, var_group, include_outlier = True):\n",
    "  '''\n",
    "  Univariate_Analysis_outlier:\n",
    "  takes a group of variables (INTEGER and FLOAT) and plot/print boplot and descriptives\\n\n",
    "  Runs a loop: calculate all the descriptives of i(th) variable and plot/print it \\n\\n\n",
    "\n",
    "  data : dataframe from which to plot from\\n\n",
    "  var_group : {list} type Group of Continuous variables\\n\n",
    "  include_outlier : {bool} whether to include outliers or not, default = True\\n\n",
    "  '''\n",
    "\n",
    "  size = len(var_group)\n",
    "  plt.figure(figsize = (7*size,4), dpi = 100)\n",
    "  \n",
    "  #looping for each variable\n",
    "  for j,i in enumerate(var_group):\n",
    "    \n",
    "    # calculating descriptives of variable\n",
    "    quant25 = data[i].quantile(0.25)\n",
    "    quant75 = data[i].quantile(0.75)\n",
    "    IQR = quant75 - quant25\n",
    "    med = data[i].median()\n",
    "    whis_low = quant25-(1.5*IQR)\n",
    "    whis_high = quant75+(1.5*IQR)\n",
    "\n",
    "    # Calculating Number of Outliers\n",
    "    outlier_high = len(data[i][data[i]>(whis_high+2)])\n",
    "    outlier_low = len(data[i][data[i]<(whis_low-2)])\n",
    "\n",
    "    if include_outlier == True:\n",
    "      print(include_outlier)\n",
    "      #Plotting the variable with every information\n",
    "      plt.subplot(1,size,j+1)\n",
    "      sns.boxplot(data[i], orient=\"v\")\n",
    "      plt.ylabel('{}'.format(i))\n",
    "      plt.title('With Outliers\\nIQR = {}; Median = {} \\n 2nd,3rd  quartile = {};\\n Outlier (low/high) = {} \\n'.format(\n",
    "                                                                                                   round(IQR,2),\n",
    "                                                                                                   round(med,2),\n",
    "                                                                                                   (round(quant25,2),round(quant75,2)),\n",
    "                                                                                                   (outlier_low,outlier_high)\n",
    "                                                                                                   ))\n",
    "      \n",
    "    else:\n",
    "      # replacing outliers with max/min whisker\n",
    "      data2 = data[var_group][:]\n",
    "      data2[i][data2[i]>whis_high] = whis_high+1\n",
    "      data2[i][data2[i]<whis_low] = whis_low-1\n",
    "      \n",
    "      # plotting without outliers\n",
    "      plt.subplot(1,size,j+1)\n",
    "      sns.boxplot(data2[i], orient=\"v\")\n",
    "      plt.ylabel('{}'.format(i))\n",
    "      plt.title('Without Outliers\\nIQR = {}; Median = {} \\n 2nd,3rd  quartile = {};\\n Outlier (low/high) = {} \\n'.format(\n",
    "                                                                                                round(IQR,2),\n",
    "                                                                                                   round(med,2),\n",
    "                                                                                                   (round(quant25,2),round(quant75,2)),\n",
    "                                                                                                   (outlier_low,outlier_high)\n",
    "                                                                                                   ))\n",
    "      return data2"
   ]
  },
  {
   "cell_type": "code",
   "execution_count": 100,
   "metadata": {
    "scrolled": false
   },
   "outputs": [
    {
     "name": "stdout",
     "output_type": "stream",
     "text": [
      "True\n",
      "True\n",
      "True\n",
      "True\n",
      "True\n",
      "True\n",
      "True\n",
      "True\n",
      "True\n",
      "True\n",
      "True\n",
      "True\n",
      "True\n"
     ]
    },
    {
     "data": {
      "image/png": "[encoded data removed]",
      "text/plain": [
       "<Figure size 1400x400 with 2 Axes>"
      ]
     },
     "metadata": {
      "needs_background": "light"
     },
     "output_type": "display_data"
    },
    {
     "data": {
      "image/png": "[encoded data removed]",
      "text/plain": [
       "<Figure size 1400x400 with 2 Axes>"
      ]
     },
     "metadata": {
      "needs_background": "light"
     },
     "output_type": "display_data"
    },
    {
     "data": {
      "image/png": "[encoded data removed]",
      "text/plain": [
       "<Figure size 700x400 with 1 Axes>"
      ]
     },
     "metadata": {
      "needs_background": "light"
     },
     "output_type": "display_data"
    },
    {
     "data": {
      "image/png": "[encoded data removed]",
      "text/plain": [
       "<Figure size 2800x400 with 4 Axes>"
      ]
     },
     "metadata": {
      "needs_background": "light"
     },
     "output_type": "display_data"
    },
    {
     "data": {
      "image/png": "[encoded data removed]",
      "text/plain": [
       "<Figure size 2800x400 with 4 Axes>"
      ]
     },
     "metadata": {
      "needs_background": "light"
     },
     "output_type": "display_data"
    }
   ],
   "source": [
    "for i in var_group:\n",
    " UVA_outlier(data,i, include_outlier =True)"
   ]
  },
  {
   "cell_type": "markdown",
   "metadata": {},
   "source": [
    "### removing outliers from data"
   ]
  },
  {
   "cell_type": "code",
   "execution_count": 101,
   "metadata": {},
   "outputs": [
    {
     "name": "stderr",
     "output_type": "stream",
     "text": [
      "<ipython-input-101-828e4d30a70f>:9: SettingWithCopyWarning: \n",
      "A value is trying to be set on a copy of a slice from a DataFrame\n",
      "\n",
      "See the caveats in the documentation: https://pandas.pydata.org/pandas-docs/stable/user_guide/indexing.html#returning-a-view-versus-a-copy\n",
      "  data[i][data[i]>whis_high] = whis_high+1\n",
      "<ipython-input-101-828e4d30a70f>:10: SettingWithCopyWarning: \n",
      "A value is trying to be set on a copy of a slice from a DataFrame\n",
      "\n",
      "See the caveats in the documentation: https://pandas.pydata.org/pandas-docs/stable/user_guide/indexing.html#returning-a-view-versus-a-copy\n",
      "  data[i][data[i]<whis_low] = whis_low-1\n",
      "<ipython-input-101-828e4d30a70f>:9: SettingWithCopyWarning: \n",
      "A value is trying to be set on a copy of a slice from a DataFrame\n",
      "\n",
      "See the caveats in the documentation: https://pandas.pydata.org/pandas-docs/stable/user_guide/indexing.html#returning-a-view-versus-a-copy\n",
      "  data[i][data[i]>whis_high] = whis_high+1\n",
      "<ipython-input-101-828e4d30a70f>:9: SettingWithCopyWarning: \n",
      "A value is trying to be set on a copy of a slice from a DataFrame\n",
      "\n",
      "See the caveats in the documentation: https://pandas.pydata.org/pandas-docs/stable/user_guide/indexing.html#returning-a-view-versus-a-copy\n",
      "  data[i][data[i]>whis_high] = whis_high+1\n",
      "<ipython-input-101-828e4d30a70f>:10: SettingWithCopyWarning: \n",
      "A value is trying to be set on a copy of a slice from a DataFrame\n",
      "\n",
      "See the caveats in the documentation: https://pandas.pydata.org/pandas-docs/stable/user_guide/indexing.html#returning-a-view-versus-a-copy\n",
      "  data[i][data[i]<whis_low] = whis_low-1\n",
      "<ipython-input-101-828e4d30a70f>:9: SettingWithCopyWarning: \n",
      "A value is trying to be set on a copy of a slice from a DataFrame\n",
      "\n",
      "See the caveats in the documentation: https://pandas.pydata.org/pandas-docs/stable/user_guide/indexing.html#returning-a-view-versus-a-copy\n",
      "  data[i][data[i]>whis_high] = whis_high+1\n",
      "<ipython-input-101-828e4d30a70f>:10: SettingWithCopyWarning: \n",
      "A value is trying to be set on a copy of a slice from a DataFrame\n",
      "\n",
      "See the caveats in the documentation: https://pandas.pydata.org/pandas-docs/stable/user_guide/indexing.html#returning-a-view-versus-a-copy\n",
      "  data[i][data[i]<whis_low] = whis_low-1\n",
      "<ipython-input-101-828e4d30a70f>:9: SettingWithCopyWarning: \n",
      "A value is trying to be set on a copy of a slice from a DataFrame\n",
      "\n",
      "See the caveats in the documentation: https://pandas.pydata.org/pandas-docs/stable/user_guide/indexing.html#returning-a-view-versus-a-copy\n",
      "  data[i][data[i]>whis_high] = whis_high+1\n",
      "<ipython-input-101-828e4d30a70f>:10: SettingWithCopyWarning: \n",
      "A value is trying to be set on a copy of a slice from a DataFrame\n",
      "\n",
      "See the caveats in the documentation: https://pandas.pydata.org/pandas-docs/stable/user_guide/indexing.html#returning-a-view-versus-a-copy\n",
      "  data[i][data[i]<whis_low] = whis_low-1\n",
      "<ipython-input-101-828e4d30a70f>:9: SettingWithCopyWarning: \n",
      "A value is trying to be set on a copy of a slice from a DataFrame\n",
      "\n",
      "See the caveats in the documentation: https://pandas.pydata.org/pandas-docs/stable/user_guide/indexing.html#returning-a-view-versus-a-copy\n",
      "  data[i][data[i]>whis_high] = whis_high+1\n",
      "<ipython-input-101-828e4d30a70f>:10: SettingWithCopyWarning: \n",
      "A value is trying to be set on a copy of a slice from a DataFrame\n",
      "\n",
      "See the caveats in the documentation: https://pandas.pydata.org/pandas-docs/stable/user_guide/indexing.html#returning-a-view-versus-a-copy\n",
      "  data[i][data[i]<whis_low] = whis_low-1\n",
      "<ipython-input-101-828e4d30a70f>:9: SettingWithCopyWarning: \n",
      "A value is trying to be set on a copy of a slice from a DataFrame\n",
      "\n",
      "See the caveats in the documentation: https://pandas.pydata.org/pandas-docs/stable/user_guide/indexing.html#returning-a-view-versus-a-copy\n",
      "  data[i][data[i]>whis_high] = whis_high+1\n",
      "<ipython-input-101-828e4d30a70f>:10: SettingWithCopyWarning: \n",
      "A value is trying to be set on a copy of a slice from a DataFrame\n",
      "\n",
      "See the caveats in the documentation: https://pandas.pydata.org/pandas-docs/stable/user_guide/indexing.html#returning-a-view-versus-a-copy\n",
      "  data[i][data[i]<whis_low] = whis_low-1\n",
      "<ipython-input-101-828e4d30a70f>:9: SettingWithCopyWarning: \n",
      "A value is trying to be set on a copy of a slice from a DataFrame\n",
      "\n",
      "See the caveats in the documentation: https://pandas.pydata.org/pandas-docs/stable/user_guide/indexing.html#returning-a-view-versus-a-copy\n",
      "  data[i][data[i]>whis_high] = whis_high+1\n",
      "<ipython-input-101-828e4d30a70f>:9: SettingWithCopyWarning: \n",
      "A value is trying to be set on a copy of a slice from a DataFrame\n",
      "\n",
      "See the caveats in the documentation: https://pandas.pydata.org/pandas-docs/stable/user_guide/indexing.html#returning-a-view-versus-a-copy\n",
      "  data[i][data[i]>whis_high] = whis_high+1\n",
      "<ipython-input-101-828e4d30a70f>:10: SettingWithCopyWarning: \n",
      "A value is trying to be set on a copy of a slice from a DataFrame\n",
      "\n",
      "See the caveats in the documentation: https://pandas.pydata.org/pandas-docs/stable/user_guide/indexing.html#returning-a-view-versus-a-copy\n",
      "  data[i][data[i]<whis_low] = whis_low-1\n",
      "<ipython-input-101-828e4d30a70f>:9: SettingWithCopyWarning: \n",
      "A value is trying to be set on a copy of a slice from a DataFrame\n",
      "\n",
      "See the caveats in the documentation: https://pandas.pydata.org/pandas-docs/stable/user_guide/indexing.html#returning-a-view-versus-a-copy\n",
      "  data[i][data[i]>whis_high] = whis_high+1\n",
      "<ipython-input-101-828e4d30a70f>:9: SettingWithCopyWarning: \n",
      "A value is trying to be set on a copy of a slice from a DataFrame\n",
      "\n",
      "See the caveats in the documentation: https://pandas.pydata.org/pandas-docs/stable/user_guide/indexing.html#returning-a-view-versus-a-copy\n",
      "  data[i][data[i]>whis_high] = whis_high+1\n",
      "<ipython-input-101-828e4d30a70f>:10: SettingWithCopyWarning: \n",
      "A value is trying to be set on a copy of a slice from a DataFrame\n",
      "\n",
      "See the caveats in the documentation: https://pandas.pydata.org/pandas-docs/stable/user_guide/indexing.html#returning-a-view-versus-a-copy\n",
      "  data[i][data[i]<whis_low] = whis_low-1\n",
      "<ipython-input-101-828e4d30a70f>:9: SettingWithCopyWarning: \n",
      "A value is trying to be set on a copy of a slice from a DataFrame\n",
      "\n",
      "See the caveats in the documentation: https://pandas.pydata.org/pandas-docs/stable/user_guide/indexing.html#returning-a-view-versus-a-copy\n",
      "  data[i][data[i]>whis_high] = whis_high+1\n",
      "<ipython-input-101-828e4d30a70f>:10: SettingWithCopyWarning: \n",
      "A value is trying to be set on a copy of a slice from a DataFrame\n",
      "\n",
      "See the caveats in the documentation: https://pandas.pydata.org/pandas-docs/stable/user_guide/indexing.html#returning-a-view-versus-a-copy\n",
      "  data[i][data[i]<whis_low] = whis_low-1\n",
      "<ipython-input-101-828e4d30a70f>:9: SettingWithCopyWarning: \n",
      "A value is trying to be set on a copy of a slice from a DataFrame\n",
      "\n",
      "See the caveats in the documentation: https://pandas.pydata.org/pandas-docs/stable/user_guide/indexing.html#returning-a-view-versus-a-copy\n",
      "  data[i][data[i]>whis_high] = whis_high+1\n",
      "<ipython-input-101-828e4d30a70f>:10: SettingWithCopyWarning: \n",
      "A value is trying to be set on a copy of a slice from a DataFrame\n",
      "\n",
      "See the caveats in the documentation: https://pandas.pydata.org/pandas-docs/stable/user_guide/indexing.html#returning-a-view-versus-a-copy\n",
      "  data[i][data[i]<whis_low] = whis_low-1\n",
      "<ipython-input-101-828e4d30a70f>:9: SettingWithCopyWarning: \n",
      "A value is trying to be set on a copy of a slice from a DataFrame\n",
      "\n",
      "See the caveats in the documentation: https://pandas.pydata.org/pandas-docs/stable/user_guide/indexing.html#returning-a-view-versus-a-copy\n",
      "  data[i][data[i]>whis_high] = whis_high+1\n",
      "<ipython-input-101-828e4d30a70f>:9: SettingWithCopyWarning: \n",
      "A value is trying to be set on a copy of a slice from a DataFrame\n",
      "\n",
      "See the caveats in the documentation: https://pandas.pydata.org/pandas-docs/stable/user_guide/indexing.html#returning-a-view-versus-a-copy\n",
      "  data[i][data[i]>whis_high] = whis_high+1\n",
      "<ipython-input-101-828e4d30a70f>:10: SettingWithCopyWarning: \n",
      "A value is trying to be set on a copy of a slice from a DataFrame\n",
      "\n",
      "See the caveats in the documentation: https://pandas.pydata.org/pandas-docs/stable/user_guide/indexing.html#returning-a-view-versus-a-copy\n",
      "  data[i][data[i]<whis_low] = whis_low-1\n",
      "<ipython-input-101-828e4d30a70f>:9: SettingWithCopyWarning: \n",
      "A value is trying to be set on a copy of a slice from a DataFrame\n",
      "\n",
      "See the caveats in the documentation: https://pandas.pydata.org/pandas-docs/stable/user_guide/indexing.html#returning-a-view-versus-a-copy\n",
      "  data[i][data[i]>whis_high] = whis_high+1\n",
      "<ipython-input-101-828e4d30a70f>:10: SettingWithCopyWarning: \n",
      "A value is trying to be set on a copy of a slice from a DataFrame\n",
      "\n",
      "See the caveats in the documentation: https://pandas.pydata.org/pandas-docs/stable/user_guide/indexing.html#returning-a-view-versus-a-copy\n",
      "  data[i][data[i]<whis_low] = whis_low-1\n"
     ]
    }
   ],
   "source": [
    " for i in data:\n",
    "    quant25 = data[i].quantile(0.25)\n",
    "    quant75 = data[i].quantile(0.75)\n",
    "    IQR = quant75 - quant25\n",
    "    med = data[i].median()\n",
    "    whis_low = quant25-(1.5*IQR)\n",
    "    whis_high = quant75+(1.5*IQR)\n",
    "\n",
    "    data[i][data[i]>whis_high] = whis_high+1\n",
    "    data[i][data[i]<whis_low] = whis_low-1\n",
    "      "
   ]
  },
  {
   "cell_type": "code",
   "execution_count": 102,
   "metadata": {},
   "outputs": [
    {
     "name": "stdout",
     "output_type": "stream",
     "text": [
      "True\n",
      "True\n",
      "True\n",
      "True\n",
      "True\n",
      "True\n",
      "True\n",
      "True\n",
      "True\n",
      "True\n",
      "True\n",
      "True\n",
      "True\n"
     ]
    },
    {
     "data": {
      "image/png": "[encoded data removed]",
      "text/plain": [
       "<Figure size 1400x400 with 2 Axes>"
      ]
     },
     "metadata": {
      "needs_background": "light"
     },
     "output_type": "display_data"
    },
    {
     "data": {
      "image/png": "[encoded data removed]",
      "text/plain": [
       "<Figure size 1400x400 with 2 Axes>"
      ]
     },
     "metadata": {
      "needs_background": "light"
     },
     "output_type": "display_data"
    },
    {
     "data": {
      "image/png": "[encoded data removed]",
      "text/plain": [
       "<Figure size 700x400 with 1 Axes>"
      ]
     },
     "metadata": {
      "needs_background": "light"
     },
     "output_type": "display_data"
    },
    {
     "data": {
      "image/png": "[encoded data removed]",
      "text/plain": [
       "<Figure size 2800x400 with 4 Axes>"
      ]
     },
     "metadata": {
      "needs_background": "light"
     },
     "output_type": "display_data"
    },
    {
     "data": {
      "image/png": "[encoded data removed]",
      "text/plain": [
       "<Figure size 2800x400 with 4 Axes>"
      ]
     },
     "metadata": {
      "needs_background": "light"
     },
     "output_type": "display_data"
    }
   ],
   "source": [
    "for i in var_group:\n",
    " UVA_outlier(data,i, include_outlier =True)"
   ]
  },
  {
   "cell_type": "code",
   "execution_count": 103,
   "metadata": {},
   "outputs": [],
   "source": [
    "# converting to category\n",
    "data['vendor_id'] = data['vendor_id'].astype('category')\n",
    "data['passenger_count'] = data['passenger_count'].astype('category')\n",
    "data['store_and_fwd_flag'] = data['store_and_fwd_flag'].astype('category')\n",
    "data['moy_pickup'] = data['moy_pickup'].astype('category')\n",
    "data['dow_pickup'] = data['dow_pickup'].astype('category')\n",
    "data['moy_dropof'] = data['moy_dropof'].astype('category')\n",
    "data['dow_dropof'] = data['dow_dropof'].astype('category')"
   ]
  },
  {
   "cell_type": "code",
   "execution_count": 104,
   "metadata": {},
   "outputs": [
    {
     "data": {
      "text/plain": [
       "vendor_id             category\n",
       "passenger_count       category\n",
       "pickup_longitude       float64\n",
       "pickup_latitude        float64\n",
       "dropoff_longitude      float64\n",
       "dropoff_latitude       float64\n",
       "store_and_fwd_flag    category\n",
       "trip_duration            int64\n",
       "doy_pickup               int64\n",
       "woy_pickup             float64\n",
       "moy_pickup            category\n",
       "dow_pickup            category\n",
       "doy_dropof               int64\n",
       "woy_dropof             float64\n",
       "moy_dropof            category\n",
       "dow_dropof            category\n",
       "dtype: object"
      ]
     },
     "execution_count": 104,
     "metadata": {},
     "output_type": "execute_result"
    }
   ],
   "source": [
    "data.select_dtypes(include=['float64','Int64','category']).dtypes"
   ]
  },
  {
   "cell_type": "markdown",
   "metadata": {},
   "source": [
    "### always deal with missing values after dealing with outliers"
   ]
  },
  {
   "cell_type": "code",
   "execution_count": 105,
   "metadata": {},
   "outputs": [
    {
     "data": {
      "text/plain": [
       "vendor_id             0\n",
       "passenger_count       0\n",
       "pickup_longitude      0\n",
       "pickup_latitude       0\n",
       "dropoff_longitude     0\n",
       "dropoff_latitude      0\n",
       "store_and_fwd_flag    0\n",
       "trip_duration         0\n",
       "doy_pickup            0\n",
       "woy_pickup            0\n",
       "moy_pickup            0\n",
       "dow_pickup            0\n",
       "doy_dropof            0\n",
       "woy_dropof            0\n",
       "moy_dropof            0\n",
       "dow_dropof            0\n",
       "dtype: int64"
      ]
     },
     "execution_count": 105,
     "metadata": {},
     "output_type": "execute_result"
    }
   ],
   "source": [
    "data.isnull().sum()"
   ]
  },
  {
   "cell_type": "code",
   "execution_count": 106,
   "metadata": {},
   "outputs": [
    {
     "data": {
      "text/html": [
       "<div>\n",
       "<style scoped>\n",
       "    .dataframe tbody tr th:only-of-type {\n",
       "        vertical-align: middle;\n",
       "    }\n",
       "\n",
       "    .dataframe tbody tr th {\n",
       "        vertical-align: top;\n",
       "    }\n",
       "\n",
       "    .dataframe thead th {\n",
       "        text-align: right;\n",
       "    }\n",
       "</style>\n",
       "<table border=\"1\" class=\"dataframe\">\n",
       "  <thead>\n",
       "    <tr style=\"text-align: right;\">\n",
       "      <th></th>\n",
       "      <th>vendor_id</th>\n",
       "      <th>passenger_count</th>\n",
       "      <th>pickup_longitude</th>\n",
       "      <th>pickup_latitude</th>\n",
       "      <th>dropoff_longitude</th>\n",
       "      <th>dropoff_latitude</th>\n",
       "      <th>store_and_fwd_flag</th>\n",
       "      <th>trip_duration</th>\n",
       "      <th>doy_pickup</th>\n",
       "      <th>woy_pickup</th>\n",
       "      <th>moy_pickup</th>\n",
       "      <th>dow_pickup</th>\n",
       "      <th>doy_dropof</th>\n",
       "      <th>woy_dropof</th>\n",
       "      <th>moy_dropof</th>\n",
       "      <th>dow_dropof</th>\n",
       "    </tr>\n",
       "  </thead>\n",
       "  <tbody>\n",
       "    <tr>\n",
       "      <th>0</th>\n",
       "      <td>2</td>\n",
       "      <td>1.0</td>\n",
       "      <td>-73.953918</td>\n",
       "      <td>40.778873</td>\n",
       "      <td>-73.963875</td>\n",
       "      <td>40.771164</td>\n",
       "      <td>0.0</td>\n",
       "      <td>400</td>\n",
       "      <td>60</td>\n",
       "      <td>9.0</td>\n",
       "      <td>2</td>\n",
       "      <td>0</td>\n",
       "      <td>60</td>\n",
       "      <td>9.0</td>\n",
       "      <td>2</td>\n",
       "      <td>0</td>\n",
       "    </tr>\n",
       "    <tr>\n",
       "      <th>1</th>\n",
       "      <td>1</td>\n",
       "      <td>2.0</td>\n",
       "      <td>-73.988312</td>\n",
       "      <td>40.731743</td>\n",
       "      <td>-73.994751</td>\n",
       "      <td>40.694931</td>\n",
       "      <td>0.0</td>\n",
       "      <td>1100</td>\n",
       "      <td>71</td>\n",
       "      <td>10.0</td>\n",
       "      <td>3</td>\n",
       "      <td>4</td>\n",
       "      <td>71</td>\n",
       "      <td>10.0</td>\n",
       "      <td>3</td>\n",
       "      <td>4</td>\n",
       "    </tr>\n",
       "    <tr>\n",
       "      <th>2</th>\n",
       "      <td>2</td>\n",
       "      <td>2.0</td>\n",
       "      <td>-73.997314</td>\n",
       "      <td>40.721458</td>\n",
       "      <td>-73.948029</td>\n",
       "      <td>40.774918</td>\n",
       "      <td>0.0</td>\n",
       "      <td>1635</td>\n",
       "      <td>52</td>\n",
       "      <td>7.0</td>\n",
       "      <td>2</td>\n",
       "      <td>6</td>\n",
       "      <td>52</td>\n",
       "      <td>7.0</td>\n",
       "      <td>2</td>\n",
       "      <td>6</td>\n",
       "    </tr>\n",
       "    <tr>\n",
       "      <th>3</th>\n",
       "      <td>2</td>\n",
       "      <td>4.5</td>\n",
       "      <td>-73.961670</td>\n",
       "      <td>40.759720</td>\n",
       "      <td>-73.956779</td>\n",
       "      <td>40.780628</td>\n",
       "      <td>0.0</td>\n",
       "      <td>1141</td>\n",
       "      <td>5</td>\n",
       "      <td>1.0</td>\n",
       "      <td>1</td>\n",
       "      <td>1</td>\n",
       "      <td>5</td>\n",
       "      <td>1.0</td>\n",
       "      <td>1</td>\n",
       "      <td>1</td>\n",
       "    </tr>\n",
       "    <tr>\n",
       "      <th>4</th>\n",
       "      <td>1</td>\n",
       "      <td>1.0</td>\n",
       "      <td>-74.017120</td>\n",
       "      <td>40.708469</td>\n",
       "      <td>-73.988182</td>\n",
       "      <td>40.740631</td>\n",
       "      <td>0.0</td>\n",
       "      <td>848</td>\n",
       "      <td>48</td>\n",
       "      <td>7.0</td>\n",
       "      <td>2</td>\n",
       "      <td>2</td>\n",
       "      <td>48</td>\n",
       "      <td>7.0</td>\n",
       "      <td>2</td>\n",
       "      <td>2</td>\n",
       "    </tr>\n",
       "  </tbody>\n",
       "</table>\n",
       "</div>"
      ],
      "text/plain": [
       "  vendor_id passenger_count  pickup_longitude  pickup_latitude  \\\n",
       "0         2             1.0        -73.953918        40.778873   \n",
       "1         1             2.0        -73.988312        40.731743   \n",
       "2         2             2.0        -73.997314        40.721458   \n",
       "3         2             4.5        -73.961670        40.759720   \n",
       "4         1             1.0        -74.017120        40.708469   \n",
       "\n",
       "   dropoff_longitude  dropoff_latitude store_and_fwd_flag  trip_duration  \\\n",
       "0         -73.963875         40.771164                0.0            400   \n",
       "1         -73.994751         40.694931                0.0           1100   \n",
       "2         -73.948029         40.774918                0.0           1635   \n",
       "3         -73.956779         40.780628                0.0           1141   \n",
       "4         -73.988182         40.740631                0.0            848   \n",
       "\n",
       "   doy_pickup  woy_pickup moy_pickup dow_pickup  doy_dropof  woy_dropof  \\\n",
       "0          60         9.0          2          0          60         9.0   \n",
       "1          71        10.0          3          4          71        10.0   \n",
       "2          52         7.0          2          6          52         7.0   \n",
       "3           5         1.0          1          1           5         1.0   \n",
       "4          48         7.0          2          2          48         7.0   \n",
       "\n",
       "  moy_dropof dow_dropof  \n",
       "0          2          0  \n",
       "1          3          4  \n",
       "2          2          6  \n",
       "3          1          1  \n",
       "4          2          2  "
      ]
     },
     "execution_count": 106,
     "metadata": {},
     "output_type": "execute_result"
    }
   ],
   "source": [
    "data.head()"
   ]
  },
  {
   "cell_type": "markdown",
   "metadata": {},
   "source": [
    "### segegating variables"
   ]
  },
  {
   "cell_type": "code",
   "execution_count": 107,
   "metadata": {
    "colab": {
     "base_uri": "https://localhost:8080/",
     "height": 34
    },
    "colab_type": "code",
    "executionInfo": {
     "elapsed": 2634,
     "status": "ok",
     "timestamp": 1559907752332,
     "user": {
      "displayName": "Aishwarya Singh",
      "photoUrl": "https://lh5.googleusercontent.com/-72ZtNB76Qxg/AAAAAAAAAAI/AAAAAAAAAAc/Nsa5vQruND0/s64/photo.jpg",
      "userId": "01105858832371513140"
     },
     "user_tz": -330
    },
    "id": "rym4fnPq9xXG",
    "outputId": "103a10b9-f5d8-4ae3-e3a1-c42a9a1a42f2"
   },
   "outputs": [
    {
     "data": {
      "text/plain": [
       "((729322, 15), (729322,))"
      ]
     },
     "execution_count": 107,
     "metadata": {},
     "output_type": "execute_result"
    }
   ],
   "source": [
    "#seperating independent and dependent variables\n",
    "x = data.drop([target], axis=1)\n",
    "y = data[target]\n",
    "x.shape, y.shape"
   ]
  },
  {
   "cell_type": "markdown",
   "metadata": {},
   "source": [
    "### checking assumptions of linear regression"
   ]
  },
  {
   "cell_type": "code",
   "execution_count": 108,
   "metadata": {},
   "outputs": [],
   "source": [
    "\n",
    "train_x,test_x,train_y,test_y = train_test_split(x,y, random_state = r)\n",
    "lr.fit(train_x, train_y)\n",
    "train_predict =lr.predict(train_x)\n",
    "test_predict = lr.predict(test_x)"
   ]
  },
  {
   "cell_type": "code",
   "execution_count": 109,
   "metadata": {},
   "outputs": [
    {
     "data": {
      "text/html": [
       "<div>\n",
       "<style scoped>\n",
       "    .dataframe tbody tr th:only-of-type {\n",
       "        vertical-align: middle;\n",
       "    }\n",
       "\n",
       "    .dataframe tbody tr th {\n",
       "        vertical-align: top;\n",
       "    }\n",
       "\n",
       "    .dataframe thead th {\n",
       "        text-align: right;\n",
       "    }\n",
       "</style>\n",
       "<table border=\"1\" class=\"dataframe\">\n",
       "  <thead>\n",
       "    <tr style=\"text-align: right;\">\n",
       "      <th></th>\n",
       "      <th>fitted values</th>\n",
       "      <th>predicted values</th>\n",
       "      <th>residuals</th>\n",
       "    </tr>\n",
       "  </thead>\n",
       "  <tbody>\n",
       "    <tr>\n",
       "      <th>386089</th>\n",
       "      <td>194</td>\n",
       "      <td>750.812712</td>\n",
       "      <td>-556.812712</td>\n",
       "    </tr>\n",
       "    <tr>\n",
       "      <th>382345</th>\n",
       "      <td>2024</td>\n",
       "      <td>1265.427485</td>\n",
       "      <td>758.572515</td>\n",
       "    </tr>\n",
       "    <tr>\n",
       "      <th>93165</th>\n",
       "      <td>1100</td>\n",
       "      <td>828.209629</td>\n",
       "      <td>271.790371</td>\n",
       "    </tr>\n",
       "    <tr>\n",
       "      <th>230914</th>\n",
       "      <td>1143</td>\n",
       "      <td>756.391385</td>\n",
       "      <td>386.608615</td>\n",
       "    </tr>\n",
       "    <tr>\n",
       "      <th>389358</th>\n",
       "      <td>600</td>\n",
       "      <td>746.067811</td>\n",
       "      <td>-146.067811</td>\n",
       "    </tr>\n",
       "  </tbody>\n",
       "</table>\n",
       "</div>"
      ],
      "text/plain": [
       "        fitted values  predicted values   residuals\n",
       "386089            194        750.812712 -556.812712\n",
       "382345           2024       1265.427485  758.572515\n",
       "93165            1100        828.209629  271.790371\n",
       "230914           1143        756.391385  386.608615\n",
       "389358            600        746.067811 -146.067811"
      ]
     },
     "execution_count": 109,
     "metadata": {},
     "output_type": "execute_result"
    }
   ],
   "source": [
    "# Arranging and calculating the Residuals\n",
    "residuals = pd.DataFrame({\n",
    "    'fitted values' : test_y,\n",
    "    'predicted values' : test_predict,\n",
    "})\n",
    "\n",
    "residuals['residuals'] = residuals['fitted values'] - residuals['predicted values']\n",
    "residuals.head()"
   ]
  },
  {
   "cell_type": "code",
   "execution_count": 110,
   "metadata": {},
   "outputs": [
    {
     "data": {
      "text/plain": [
       "(182331, 3)"
      ]
     },
     "execution_count": 110,
     "metadata": {},
     "output_type": "execute_result"
    }
   ],
   "source": [
    "residuals.shape"
   ]
  },
  {
   "cell_type": "markdown",
   "metadata": {},
   "source": [
    "Plotting residual curve (Is there constant Variance OR Homoscedastic?)"
   ]
  },
  {
   "cell_type": "code",
   "execution_count": 111,
   "metadata": {},
   "outputs": [
    {
     "data": {
      "text/plain": [
       "<matplotlib.legend.Legend at 0x7f9e79a041f0>"
      ]
     },
     "execution_count": 111,
     "metadata": {},
     "output_type": "execute_result"
    },
    {
     "data": {
      "image/png": "[encoded data removed]",
      "text/plain": [
       "<Figure size 1200x720 with 1 Axes>"
      ]
     },
     "metadata": {},
     "output_type": "display_data"
    }
   ],
   "source": [
    "plt.figure(figsize=(10, 6), dpi=120, facecolor='w', edgecolor='b')\n",
    "f = range(0,residuals.shape[0])\n",
    "k = [0 for i in range(0,residuals.shape[0])]\n",
    "plt.scatter( f, residuals.residuals[:], label = 'residuals')\n",
    "plt.plot( f, k , color = 'red', label = 'regression line' )\n",
    "plt.xlabel('fitted points ')\n",
    "plt.ylabel('residuals')\n",
    "plt.title('Residual plot')\n",
    "plt.ylim(-4000, 4000)\n",
    "plt.legend()"
   ]
  },
  {
   "cell_type": "markdown",
   "metadata": {},
   "source": [
    "The Residual plot clearly Looks Homoscedastic, i.e. the the variance of the error across the dataset is nearly constant."
   ]
  },
  {
   "cell_type": "markdown",
   "metadata": {},
   "source": [
    "Checking Distribution of Residuals"
   ]
  },
  {
   "cell_type": "code",
   "execution_count": 112,
   "metadata": {},
   "outputs": [
    {
     "data": {
      "image/png": "[encoded data removed]",
      "text/plain": [
       "<Figure size 1200x720 with 1 Axes>"
      ]
     },
     "metadata": {},
     "output_type": "display_data"
    }
   ],
   "source": [
    "# Histogram for distribution\n",
    "plt.figure(figsize=(10, 6), dpi=120, facecolor='w', edgecolor='b')\n",
    "plt.hist(residuals.residuals, bins = 500)\n",
    "plt.xlabel('Error')\n",
    "plt.ylabel('Frequency')\n",
    "plt.title('Distribution of Error Terms')\n",
    "plt.show()"
   ]
  },
  {
   "cell_type": "markdown",
   "metadata": {},
   "source": [
    "According to the Histogram, the distribution of error is nearly normal,but there are some unnormal behaviour on the lower end of the distribution"
   ]
  },
  {
   "cell_type": "markdown",
   "metadata": {},
   "source": [
    "QQ-Plot (Is the data Normally Distributed?)"
   ]
  },
  {
   "cell_type": "code",
   "execution_count": 113,
   "metadata": {},
   "outputs": [
    {
     "data": {
      "image/png": "[encoded data removed]",
      "text/plain": [
       "<Figure size 600x600 with 1 Axes>"
      ]
     },
     "metadata": {
      "needs_background": "light"
     },
     "output_type": "display_data"
    }
   ],
   "source": [
    "# importing the QQ-plot from the from the statsmodels\n",
    "from statsmodels.graphics.gofplots import qqplot\n",
    "\n",
    "## Plotting the QQ plot\n",
    "fig, ax = plt.subplots(figsize=(5,5) , dpi = 120)\n",
    "qqplot(residuals.residuals, line = 's' , ax = ax)\n",
    "plt.ylabel('Residual Quantiles')\n",
    "plt.xlabel('Ideal Scaled Quantiles')\n",
    "plt.title('Checking distribution of Residual Errors')\n",
    "plt.show()"
   ]
  },
  {
   "cell_type": "markdown",
   "metadata": {},
   "source": [
    " the inference drawn from distribution of residuals is confirmed by qq plot.it is nearly normal lower end has some fluctuating values"
   ]
  },
  {
   "cell_type": "markdown",
   "metadata": {},
   "source": [
    "Variance Inflation Factor (VIF) (Checking for multi collinearity)"
   ]
  },
  {
   "cell_type": "code",
   "execution_count": 114,
   "metadata": {},
   "outputs": [
    {
     "data": {
      "text/plain": [
       "vendor_id             1.140145e+01\n",
       "passenger_count       3.292575e+00\n",
       "pickup_longitude      9.355601e+04\n",
       "pickup_latitude       5.284545e+04\n",
       "dropoff_longitude     6.791909e+04\n",
       "dropoff_latitude      2.875175e+04\n",
       "store_and_fwd_flag    1.012739e+00\n",
       "trip_duration         3.354049e+00\n",
       "doy_pickup            1.010737e+06\n",
       "woy_pickup            4.250365e+03\n",
       "moy_pickup            4.436177e+04\n",
       "dow_pickup            2.859471e+02\n",
       "doy_dropof            1.010910e+06\n",
       "woy_dropof            4.260440e+03\n",
       "moy_dropof            4.436381e+04\n",
       "dow_dropof            2.862034e+02\n",
       "dtype: float64"
      ]
     },
     "execution_count": 114,
     "metadata": {},
     "output_type": "execute_result"
    }
   ],
   "source": [
    "# Importing Variance_inflation_Factor funtion from the Statsmodels\n",
    "from statsmodels.stats.outliers_influence import variance_inflation_factor\n",
    "from statsmodels.tools.tools import add_constant\n",
    "\n",
    "# Calculating VIF for every column (only works for the not Catagorical)\n",
    "VIF = pd.Series([variance_inflation_factor(data.values, i) for i in range(data.shape[1])], index =data.columns)\n",
    "VIF"
   ]
  },
  {
   "cell_type": "markdown",
   "metadata": {},
   "source": [
    "From this list, we clearly see that there happens to be no Independent Variable over the value of 5 (5.000e+00)(if there were any values over 5 then that would have to be removed from analysis), which means that there are no features that exhibit the Multicollinearity in the dataset. Note that VIF only works for the Continuous Variables"
   ]
  },
  {
   "cell_type": "markdown",
   "metadata": {},
   "source": [
    "### splitting data"
   ]
  },
  {
   "cell_type": "code",
   "execution_count": 115,
   "metadata": {},
   "outputs": [],
   "source": [
    "# Importing the train test split function\n",
    "from sklearn.model_selection import train_test_split\n",
    "train_x,test_x,train_y,test_y = train_test_split(x,y,test_size=1/4,random_state= r)\n",
    "train_x,val_x,train_y,val_y= train_test_split(train_x, train_y, test_size=1/3,random_state=r)"
   ]
  },
  {
   "cell_type": "code",
   "execution_count": 116,
   "metadata": {
    "colab": {
     "base_uri": "https://localhost:8080/",
     "height": 159
    },
    "colab_type": "code",
    "executionInfo": {
     "elapsed": 2906,
     "status": "ok",
     "timestamp": 1559907754529,
     "user": {
      "displayName": "Aishwarya Singh",
      "photoUrl": "https://lh5.googleusercontent.com/-72ZtNB76Qxg/AAAAAAAAAAI/AAAAAAAAAAc/Nsa5vQruND0/s64/photo.jpg",
      "userId": "01105858832371513140"
     },
     "user_tz": -330
    },
    "id": "TFrwDTRdybYF",
    "outputId": "be6a8867-192c-445b-a4ef-6ef855d43c89"
   },
   "outputs": [
    {
     "data": {
      "text/plain": [
       "LinearRegression(normalize=True)"
      ]
     },
     "execution_count": 116,
     "metadata": {},
     "output_type": "execute_result"
    }
   ],
   "source": [
    "# Fitting the model\n",
    "\n",
    "model.fit(train_x, train_y)"
   ]
  },
  {
   "cell_type": "code",
   "execution_count": 117,
   "metadata": {},
   "outputs": [],
   "source": [
    "def rmsle(y_pred, y_test) : \n",
    "    assert len(y_test) == len(y_pred)\n",
    "    return np.sqrt(np.mean((np.log(1+y_pred) - np.log(1+y_test))**2))"
   ]
  },
  {
   "cell_type": "markdown",
   "metadata": {},
   "source": [
    "## rigde regularisation"
   ]
  },
  {
   "cell_type": "markdown",
   "metadata": {},
   "source": [
    "higher the alpha value, more restriction on the coefficients"
   ]
  },
  {
   "cell_type": "code",
   "execution_count": 133,
   "metadata": {},
   "outputs": [],
   "source": [
    "from sklearn.linear_model import Ridge\n",
    "alpha_ridge = [0, 1e-8, 1e-6 ,1e-4, 1e-3,1e-2, 1, 5, 10, 20, 25]\n",
    "r2adjlist,rrscorelist=[[],[]]\n",
    "for i in alpha_ridge: \n",
    " rr = Ridge(alpha=i,normalize=True)\n",
    " rr.fit(train_x, train_y)\n",
    " r2=rr.score(val_x, val_y)\n",
    " r2adj=1-((1-r2)*(len(y)-1)/(len(y)-x.shape[1]-1))\n",
    " r2adjlist.append(r2adj)\n",
    " rrscorelist.append(r2)"
   ]
  },
  {
   "cell_type": "code",
   "execution_count": 134,
   "metadata": {},
   "outputs": [
    {
     "data": {
      "text/plain": [
       "[0.17428586029392346,\n",
       " 0.17428338808661548,\n",
       " 0.17370169759699883,\n",
       " 0.16954061813671417,\n",
       " 0.16920551568833608,\n",
       " 0.16893284560760324,\n",
       " 0.14067307756423097,\n",
       " 0.06997570998290559,\n",
       " 0.04240096717538,\n",
       " 0.023689078591460633,\n",
       " 0.019404930417615263]"
      ]
     },
     "execution_count": 134,
     "metadata": {},
     "output_type": "execute_result"
    }
   ],
   "source": [
    "r2adjlist"
   ]
  },
  {
   "cell_type": "code",
   "execution_count": 135,
   "metadata": {},
   "outputs": [],
   "source": [
    "c=-1\n",
    "max=0\n",
    "for i in r2adjlist:\n",
    " c=c+1\n",
    " if(i>=max):\n",
    "    max=i\n",
    "    index_alpha=c"
   ]
  },
  {
   "cell_type": "code",
   "execution_count": 136,
   "metadata": {},
   "outputs": [
    {
     "name": "stdout",
     "output_type": "stream",
     "text": [
      "for the alpha value =  0  r2adjridge value attains a maximum of  0.17428586029392346\n"
     ]
    }
   ],
   "source": [
    "print(\"for the alpha value = \",alpha_ridge[index_alpha],\" r2adjridge value attains a maximum of \",max)"
   ]
  },
  {
   "cell_type": "markdown",
   "metadata": {},
   "source": [
    "### assigning ridge at alpha=alpha_ridge[index_alpha] as the model throughout the code"
   ]
  },
  {
   "cell_type": "code",
   "execution_count": 122,
   "metadata": {},
   "outputs": [],
   "source": [
    "model=Ridge(alpha=alpha_ridge[index_alpha],normalize=True)"
   ]
  },
  {
   "cell_type": "markdown",
   "metadata": {},
   "source": [
    "### selecting columns based on coefficients"
   ]
  },
  {
   "cell_type": "code",
   "execution_count": 123,
   "metadata": {},
   "outputs": [
    {
     "data": {
      "text/html": [
       "<div>\n",
       "<style scoped>\n",
       "    .dataframe tbody tr th:only-of-type {\n",
       "        vertical-align: middle;\n",
       "    }\n",
       "\n",
       "    .dataframe tbody tr th {\n",
       "        vertical-align: top;\n",
       "    }\n",
       "\n",
       "    .dataframe thead th {\n",
       "        text-align: right;\n",
       "    }\n",
       "</style>\n",
       "<table border=\"1\" class=\"dataframe\">\n",
       "  <thead>\n",
       "    <tr style=\"text-align: right;\">\n",
       "      <th></th>\n",
       "      <th>Variable</th>\n",
       "      <th>coefficient</th>\n",
       "    </tr>\n",
       "  </thead>\n",
       "  <tbody>\n",
       "    <tr>\n",
       "      <th>0</th>\n",
       "      <td>vendor_id</td>\n",
       "      <td>4.112913</td>\n",
       "    </tr>\n",
       "    <tr>\n",
       "      <th>1</th>\n",
       "      <td>passenger_count</td>\n",
       "      <td>6.655991</td>\n",
       "    </tr>\n",
       "    <tr>\n",
       "      <th>2</th>\n",
       "      <td>pickup_longitude</td>\n",
       "      <td>546.252833</td>\n",
       "    </tr>\n",
       "    <tr>\n",
       "      <th>3</th>\n",
       "      <td>pickup_latitude</td>\n",
       "      <td>-217.638651</td>\n",
       "    </tr>\n",
       "    <tr>\n",
       "      <th>4</th>\n",
       "      <td>dropoff_longitude</td>\n",
       "      <td>374.793102</td>\n",
       "    </tr>\n",
       "    <tr>\n",
       "      <th>5</th>\n",
       "      <td>dropoff_latitude</td>\n",
       "      <td>-204.518578</td>\n",
       "    </tr>\n",
       "    <tr>\n",
       "      <th>6</th>\n",
       "      <td>store_and_fwd_flag</td>\n",
       "      <td>98.427278</td>\n",
       "    </tr>\n",
       "    <tr>\n",
       "      <th>7</th>\n",
       "      <td>doy_pickup</td>\n",
       "      <td>-353.439755</td>\n",
       "    </tr>\n",
       "    <tr>\n",
       "      <th>8</th>\n",
       "      <td>woy_pickup</td>\n",
       "      <td>5.331104</td>\n",
       "    </tr>\n",
       "    <tr>\n",
       "      <th>9</th>\n",
       "      <td>moy_pickup</td>\n",
       "      <td>-101.505698</td>\n",
       "    </tr>\n",
       "    <tr>\n",
       "      <th>10</th>\n",
       "      <td>dow_pickup</td>\n",
       "      <td>-17.273028</td>\n",
       "    </tr>\n",
       "    <tr>\n",
       "      <th>11</th>\n",
       "      <td>doy_dropof</td>\n",
       "      <td>354.054447</td>\n",
       "    </tr>\n",
       "    <tr>\n",
       "      <th>12</th>\n",
       "      <td>woy_dropof</td>\n",
       "      <td>-6.724124</td>\n",
       "    </tr>\n",
       "    <tr>\n",
       "      <th>13</th>\n",
       "      <td>moy_dropof</td>\n",
       "      <td>104.710492</td>\n",
       "    </tr>\n",
       "    <tr>\n",
       "      <th>14</th>\n",
       "      <td>dow_dropof</td>\n",
       "      <td>9.558203</td>\n",
       "    </tr>\n",
       "  </tbody>\n",
       "</table>\n",
       "</div>"
      ],
      "text/plain": [
       "              Variable  coefficient\n",
       "0            vendor_id     4.112913\n",
       "1      passenger_count     6.655991\n",
       "2     pickup_longitude   546.252833\n",
       "3      pickup_latitude  -217.638651\n",
       "4    dropoff_longitude   374.793102\n",
       "5     dropoff_latitude  -204.518578\n",
       "6   store_and_fwd_flag    98.427278\n",
       "7           doy_pickup  -353.439755\n",
       "8           woy_pickup     5.331104\n",
       "9           moy_pickup  -101.505698\n",
       "10          dow_pickup   -17.273028\n",
       "11          doy_dropof   354.054447\n",
       "12          woy_dropof    -6.724124\n",
       "13          moy_dropof   104.710492\n",
       "14          dow_dropof     9.558203"
      ]
     },
     "execution_count": 123,
     "metadata": {},
     "output_type": "execute_result"
    }
   ],
   "source": [
    "Coefficients = pd.DataFrame({\n",
    "    'Variable'    : x.columns.tolist(),\n",
    "    'coefficient' : lr.coef_\n",
    "})\n",
    "Coefficients"
   ]
  },
  {
   "cell_type": "code",
   "execution_count": 137,
   "metadata": {},
   "outputs": [],
   "source": [
    "r2adjlist=[]\n",
    "indexlist=[]\n",
    "min=  int(Coefficients.coefficient.min())\n",
    "max=  int(Coefficients.coefficient.max())\n",
    "step=int((max-min)/10)\n",
    "for i in range(min,max,step):\n",
    "  \n",
    "  sig_var = Coefficients[Coefficients.coefficient > i]\n",
    "  xcoeff = x[sig_var['Variable'].values]\n",
    "   \n",
    "  train_xcoeff,test_xcoeff,train_ycoeff,test_ycoeff = train_test_split(xcoeff,y,test_size=1/4,random_state= r)\n",
    "  train_xcoeff,val_xcoeff,train_ycoeff,val_ycoeff= train_test_split(train_xcoeff, train_ycoeff, test_size=1/3,random_state=r)\n",
    "  model.fit(train_xcoeff,train_ycoeff)\n",
    "  pred=model.predict(val_xcoeff)\n",
    "  r2=model.score(val_xcoeff,val_ycoeff)\n",
    "  r2adj=1-((1-r2)*(len(y)-1)/(len(y)-xcoeff.shape[1]-1))\n",
    "  r2adjlist.append(r2adj)\n",
    "  indexlist.append(i)\n"
   ]
  },
  {
   "cell_type": "code",
   "execution_count": 138,
   "metadata": {},
   "outputs": [
    {
     "data": {
      "text/plain": [
       "[0.1693895138606124,\n",
       " 0.1693895138606124,\n",
       " 0.15156307484719567,\n",
       " 0.15139148350491705,\n",
       " 0.15086029595083794,\n",
       " 0.14975109052560687,\n",
       " 0.14962507246385826,\n",
       " 0.14962507246385826,\n",
       " 0.14657726836309382,\n",
       " 0.11601749347944135,\n",
       " 0.11601749347944135]"
      ]
     },
     "execution_count": 138,
     "metadata": {},
     "output_type": "execute_result"
    }
   ],
   "source": [
    "r2adjlist"
   ]
  },
  {
   "cell_type": "code",
   "execution_count": 139,
   "metadata": {},
   "outputs": [
    {
     "data": {
      "text/plain": [
       "[-353, -264, -175, -86, 3, 92, 181, 270, 359, 448, 537]"
      ]
     },
     "execution_count": 139,
     "metadata": {},
     "output_type": "execute_result"
    }
   ],
   "source": [
    "indexlist"
   ]
  },
  {
   "cell_type": "code",
   "execution_count": 140,
   "metadata": {},
   "outputs": [],
   "source": [
    "c=-1\n",
    "max=0\n",
    "for i in r2adjlist:\n",
    " c=c+1\n",
    " if(i>=max):\n",
    "    max=i\n",
    "    index_coeff=c"
   ]
  },
  {
   "cell_type": "code",
   "execution_count": 141,
   "metadata": {},
   "outputs": [
    {
     "name": "stdout",
     "output_type": "stream",
     "text": [
      "the columns corresponding to cofficients greater than  -264  when used to make model r2adjusted value attains a maximum of  0.1693895138606124\n"
     ]
    }
   ],
   "source": [
    "print(\"the columns corresponding to cofficients greater than \",indexlist[index_coeff],\" when used to make model r2adjusted value attains a maximum of \",max)"
   ]
  },
  {
   "cell_type": "markdown",
   "metadata": {},
   "source": [
    "assigning train val and test sets based on corresponding columns"
   ]
  },
  {
   "cell_type": "code",
   "execution_count": 142,
   "metadata": {},
   "outputs": [],
   "source": [
    "sig_var = Coefficients[Coefficients.coefficient > indexlist[index_coeff]]\n",
    "x = x[sig_var['Variable'].values]\n",
    "   \n",
    "train_x,test_x,train_y,test_y = train_test_split(x,y,test_size=1/4,random_state= r)\n",
    "train_x,val_x,train_y,val_y= train_test_split(train_x, train_y, test_size=1/3,random_state=r)"
   ]
  },
  {
   "cell_type": "markdown",
   "metadata": {},
   "source": [
    "## N FOLD CROSS VALIDATION"
   ]
  },
  {
   "cell_type": "markdown",
   "metadata": {},
   "source": [
    "to change eval metric throughout the code make corresponding changes in the eval_metric and cv_score() and eval_score()\n"
   ]
  },
  {
   "cell_type": "code",
   "execution_count": 143,
   "metadata": {},
   "outputs": [],
   "source": [
    "nfold=9\n",
    "eval_metric=['rmsle','rmse','mae']"
   ]
  },
  {
   "cell_type": "markdown",
   "metadata": {},
   "source": [
    "the function takes the ml algorithm,columns of datatable and the break value as parameter . function randomly chooses nfold sets of train and validation sets where in each fold val set is complement of train set and the union of validation sets in all folds gives the dataset itself . each fold is trained on train set and tested on validation set and gives a set of evaluation metric scores"
   ]
  },
  {
   "cell_type": "code",
   "execution_count": 144,
   "metadata": {},
   "outputs": [],
   "source": [
    "def cv_score(ml_model=model, rstate = r, cols = x.columns.tolist()):\n",
    "    i = 1\n",
    "    cv_scores = []\n",
    "    df1 = data.copy()\n",
    "    df1 = data[cols]\n",
    "    rmslelist,rmselist,maelist=[[],[],[]]\n",
    "    indexlist=[]\n",
    "    \n",
    "    # 5 Fold cross validation stratified on the basis of target\n",
    "    kf = StratifiedKFold(n_splits=nfold,random_state=rstate,shuffle=True)\n",
    "    for df_index,test_index in kf.split(df1,y):\n",
    "        \n",
    "        xtr,xvl = [df1.loc[df_index],df1.loc[test_index]]\n",
    "        ytr,yvl = [y.loc[df_index],y.loc[test_index]]\n",
    "            \n",
    "        # Define model for fitting on the training set for each fold\n",
    "        model = ml_model\n",
    "        model.fit(xtr, ytr)\n",
    "        pred = model.predict(xvl)\n",
    "         \n",
    "        # Calculate scores for each fold and print\n",
    "        pred_val = pred\n",
    "        rmsle1 = rmsle(yvl,pred_val)\n",
    "        rmse1=rmse(yvl,pred_val,squared=True)\n",
    "        mae1=mae(yvl,pred_val)\n",
    "        \n",
    "        rmslelist.append(rmsle1)\n",
    "        rmselist.append(rmse1)\n",
    "        maelist.append(mae1)\n",
    "        \n",
    "         # Save scores\n",
    "        indexlist.append((\"kfold \"+str((i))))\n",
    "        i=i+1\n",
    "        \n",
    "    cv_score=pd.DataFrame([rmslelist,rmselist,maelist],index=eval_metric,columns=indexlist)\n",
    "    return cv_score"
   ]
  },
  {
   "cell_type": "code",
   "execution_count": 145,
   "metadata": {},
   "outputs": [
    {
     "data": {
      "text/html": [
       "<div>\n",
       "<style scoped>\n",
       "    .dataframe tbody tr th:only-of-type {\n",
       "        vertical-align: middle;\n",
       "    }\n",
       "\n",
       "    .dataframe tbody tr th {\n",
       "        vertical-align: top;\n",
       "    }\n",
       "\n",
       "    .dataframe thead th {\n",
       "        text-align: right;\n",
       "    }\n",
       "</style>\n",
       "<table border=\"1\" class=\"dataframe\">\n",
       "  <thead>\n",
       "    <tr style=\"text-align: right;\">\n",
       "      <th></th>\n",
       "      <th>kfold 1</th>\n",
       "      <th>kfold 2</th>\n",
       "      <th>kfold 3</th>\n",
       "      <th>kfold 4</th>\n",
       "      <th>kfold 5</th>\n",
       "      <th>kfold 6</th>\n",
       "      <th>kfold 7</th>\n",
       "      <th>kfold 8</th>\n",
       "      <th>kfold 9</th>\n",
       "    </tr>\n",
       "  </thead>\n",
       "  <tbody>\n",
       "    <tr>\n",
       "      <th>rmsle</th>\n",
       "      <td>0.751022</td>\n",
       "      <td>0.750257</td>\n",
       "      <td>0.750318</td>\n",
       "      <td>0.750307</td>\n",
       "      <td>0.749342</td>\n",
       "      <td>0.747854</td>\n",
       "      <td>0.749522</td>\n",
       "      <td>0.747631</td>\n",
       "      <td>0.748908</td>\n",
       "    </tr>\n",
       "    <tr>\n",
       "      <th>rmse</th>\n",
       "      <td>234324.182916</td>\n",
       "      <td>234757.706857</td>\n",
       "      <td>234028.825201</td>\n",
       "      <td>234513.224197</td>\n",
       "      <td>233495.642024</td>\n",
       "      <td>233066.472984</td>\n",
       "      <td>232703.533466</td>\n",
       "      <td>230863.590232</td>\n",
       "      <td>233820.512412</td>\n",
       "    </tr>\n",
       "    <tr>\n",
       "      <th>mae</th>\n",
       "      <td>382.148931</td>\n",
       "      <td>382.599613</td>\n",
       "      <td>381.815559</td>\n",
       "      <td>382.463859</td>\n",
       "      <td>381.830630</td>\n",
       "      <td>381.530633</td>\n",
       "      <td>381.768286</td>\n",
       "      <td>380.113268</td>\n",
       "      <td>381.905445</td>\n",
       "    </tr>\n",
       "  </tbody>\n",
       "</table>\n",
       "</div>"
      ],
      "text/plain": [
       "             kfold 1        kfold 2        kfold 3        kfold 4  \\\n",
       "rmsle       0.751022       0.750257       0.750318       0.750307   \n",
       "rmse   234324.182916  234757.706857  234028.825201  234513.224197   \n",
       "mae       382.148931     382.599613     381.815559     382.463859   \n",
       "\n",
       "             kfold 5        kfold 6        kfold 7        kfold 8  \\\n",
       "rmsle       0.749342       0.747854       0.749522       0.747631   \n",
       "rmse   233495.642024  233066.472984  232703.533466  230863.590232   \n",
       "mae       381.830630     381.530633     381.768286     380.113268   \n",
       "\n",
       "             kfold 9  \n",
       "rmsle       0.748908  \n",
       "rmse   233820.512412  \n",
       "mae       381.905445  "
      ]
     },
     "execution_count": 145,
     "metadata": {},
     "output_type": "execute_result"
    }
   ],
   "source": [
    "cv_score()"
   ]
  },
  {
   "cell_type": "markdown",
   "metadata": {},
   "source": [
    "returns individual evaluation metric scores as a dataframe ,predefined set of columns and a model is passed as an argument\n"
   ]
  },
  {
   "cell_type": "code",
   "execution_count": 146,
   "metadata": {},
   "outputs": [],
   "source": [
    "  def eval_score(ml_model=model, rstate = r, cols =x.columns.tolist()):\n",
    "        i = 1\n",
    "        indexlist=[]\n",
    "    \n",
    "        # Define model for fitting on the training set for each fold\n",
    "        model = ml_model\n",
    "        model.fit(train_x[cols],train_y)\n",
    "        pred = model.predict(val_x[cols])\n",
    "         \n",
    "        # Calculate scores for each fold and print\n",
    "        pred_val = pred\n",
    "        rmsle1 = rmsle(val_y,pred_val)\n",
    "        rmse1=rmse(val_y,pred_val,squared=True)\n",
    "        mae1=mae(val_y,pred_val)\n",
    "        \n",
    "         # Save scores\n",
    "        indexlist.append((\"kfold \"+str((i))))\n",
    "        i=i+1\n",
    "        eval_score=pd.DataFrame([rmsle1,rmse1,mae1],index=eval_metric,columns=['score'])\n",
    "        return eval_score"
   ]
  },
  {
   "cell_type": "code",
   "execution_count": 147,
   "metadata": {},
   "outputs": [
    {
     "data": {
      "text/html": [
       "<div>\n",
       "<style scoped>\n",
       "    .dataframe tbody tr th:only-of-type {\n",
       "        vertical-align: middle;\n",
       "    }\n",
       "\n",
       "    .dataframe tbody tr th {\n",
       "        vertical-align: top;\n",
       "    }\n",
       "\n",
       "    .dataframe thead th {\n",
       "        text-align: right;\n",
       "    }\n",
       "</style>\n",
       "<table border=\"1\" class=\"dataframe\">\n",
       "  <thead>\n",
       "    <tr style=\"text-align: right;\">\n",
       "      <th></th>\n",
       "      <th>score</th>\n",
       "    </tr>\n",
       "  </thead>\n",
       "  <tbody>\n",
       "    <tr>\n",
       "      <th>rmsle</th>\n",
       "      <td>0.745671</td>\n",
       "    </tr>\n",
       "    <tr>\n",
       "      <th>rmse</th>\n",
       "      <td>232394.223787</td>\n",
       "    </tr>\n",
       "    <tr>\n",
       "      <th>mae</th>\n",
       "      <td>380.858906</td>\n",
       "    </tr>\n",
       "  </tbody>\n",
       "</table>\n",
       "</div>"
      ],
      "text/plain": [
       "               score\n",
       "rmsle       0.745671\n",
       "rmse   232394.223787\n",
       "mae       380.858906"
      ]
     },
     "execution_count": 147,
     "metadata": {},
     "output_type": "execute_result"
    }
   ],
   "source": [
    "eval_score()"
   ]
  },
  {
   "cell_type": "markdown",
   "metadata": {},
   "source": [
    "this is a ranking of features based on how significant they are to our analysis according to RFE"
   ]
  },
  {
   "cell_type": "code",
   "execution_count": 148,
   "metadata": {},
   "outputs": [],
   "source": [
    "from sklearn.feature_selection import RFE\n",
    "\n",
    "# Create the RFE object and rank each feature\n",
    "\n",
    "rfe = RFE(estimator=model, n_features_to_select=1, step=1)\n",
    "rfe.fit(train_x, train_y)\n",
    "ranking_df = pd.DataFrame()\n",
    "ranking_df['Feature_name'] = x.iloc[0,].index\n",
    "ranking_df['Rank'] = rfe.ranking_\n",
    "ranked = ranking_df.sort_values(by=['Rank'])"
   ]
  },
  {
   "cell_type": "code",
   "execution_count": 149,
   "metadata": {},
   "outputs": [
    {
     "data": {
      "text/html": [
       "<div>\n",
       "<style scoped>\n",
       "    .dataframe tbody tr th:only-of-type {\n",
       "        vertical-align: middle;\n",
       "    }\n",
       "\n",
       "    .dataframe tbody tr th {\n",
       "        vertical-align: top;\n",
       "    }\n",
       "\n",
       "    .dataframe thead th {\n",
       "        text-align: right;\n",
       "    }\n",
       "</style>\n",
       "<table border=\"1\" class=\"dataframe\">\n",
       "  <thead>\n",
       "    <tr style=\"text-align: right;\">\n",
       "      <th></th>\n",
       "      <th>Feature_name</th>\n",
       "      <th>Rank</th>\n",
       "    </tr>\n",
       "  </thead>\n",
       "  <tbody>\n",
       "    <tr>\n",
       "      <th>2</th>\n",
       "      <td>pickup_longitude</td>\n",
       "      <td>1</td>\n",
       "    </tr>\n",
       "    <tr>\n",
       "      <th>12</th>\n",
       "      <td>moy_dropof</td>\n",
       "      <td>2</td>\n",
       "    </tr>\n",
       "    <tr>\n",
       "      <th>8</th>\n",
       "      <td>moy_pickup</td>\n",
       "      <td>3</td>\n",
       "    </tr>\n",
       "    <tr>\n",
       "      <th>4</th>\n",
       "      <td>dropoff_longitude</td>\n",
       "      <td>4</td>\n",
       "    </tr>\n",
       "    <tr>\n",
       "      <th>3</th>\n",
       "      <td>pickup_latitude</td>\n",
       "      <td>5</td>\n",
       "    </tr>\n",
       "    <tr>\n",
       "      <th>5</th>\n",
       "      <td>dropoff_latitude</td>\n",
       "      <td>6</td>\n",
       "    </tr>\n",
       "    <tr>\n",
       "      <th>6</th>\n",
       "      <td>store_and_fwd_flag</td>\n",
       "      <td>7</td>\n",
       "    </tr>\n",
       "    <tr>\n",
       "      <th>9</th>\n",
       "      <td>dow_pickup</td>\n",
       "      <td>8</td>\n",
       "    </tr>\n",
       "    <tr>\n",
       "      <th>13</th>\n",
       "      <td>dow_dropof</td>\n",
       "      <td>9</td>\n",
       "    </tr>\n",
       "    <tr>\n",
       "      <th>1</th>\n",
       "      <td>passenger_count</td>\n",
       "      <td>10</td>\n",
       "    </tr>\n",
       "    <tr>\n",
       "      <th>11</th>\n",
       "      <td>woy_dropof</td>\n",
       "      <td>11</td>\n",
       "    </tr>\n",
       "    <tr>\n",
       "      <th>7</th>\n",
       "      <td>woy_pickup</td>\n",
       "      <td>12</td>\n",
       "    </tr>\n",
       "    <tr>\n",
       "      <th>0</th>\n",
       "      <td>vendor_id</td>\n",
       "      <td>13</td>\n",
       "    </tr>\n",
       "    <tr>\n",
       "      <th>10</th>\n",
       "      <td>doy_dropof</td>\n",
       "      <td>14</td>\n",
       "    </tr>\n",
       "  </tbody>\n",
       "</table>\n",
       "</div>"
      ],
      "text/plain": [
       "          Feature_name  Rank\n",
       "2     pickup_longitude     1\n",
       "12          moy_dropof     2\n",
       "8           moy_pickup     3\n",
       "4    dropoff_longitude     4\n",
       "3      pickup_latitude     5\n",
       "5     dropoff_latitude     6\n",
       "6   store_and_fwd_flag     7\n",
       "9           dow_pickup     8\n",
       "13          dow_dropof     9\n",
       "1      passenger_count    10\n",
       "11          woy_dropof    11\n",
       "7           woy_pickup    12\n",
       "0            vendor_id    13\n",
       "10          doy_dropof    14"
      ]
     },
     "execution_count": 149,
     "metadata": {},
     "output_type": "execute_result"
    }
   ],
   "source": [
    "ranked"
   ]
  },
  {
   "cell_type": "code",
   "execution_count": 150,
   "metadata": {},
   "outputs": [],
   "source": [
    "\n",
    "def noof_features_metric(nrank):\n",
    "  sco_featlist=[]\n",
    "  for i in eval_metric:\n",
    "    sco_feat=eval_score(cols = ranked['Feature_name'].iloc[:(nrank)].values.tolist()).score[i]\n",
    "    sco_featlist.append(sco_feat)\n",
    "  return pd.DataFrame(sco_featlist,index=eval_metric,columns=[\"rfe top\"+str(nrank)])"
   ]
  },
  {
   "cell_type": "markdown",
   "metadata": {},
   "source": [
    "calculating no of top features to be taken in the model(acc to rfe) with respect to a evaluation metric which maximises that particular evaluation metric  "
   ]
  },
  {
   "cell_type": "code",
   "execution_count": 151,
   "metadata": {},
   "outputs": [],
   "source": [
    "topn_feat=0\n",
    "c=-1\n",
    "topfeatlist=[]\n",
    "topfeatscorelist=[]\n",
    "for i in eval_metric:\n",
    " c=c+1\n",
    " score=0\n",
    " min=1000000\n",
    " for j in range(1,len(x.columns.tolist())):\n",
    "  score=noof_features_metric(j).iloc[c].values\n",
    "  if(score<min):\n",
    "    min=score\n",
    "    topn_feat=j\n",
    " topfeatlist.append(topn_feat)\n",
    " topfeatscorelist.append(min)\n",
    "topfeat=pd.DataFrame([topfeatlist,topfeatscorelist],columns=eval_metric,index=[\"rfe top feat\",\"corresponding score\"])\n",
    "   "
   ]
  },
  {
   "cell_type": "code",
   "execution_count": 152,
   "metadata": {},
   "outputs": [
    {
     "data": {
      "text/html": [
       "<div>\n",
       "<style scoped>\n",
       "    .dataframe tbody tr th:only-of-type {\n",
       "        vertical-align: middle;\n",
       "    }\n",
       "\n",
       "    .dataframe tbody tr th {\n",
       "        vertical-align: top;\n",
       "    }\n",
       "\n",
       "    .dataframe thead th {\n",
       "        text-align: right;\n",
       "    }\n",
       "</style>\n",
       "<table border=\"1\" class=\"dataframe\">\n",
       "  <thead>\n",
       "    <tr style=\"text-align: right;\">\n",
       "      <th></th>\n",
       "      <th>rmsle</th>\n",
       "      <th>rmse</th>\n",
       "      <th>mae</th>\n",
       "    </tr>\n",
       "  </thead>\n",
       "  <tbody>\n",
       "    <tr>\n",
       "      <th>rfe top feat</th>\n",
       "      <td>13</td>\n",
       "      <td>13</td>\n",
       "      <td>13</td>\n",
       "    </tr>\n",
       "    <tr>\n",
       "      <th>corresponding score</th>\n",
       "      <td>[0.7457400656359193]</td>\n",
       "      <td>[232433.44137627815]</td>\n",
       "      <td>[380.8881965202991]</td>\n",
       "    </tr>\n",
       "  </tbody>\n",
       "</table>\n",
       "</div>"
      ],
      "text/plain": [
       "                                    rmsle                  rmse  \\\n",
       "rfe top feat                           13                    13   \n",
       "corresponding score  [0.7457400656359193]  [232433.44137627815]   \n",
       "\n",
       "                                     mae  \n",
       "rfe top feat                          13  \n",
       "corresponding score  [380.8881965202991]  "
      ]
     },
     "execution_count": 152,
     "metadata": {},
     "output_type": "execute_result"
    }
   ],
   "source": [
    "topfeat"
   ]
  },
  {
   "cell_type": "markdown",
   "metadata": {},
   "source": [
    "# test"
   ]
  },
  {
   "cell_type": "markdown",
   "metadata": {},
   "source": [
    "with main columns with respect to each evaluation metric . columns have been filtered wrt to their coefficients ,ridge regularisation and ranking system rfe"
   ]
  },
  {
   "cell_type": "code",
   "execution_count": 153,
   "metadata": {},
   "outputs": [
    {
     "name": "stdout",
     "output_type": "stream",
     "text": [
      "the rmse score has top 13 features (chosen by rfe) where the evaluation metric rmsle reaches the lowest score: [0.74574007] compared to other combination of feature used to make the model = 325477.15487024584\n",
      "the rmse score has top 13 features (chosen by rfe) where the evaluation metric rmse reaches the lowest score: [232433.44137628] compared to other combination of feature used to make the model = 325477.15487024584\n",
      "the rmse score has top 13 features (chosen by rfe) where the evaluation metric mae reaches the lowest score: [380.88819652] compared to other combination of feature used to make the model = 325477.15487024584\n"
     ]
    }
   ],
   "source": [
    "predicted_wrt_evaluationmetrics=[]\n",
    "rmslelist,rmselist,maelist,test_colslist, topncollist,indexlist=[[],[],[],[],[],[]]\n",
    "for i in range(len(eval_metric)):\n",
    " testmetric=eval_metric[i]\n",
    " topn_feat=topfeat[testmetric][0]\n",
    " test_cols= ranked['Feature_name'].iloc[:(topn_feat)].values.tolist()\n",
    " train_x_cols,test_x_cols,train_y,test_y = train_test_split(x[test_cols],y,test_size=1/4, random_state=r)\n",
    " train_x_cols,val_x_cols,train_y,val_y= train_test_split(train_x_cols, train_y, test_size=1/3, random_state=r)\n",
    " model.fit(train_x_cols,train_y)\n",
    " test_pred_cols= model.predict(test_x_cols)\n",
    "\n",
    " topncollist.append(topn_feat)\n",
    " test_colslist.append(test_cols)\n",
    " rmsle1=rmsle(test_y,test_pred_cols)\n",
    " rmse1=rmse(test_y,test_pred_cols,squared=True)\n",
    " mae1=mae(test_y,test_pred_cols)\n",
    "    \n",
    " rmslelist.append(rmsle1)\n",
    " rmselist.append(rmse1)\n",
    " maelist.append(mae1)\n",
    " indexlist.append(i)\n",
    " print(\"the rmse score has top \"+str(topfeat[testmetric][0])+\" features (chosen by rfe) where the evaluation metric \"+str(testmetric)+\" reaches the lowest score: \"+str(topfeat[testmetric][1])+\" compared to other combination of feature used to make the model =\", rmse(val_y, test_pred_cols,squared=True),end= '\\n')\n",
    " predicted_wrt_evaluationmetrics.append(test_pred_cols)"
   ]
  },
  {
   "cell_type": "code",
   "execution_count": 154,
   "metadata": {},
   "outputs": [
    {
     "data": {
      "text/html": [
       "<div>\n",
       "<style scoped>\n",
       "    .dataframe tbody tr th:only-of-type {\n",
       "        vertical-align: middle;\n",
       "    }\n",
       "\n",
       "    .dataframe tbody tr th {\n",
       "        vertical-align: top;\n",
       "    }\n",
       "\n",
       "    .dataframe thead th {\n",
       "        text-align: right;\n",
       "    }\n",
       "</style>\n",
       "<table border=\"1\" class=\"dataframe\">\n",
       "  <thead>\n",
       "    <tr style=\"text-align: right;\">\n",
       "      <th></th>\n",
       "      <th>rmsle</th>\n",
       "      <th>rmse</th>\n",
       "      <th>mae</th>\n",
       "    </tr>\n",
       "  </thead>\n",
       "  <tbody>\n",
       "    <tr>\n",
       "      <th>topn cols (rfe) which minimizes respective column metric</th>\n",
       "      <td>13</td>\n",
       "      <td>13</td>\n",
       "      <td>13</td>\n",
       "    </tr>\n",
       "    <tr>\n",
       "      <th>name of above cols</th>\n",
       "      <td>[pickup_longitude, moy_dropof, moy_pickup, dro...</td>\n",
       "      <td>[pickup_longitude, moy_dropof, moy_pickup, dro...</td>\n",
       "      <td>[pickup_longitude, moy_dropof, moy_pickup, dro...</td>\n",
       "    </tr>\n",
       "    <tr>\n",
       "      <th>rmsle of model having above cols</th>\n",
       "      <td>0.750332</td>\n",
       "      <td>0.750332</td>\n",
       "      <td>0.750332</td>\n",
       "    </tr>\n",
       "    <tr>\n",
       "      <th>rmse of model having above cols</th>\n",
       "      <td>235065.777321</td>\n",
       "      <td>235065.777321</td>\n",
       "      <td>235065.777321</td>\n",
       "    </tr>\n",
       "    <tr>\n",
       "      <th>mae of model having above cols</th>\n",
       "      <td>383.141889</td>\n",
       "      <td>383.141889</td>\n",
       "      <td>383.141889</td>\n",
       "    </tr>\n",
       "  </tbody>\n",
       "</table>\n",
       "</div>"
      ],
      "text/plain": [
       "                                                                                                rmsle  \\\n",
       "topn cols (rfe) which minimizes respective colu...                                                 13   \n",
       "name of above cols                                  [pickup_longitude, moy_dropof, moy_pickup, dro...   \n",
       "rmsle of model having above cols                                                             0.750332   \n",
       "rmse of model having above cols                                                         235065.777321   \n",
       "mae of model having above cols                                                             383.141889   \n",
       "\n",
       "                                                                                                 rmse  \\\n",
       "topn cols (rfe) which minimizes respective colu...                                                 13   \n",
       "name of above cols                                  [pickup_longitude, moy_dropof, moy_pickup, dro...   \n",
       "rmsle of model having above cols                                                             0.750332   \n",
       "rmse of model having above cols                                                         235065.777321   \n",
       "mae of model having above cols                                                             383.141889   \n",
       "\n",
       "                                                                                                  mae  \n",
       "topn cols (rfe) which minimizes respective colu...                                                 13  \n",
       "name of above cols                                  [pickup_longitude, moy_dropof, moy_pickup, dro...  \n",
       "rmsle of model having above cols                                                             0.750332  \n",
       "rmse of model having above cols                                                         235065.777321  \n",
       "mae of model having above cols                                                             383.141889  "
      ]
     },
     "execution_count": 154,
     "metadata": {},
     "output_type": "execute_result"
    }
   ],
   "source": [
    "testtable=pd.DataFrame([topncollist,test_colslist, rmslelist,rmselist,maelist],index=['topn cols (rfe) which minimizes respective column metric','name of above cols','rmsle of model having above cols','rmse of model having above cols','mae of model having above cols'],columns=eval_metric)\n",
    "testtable"
   ]
  },
  {
   "cell_type": "code",
   "execution_count": 155,
   "metadata": {},
   "outputs": [
    {
     "name": "stdout",
     "output_type": "stream",
     "text": [
      "the model below has been predicted by topn cols (rfe) wrt to minimizing  rmsle\n"
     ]
    }
   ],
   "source": [
    "print(\"the model below has been predicted by topn cols (rfe) wrt to minimizing \", eval_metric[0],end='\\n')"
   ]
  },
  {
   "cell_type": "code",
   "execution_count": 156,
   "metadata": {},
   "outputs": [
    {
     "data": {
      "text/plain": [
       "array([ 758.50116282, 1259.14129971,  834.79486258,  765.15768112,\n",
       "        752.47719861,  735.17423145,  703.14002356,  717.59979536,\n",
       "        754.59789701,  737.42494489,  739.11904915,  353.46481095,\n",
       "        739.23501705,  778.87679961, 1148.86830427, 1188.82146415,\n",
       "        676.15166217,  751.81809196,  466.07405343,  754.47035235,\n",
       "        691.35042194,  730.24434446,  722.51789441,  743.63120555,\n",
       "       1477.49472992,  732.24795612,  705.68514433,  789.82419294,\n",
       "       1122.19502101,  742.04755369,  772.19960892,  707.57986541,\n",
       "        746.74850276,  795.12273179, 1311.40450593,  747.47571524,\n",
       "        720.77656635,  783.73624733,  724.53201505,  720.49755871,\n",
       "        728.28169296,  750.66222684,  743.61617368,  754.99217924,\n",
       "        699.58511042,  740.48772778, 1319.73828207,  696.25008345,\n",
       "       1533.94960697,  770.7651238 ,  678.95008119,  805.32660732,\n",
       "        747.20588047,  725.85708497, 1582.89496182,  731.46109326,\n",
       "        758.84313667,  751.45083659,  753.18828978,  727.34738528,\n",
       "        718.55408966,  795.87431161,  756.82616368,  754.70932117,\n",
       "        770.31296828,  753.63483861,  723.11853697, 1330.11249141,\n",
       "        744.76516471,  775.832844  , 1051.39389685,  774.01966385,\n",
       "        767.33491546,  764.33595492,  692.29185128,  724.13369984,\n",
       "        700.17007996,  769.40839967,  664.12079196,  700.45051263,\n",
       "        735.87155693, 1184.95405323,  747.45742895,  767.99996691,\n",
       "        757.65755469,  742.34497494,  957.75322104,  734.68589694,\n",
       "        718.20611689,  764.97007379, 1679.40090389,  726.06112571,\n",
       "        703.65829255,  725.57573638,  779.23398595,  718.12317142,\n",
       "        685.0689231 ,  781.42945424,  721.3299097 ,  757.03374288])"
      ]
     },
     "execution_count": 156,
     "metadata": {},
     "output_type": "execute_result"
    }
   ],
   "source": [
    "predicted_wrt_evaluationmetrics[0][0:100]"
   ]
  },
  {
   "cell_type": "code",
   "execution_count": 157,
   "metadata": {},
   "outputs": [
    {
     "name": "stdout",
     "output_type": "stream",
     "text": [
      "the model below has been predicted by topn cols (rfe) wrt to minimizing  rmse\n"
     ]
    }
   ],
   "source": [
    "print(\"the model below has been predicted by topn cols (rfe) wrt to minimizing \", eval_metric[1],end='\\n')"
   ]
  },
  {
   "cell_type": "code",
   "execution_count": 158,
   "metadata": {},
   "outputs": [
    {
     "data": {
      "text/plain": [
       "array([ 758.50116282, 1259.14129971,  834.79486258,  765.15768112,\n",
       "        752.47719861,  735.17423145,  703.14002356,  717.59979536,\n",
       "        754.59789701,  737.42494489,  739.11904915,  353.46481095,\n",
       "        739.23501705,  778.87679961, 1148.86830427, 1188.82146415,\n",
       "        676.15166217,  751.81809196,  466.07405343,  754.47035235,\n",
       "        691.35042194,  730.24434446,  722.51789441,  743.63120555,\n",
       "       1477.49472992,  732.24795612,  705.68514433,  789.82419294,\n",
       "       1122.19502101,  742.04755369,  772.19960892,  707.57986541,\n",
       "        746.74850276,  795.12273179, 1311.40450593,  747.47571524,\n",
       "        720.77656635,  783.73624733,  724.53201505,  720.49755871,\n",
       "        728.28169296,  750.66222684,  743.61617368,  754.99217924,\n",
       "        699.58511042,  740.48772778, 1319.73828207,  696.25008345,\n",
       "       1533.94960697,  770.7651238 ,  678.95008119,  805.32660732,\n",
       "        747.20588047,  725.85708497, 1582.89496182,  731.46109326,\n",
       "        758.84313667,  751.45083659,  753.18828978,  727.34738528,\n",
       "        718.55408966,  795.87431161,  756.82616368,  754.70932117,\n",
       "        770.31296828,  753.63483861,  723.11853697, 1330.11249141,\n",
       "        744.76516471,  775.832844  , 1051.39389685,  774.01966385,\n",
       "        767.33491546,  764.33595492,  692.29185128,  724.13369984,\n",
       "        700.17007996,  769.40839967,  664.12079196,  700.45051263,\n",
       "        735.87155693, 1184.95405323,  747.45742895,  767.99996691,\n",
       "        757.65755469,  742.34497494,  957.75322104,  734.68589694,\n",
       "        718.20611689,  764.97007379, 1679.40090389,  726.06112571,\n",
       "        703.65829255,  725.57573638,  779.23398595,  718.12317142,\n",
       "        685.0689231 ,  781.42945424,  721.3299097 ,  757.03374288])"
      ]
     },
     "execution_count": 158,
     "metadata": {},
     "output_type": "execute_result"
    }
   ],
   "source": [
    "predicted_wrt_evaluationmetrics[1][0:100]"
   ]
  },
  {
   "cell_type": "code",
   "execution_count": 159,
   "metadata": {},
   "outputs": [
    {
     "name": "stdout",
     "output_type": "stream",
     "text": [
      "the model below has been predicted by topn cols (rfe) wrt to minimizing  mae\n"
     ]
    }
   ],
   "source": [
    "print(\"the model below has been predicted by topn cols (rfe) wrt to minimizing \", eval_metric[2],end='\\n')"
   ]
  },
  {
   "cell_type": "code",
   "execution_count": 160,
   "metadata": {},
   "outputs": [
    {
     "data": {
      "text/plain": [
       "array([ 758.50116282, 1259.14129971,  834.79486258,  765.15768112,\n",
       "        752.47719861,  735.17423145,  703.14002356,  717.59979536,\n",
       "        754.59789701,  737.42494489,  739.11904915,  353.46481095,\n",
       "        739.23501705,  778.87679961, 1148.86830427, 1188.82146415,\n",
       "        676.15166217,  751.81809196,  466.07405343,  754.47035235,\n",
       "        691.35042194,  730.24434446,  722.51789441,  743.63120555,\n",
       "       1477.49472992,  732.24795612,  705.68514433,  789.82419294,\n",
       "       1122.19502101,  742.04755369,  772.19960892,  707.57986541,\n",
       "        746.74850276,  795.12273179, 1311.40450593,  747.47571524,\n",
       "        720.77656635,  783.73624733,  724.53201505,  720.49755871,\n",
       "        728.28169296,  750.66222684,  743.61617368,  754.99217924,\n",
       "        699.58511042,  740.48772778, 1319.73828207,  696.25008345,\n",
       "       1533.94960697,  770.7651238 ,  678.95008119,  805.32660732,\n",
       "        747.20588047,  725.85708497, 1582.89496182,  731.46109326,\n",
       "        758.84313667,  751.45083659,  753.18828978,  727.34738528,\n",
       "        718.55408966,  795.87431161,  756.82616368,  754.70932117,\n",
       "        770.31296828,  753.63483861,  723.11853697, 1330.11249141,\n",
       "        744.76516471,  775.832844  , 1051.39389685,  774.01966385,\n",
       "        767.33491546,  764.33595492,  692.29185128,  724.13369984,\n",
       "        700.17007996,  769.40839967,  664.12079196,  700.45051263,\n",
       "        735.87155693, 1184.95405323,  747.45742895,  767.99996691,\n",
       "        757.65755469,  742.34497494,  957.75322104,  734.68589694,\n",
       "        718.20611689,  764.97007379, 1679.40090389,  726.06112571,\n",
       "        703.65829255,  725.57573638,  779.23398595,  718.12317142,\n",
       "        685.0689231 ,  781.42945424,  721.3299097 ,  757.03374288])"
      ]
     },
     "execution_count": 160,
     "metadata": {},
     "output_type": "execute_result"
    }
   ],
   "source": [
    "predicted_wrt_evaluationmetrics[2][0:100]"
   ]
  },
  {
   "cell_type": "markdown",
   "metadata": {},
   "source": [
    "## all columns"
   ]
  },
  {
   "cell_type": "code",
   "execution_count": 161,
   "metadata": {},
   "outputs": [],
   "source": [
    "model.fit(train_x,train_y)\n",
    "test_pred = model.predict(test_x)\n"
   ]
  },
  {
   "cell_type": "code",
   "execution_count": 162,
   "metadata": {},
   "outputs": [
    {
     "data": {
      "text/plain": [
       "0.750235211588318"
      ]
     },
     "execution_count": 162,
     "metadata": {},
     "output_type": "execute_result"
    }
   ],
   "source": [
    "rmsle(test_y,test_pred)"
   ]
  },
  {
   "cell_type": "code",
   "execution_count": 163,
   "metadata": {},
   "outputs": [
    {
     "data": {
      "text/plain": [
       "235042.24983440764"
      ]
     },
     "execution_count": 163,
     "metadata": {},
     "output_type": "execute_result"
    }
   ],
   "source": [
    "rmse(test_y,test_pred,squared=True)"
   ]
  },
  {
   "cell_type": "code",
   "execution_count": 164,
   "metadata": {},
   "outputs": [
    {
     "data": {
      "text/plain": [
       "383.1155344524509"
      ]
     },
     "execution_count": 164,
     "metadata": {},
     "output_type": "execute_result"
    }
   ],
   "source": [
    "mae(test_y,test_pred)"
   ]
  }
 ],
 "metadata": {
  "colab": {
   "collapsed_sections": [],
   "name": "Logistic regression Notebook.ipynb",
   "provenance": [],
   "version": "0.3.2"
  },
  "kernelspec": {
   "display_name": "Python 3",
   "language": "python",
   "name": "python3"
  },
  "language_info": {
   "codemirror_mode": {
    "name": "ipython",
    "version": 3
   },
   "file_extension": ".py",
   "mimetype": "text/x-python",
   "name": "python",
   "nbconvert_exporter": "python",
   "pygments_lexer": "ipython3",
   "version": "3.8.8"
  }
 },
 "nbformat": 4,
 "nbformat_minor": 1
}
